{
 "cells": [
  {
   "cell_type": "code",
   "execution_count": null,
   "metadata": {},
   "outputs": [],
   "source": [
    "import sys\n",
    "sys.path"
   ]
  },
  {
   "cell_type": "code",
   "execution_count": null,
   "metadata": {},
   "outputs": [],
   "source": [
    "import os\n",
    "os.getcwd()"
   ]
  },
  {
   "cell_type": "code",
   "execution_count": null,
   "metadata": {},
   "outputs": [],
   "source": [
    "from gamepy.game import Game\n",
    "\n",
    "# prisioner's dilemma\n",
    "game = Game(\n",
    "    [\"Alice\", \"Bob\"],\n",
    "    [[\"C\",\"D\"],[\"C\",\"D\"]],\n",
    "    {(\"C\",\"C\"):(3,3), (\"C\",\"D\"):(0,5), \n",
    "     (\"D\",\"C\"):(5,0), (\"D\",\"D\"):(1,1)}\n",
    ")\n",
    "Alice, Bob = game.players"
   ]
  },
  {
   "cell_type": "code",
   "execution_count": null,
   "metadata": {},
   "outputs": [],
   "source": [
    "Game.payoff(Alice, Bob) "
   ]
  },
  {
   "cell_type": "code",
   "execution_count": null,
   "metadata": {},
   "outputs": [],
   "source": [
    "game = Game()\n",
    "game_id = \"g-1\"\n",
    "\n",
    "selected_game = game_menu[game_id]   \n",
    "game = Game(\n",
    "    selected_game[\"players\"],\n",
    "    selected_game[\"actions\"],\n",
    "    selected_game[\"payoffs\"]\n",
    "\n",
    "\n",
    ")"
   ]
  },
  {
   "cell_type": "code",
   "execution_count": null,
   "metadata": {},
   "outputs": [],
   "source": [
    "from gamepy.gamemenu.menu import menus\n",
    "\n",
    "class Games:\n",
    "    menus = menus\n",
    "    def __init__(self):\n",
    "        pass"
   ]
  },
  {
   "cell_type": "code",
   "execution_count": null,
   "metadata": {},
   "outputs": [],
   "source": [
    "from gamepy.gamemenu.menu import menus"
   ]
  },
  {
   "cell_type": "code",
   "execution_count": null,
   "metadata": {},
   "outputs": [],
   "source": [
    "from gamepy.game import Game\n",
    "\n",
    "# prisioner's dilemma\n",
    "game = Game(\n",
    "    [\"player1\", \"player2\"],\n",
    "    [[\"C\",\"D\"],[\"C\",\"D\"]],\n",
    "    {(\"C\",\"C\"):(3,3), (\"C\",\"D\"):(0,5), \n",
    "     (\"D\",\"C\"):(5,0), (\"D\",\"D\"):(1,1)}\n",
    ")\n",
    "Alice, Bob = game.players\n",
    "\n",
    "game2 = Game(\n",
    "    [\"player1\", \"player2\"],\n",
    "    [[\"P\",\"S\",\"R\"],[\"P\",\"S\",\"R\"]],\n",
    "    {(\"P\",\"P\"):(0,0), (\"P\",\"S\"):(-1,1), (\"P\",\"R\"):(1,-1),\n",
    "     (\"S\",\"P\"):(1,-1), (\"S\",\"S\"):(0,0), (\"S\",\"R\"):(-1,1),\n",
    "     (\"R\",\"P\"):(-1,1), (\"R\",\"S\"):(1,-1), (\"R\",\"R\"):(0,0)}\n",
    ")\n",
    "Alice2, Bob2 = game2.players"
   ]
  },
  {
   "cell_type": "code",
   "execution_count": null,
   "metadata": {},
   "outputs": [],
   "source": [
    "Alice2, Bob2"
   ]
  },
  {
   "cell_type": "code",
   "execution_count": null,
   "metadata": {},
   "outputs": [],
   "source": [
    "from gamepy.game import Game\n",
    "from gamepy.gamemenu.menu import menus\n",
    "\n",
    "# a prototype\n",
    "class Games:\n",
    "    menus = menus\n",
    "    def __init__(self):\n",
    "        pass"
   ]
  },
  {
   "cell_type": "code",
   "execution_count": null,
   "metadata": {},
   "outputs": [],
   "source": [
    "\n",
    "SAMPLE_SPREADSHEET_ID= \"https://docs.google.com/spreadsheets/d/1NskFAHyHtZPZreSRv9rSncCn3JukWV2g9g4ya3my-yc/edit?usp=sharing\"\n",
    "SAMPLE_RANGE_NAME = \"A1:G\""
   ]
  },
  {
   "cell_type": "code",
   "execution_count": null,
   "metadata": {},
   "outputs": [],
   "source": [
    "import os.path\n",
    "os.getcwd()\n",
    "\n",
    "from google.auth.transport.requests import Request\n",
    "from google.oauth2.credentials import Credentials\n",
    "from google_auth_oauthlib.flow import InstalledAppFlow\n",
    "from googleapiclient.discovery import build\n",
    "from googleapiclient.errors import HttpError\n",
    "\n",
    "# If modifying these scopes, delete the file token.json.\n",
    "SCOPES = [\"https://www.googleapis.com/auth/spreadsheets.readonly\"]\n",
    "\n",
    "# The ID and range of a sample spreadsheet.\n",
    "SAMPLE_SPREADSHEET_ID = \"1BxiMVs0XRA5nFMdKvBdBZjgmUUqptlbs74OgvE2upms\"\n",
    "SAMPLE_RANGE_NAME = \"Class Data!A2:E\"\n",
    "\n",
    "\n",
    "def main():\n",
    "  \"\"\"Shows basic usage of the Sheets API.\n",
    "  Prints values from a sample spreadsheet.\n",
    "  \"\"\"\n",
    "  creds = None\n",
    "  # The file token.json stores the user's access and refresh tokens, and is\n",
    "  # created automatically when the authorization flow completes for the first\n",
    "  # time.\n",
    "  if os.path.exists(\"token.json\"):\n",
    "    creds = Credentials.from_authorized_user_file(\"token.json\", SCOPES)\n",
    "  # If there are no (valid) credentials available, let the user log in.\n",
    "  if not creds or not creds.valid:\n",
    "    if creds and creds.expired and creds.refresh_token:\n",
    "      creds.refresh(Request())\n",
    "    else:\n",
    "      flow = InstalledAppFlow.from_client_secrets_file(\n",
    "          \"credentials.json\", SCOPES\n",
    "      )\n",
    "      creds = flow.run_local_server(port=0)\n",
    "    # Save the credentials for the next run\n",
    "    with open(\"token.json\", \"w\") as token:\n",
    "      token.write(creds.to_json())\n",
    "\n",
    "  try:\n",
    "    service = build(\"sheets\", \"v4\", credentials=creds)\n",
    "\n",
    "    # Call the Sheets API\n",
    "    sheet = service.spreadsheets()\n",
    "    result = (\n",
    "        sheet.values()\n",
    "        .get(spreadsheetId=SAMPLE_SPREADSHEET_ID, range=SAMPLE_RANGE_NAME)\n",
    "        .execute()\n",
    "    )\n",
    "    values = result.get(\"values\", [])\n",
    "\n",
    "    if not values:\n",
    "      print(\"No data found.\")\n",
    "      return\n",
    "\n",
    "    print(\"Name, Major:\")\n",
    "    for row in values:\n",
    "      # Print columns A and E, which correspond to indices 0 and 4.\n",
    "      print(f\"{row[0]}, {row[4]}\")\n",
    "  except HttpError as err:\n",
    "    print(err)\n",
    "\n",
    "\n",
    "if __name__ == \"__main__\":\n",
    "  main()\n",
    "### \n",
    "\n",
    "###如果有要改scope的話，要刪除token.json  重新跑一次"
   ]
  },
  {
   "cell_type": "code",
   "execution_count": null,
   "metadata": {},
   "outputs": [],
   "source": [
    "from google.auth.transport.requests import Request\n",
    "from google.oauth2.credentials import Credentials\n",
    "from google_auth_oauthlib.flow import InstalledAppFlow\n",
    "from googleapiclient.discovery import build\n",
    "from googleapiclient.errors import HttpError\n",
    "\n",
    "# If modifying these scopes, delete the file token.json.\n",
    "SCOPES = [\"https://www.googleapis.com/auth/spreadsheets.readonly\"]\n",
    "\n",
    "# The ID and range of your spreadsheet.\n",
    "SAMPLE_SPREADSHEET_ID = \"1NskFAHyHtZPZreSRv9rSncCn3JukWV2g9g4ya3my-yc\"\n",
    "SAMPLE_RANGE_NAME = \"Sheet1!A2:E5\"  # 假設您想要從 'Sheet1' 的 A2 到 E5 讀取數據\n",
    "\n",
    "\n",
    "\n",
    "def main():\n",
    "  \"\"\"Shows basic usage of the Sheets API.\n",
    "  Prints values from a sample spreadsheet.\n",
    "  \"\"\"\n",
    "  creds = None\n",
    "  # The file token.json stores the user's access and refresh tokens, and is\n",
    "  # created automatically when the authorization flow completes for the first\n",
    "  # time.\n",
    "  if os.path.exists(\"token.json\"):\n",
    "    creds = Credentials.from_authorized_user_file(\"token.json\", SCOPES)\n",
    "  # If there are no (valid) credentials available, let the user log in.\n",
    "  if not creds or not creds.valid:\n",
    "    if creds and creds.expired and creds.refresh_token:\n",
    "      creds.refresh(Request())\n",
    "    else:\n",
    "      flow = InstalledAppFlow.from_client_secrets_file(\n",
    "          \"credentials.json\", SCOPES\n",
    "      )\n",
    "      creds = flow.run_local_server(port=0)\n",
    "    # Save the credentials for the next run\n",
    "    with open(\"token.json\", \"w\") as token:\n",
    "      token.write(creds.to_json())\n",
    "\n",
    "  try:\n",
    "    service = build(\"sheets\", \"v4\", credentials=creds)\n",
    "\n",
    "    # Call the Sheets API\n",
    "    sheet = service.spreadsheets()\n",
    "    result = (\n",
    "        sheet.values()\n",
    "        .get(spreadsheetId=SAMPLE_SPREADSHEET_ID, range=SAMPLE_RANGE_NAME)\n",
    "        .execute()\n",
    "    )\n",
    "    values = result.get(\"values\", [])\n",
    "    print(values)\n",
    "    if not values:\n",
    "      print(\"No data found.\")\n",
    "      return\n",
    "\n",
    "    print(\"Name, Major:\")\n",
    "    for row in values:\n",
    "      # Print columns A and E, which correspond to indices 0 and 4.\n",
    "      print(f\"{row[0]}, {row[4]}\")\n",
    "  except HttpError as err:\n",
    "    print(err)\n"
   ]
  },
  {
   "cell_type": "code",
   "execution_count": null,
   "metadata": {},
   "outputs": [],
   "source": [
    "\n",
    "##beta and alpha 是一開始就要設定參intialize    \n",
    "class Consumer_LogUtility:\n",
    "    def __init__(self, beta):\n",
    "        self.beta = beta\n",
    "    def foc_c(self, knext: float, w: float, R: float): # (23.6b)\n",
    "        \"\"\"\n",
    "        First order condition of the consumer's problem\n",
    "        (knext, w, R)\n",
    "        \"\"\"\n",
    "        return knext - (self.beta/(1+self.beta))*w\n",
    "\n",
    "class Producer_cobbDouglas:\n",
    "    def __init__(self, alpha):\n",
    "        self.alpha = alpha\n",
    "    def foc_l(self, k, w, l=1): # (23.9)\n",
    "        \"\"\" \n",
    "        FOC with respect to labor\n",
    "        (k, l, w)\n",
    "        \"\"\"\n",
    "        return (1-self.alpha)*(k/l)**self.alpha - w\n",
    "    def foc_k(self, k, R, l=1): # (23.9)\n",
    "        \"\"\"\n",
    "        FOC with respect to capital\n",
    "        (k, l, R)\n",
    "        \"\"\"\n",
    "        return self.alpha*(l/k)**(1-self.alpha) - R"
   ]
  },
  {
   "cell_type": "code",
   "execution_count": null,
   "metadata": {},
   "outputs": [],
   "source": [
    "consumer_logutility = Consumer_LogUtility(beta=0.9)\n",
    "consumer_logutility.foc_c(knext=1, w=1, R=1)"
   ]
  },
  {
   "cell_type": "code",
   "execution_count": null,
   "metadata": {},
   "outputs": [],
   "source": [
    "class OLGMarket:\n",
    "    def __init__(self, consumer, producer, k0):\n",
    "        self.consumer = consumer # composite 1\n",
    "        self.producer = producer # composite 2\n",
    "        self.k0 = k0\n",
    "        self.k = k0\n",
    "        self.equilibrium_dynamics = [[k0, None, None]]\n",
    "    def generate_onePeriod_equilibrium(self):\n",
    "        \"\"\"\n",
    "        return a tuple of (knext, w, R)\n",
    "        and track the dynamics in self.equilibrium_dynamics\n",
    "        \"\"\" # docstring: documentation string\n",
    "        \n",
    "        alpha = self.producer.alpha\n",
    "        beta = self.consumer.beta\n",
    "\n",
    "        w = (1-alpha)*self.k**alpha\n",
    "        R = alpha*(self.k)**(alpha-1)\n",
    "        knext = (beta/(1+beta))*w\n",
    "\n",
    "        # keep track of the dynamics\n",
    "        self.equilibrium_dynamics[len(self.equilibrium_dynamics)-1][1] = w\n",
    "        self.equilibrium_dynamics[len(self.equilibrium_dynamics)-1][2] = R\n",
    "        self.equilibrium_dynamics.append([knext, None, None])\n",
    "\n",
    "        # set the market time to the next period\n",
    "        self.k = knext\n",
    "        return (knext, w, R)\n",
    "    \n",
    "    def clear_equilibrium_dynamics(self):\n",
    "        self.equilibrium_dynamics = [[self.k0, None, None]]\n",
    "        self.k = self.k0"
   ]
  },
  {
   "cell_type": "code",
   "execution_count": null,
   "metadata": {},
   "outputs": [],
   "source": [
    "olg=OLGMarket( Consumer_LogUtility(beta=0.2), Producer_cobbDouglas(alpha=0.3), k0=0.8)\n",
    "olg.generate_onePeriod_equilibrium()\n",
    "olg.clear_equilibrium_dynamics()"
   ]
  },
  {
   "cell_type": "code",
   "execution_count": null,
   "metadata": {},
   "outputs": [],
   "source": [
    "class Dog:\n",
    "    def __init__(self, name, age):\n",
    "        self.name = name\n",
    "        self.age = age\n",
    "\n",
    "    def bark(self):\n",
    "        return f\"{self.name} says woof!\"\n",
    "\n",
    "# 創建 Dog 類的實例\n",
    "my_dog = Dog(name=\"Buddy\", age=3)\n",
    "\n",
    "# 使用實例的屬性和方法\n",
    "print(f\"My dog's name is {my_dog.name} and he is {my_dog.age} years old.\")\n",
    "print(my_dog.bark())\n"
   ]
  },
  {
   "cell_type": "markdown",
   "metadata": {},
   "source": [
    "Packing is to pack all non-key-value-pair argument values into a tuple."
   ]
  },
  {
   "cell_type": "code",
   "execution_count": null,
   "metadata": {},
   "outputs": [],
   "source": [
    "import numpy as np  \n",
    "\n",
    "class AR_Model:\n",
    "    def __init__(self, *phi, epsilon, Y0):\n",
    "        self.phi = np.array(phi)\n",
    "        self.epsilon = epsilon\n",
    "        self.Y0 = np.array(Y0)\n",
    "        self.memory = np.array([])\n",
    "        self.YPast = np.array(self.Y0)\n",
    "    ## helper functions  \n",
    "    def simulate_onePeriod(ar, eps):\n",
    "        y_onePeriod_ahead = ar.phi@ar.YPast + eps\n",
    "        ar.YPast = np.append(y_onePeriod_ahead, ar.YPast[:-1])\n",
    "        ar.memory = np.append(ar.memory, y_onePeriod_ahead)\n",
    "    def Epsilon(mu , sigma):\n",
    "        def draw (size):\n",
    "         return np.random.normal(mu, sigma, size)\n",
    "        return draw\n"
   ]
  },
  {
   "cell_type": "code",
   "execution_count": null,
   "metadata": {},
   "outputs": [],
   "source": [
    "import numpy as np  \n",
    "\n",
    "class AR_Model:\n",
    "    def __init__(self, *phi, epsilon, Y0):\n",
    "        self.phi = np.array(phi)\n",
    "        self.epsilon = epsilon\n",
    "        self.Y0 = np.array(Y0)\n",
    "        self.memory = np.array([])\n",
    "        self.YPast = np.array(self.Y0)\n",
    "    ## helper functions  \n",
    "    def simulate_onePeriod(ar, eps):\n",
    "       y_onePeriod_ahead = ar.phi@ar.YPast + eps\n",
    "       ar.YPast = np.append(y_onePeriod_ahead, ar.YPast[:-1])\n",
    "       ar.memory = np.append(ar.memory, y_onePeriod_ahead)\n",
    "    \n",
    "    def simulate_NPeriods(ar, N):\n",
    "        for i in range(N):\n",
    "            eps = ar.epsilon(i)\n",
    "            ar.simulate_onePeriod(eps)\n",
    "\n",
    "    def Epsilon(mu , sigma):\n",
    "        def draw (size):\n",
    "         return np.random.normal(mu, sigma, size)\n",
    "        return draw"
   ]
  },
  {
   "cell_type": "code",
   "execution_count": null,
   "metadata": {},
   "outputs": [],
   "source": [
    "ar = AR_Model(0.5,-0.2, epsilon=AR_Model.Epsilon(0, 1), Y0=[0,0])\n",
    "ar.simulate_NPeriods(100)\n",
    "ar.memory\n"
   ]
  },
  {
   "cell_type": "code",
   "execution_count": null,
   "metadata": {},
   "outputs": [],
   "source": [
    "epsilon = AR_Model.Epsilon(mu=0, sigma=1)\n",
    "ar = AR_Model(0.5, 0.2, epsilon=epsilon, Y0=[0, 0])\n",
    "ar.epsilon(10)"
   ]
  },
  {
   "cell_type": "code",
   "execution_count": null,
   "metadata": {},
   "outputs": [],
   "source": [
    "ar.simulate_onePeriod(ar.epsilon(1))\n"
   ]
  },
  {
   "cell_type": "code",
   "execution_count": null,
   "metadata": {},
   "outputs": [],
   "source": [
    "\n",
    "print(ar.YPast) , \n",
    "print(ar.memory)    "
   ]
  },
  {
   "cell_type": "code",
   "execution_count": null,
   "metadata": {},
   "outputs": [],
   "source": [
    "import numpy as np  \n",
    "\n",
    "class AR:\n",
    "    def __init__(self, *phi, epsilon, Y0):\n",
    "        self.phi = np.array(phi)\n",
    "        self.epsilon = epsilon\n",
    "        self.Y0 = np.array(Y0)\n",
    "        self.memory = np.array([])\n",
    "        self.YPast = np.array(self.Y0)"
   ]
  },
  {
   "cell_type": "code",
   "execution_count": null,
   "metadata": {},
   "outputs": [],
   "source": [
    "def simulate_onePeriod(ar, eps):\n",
    "    # Simulate one period of ar process\n",
    "    y_onePeriod_ahead = ar.phi@ar.YPast + eps\n",
    "\n",
    "    # Update YPast\n",
    "    ar.YPast = np.append(y_onePeriod_ahead, ar.YPast[:-1])\n",
    "\n",
    "    ## append the new element to the memory\n",
    "    ar.memory = np.append(ar.memory, y_onePeriod_ahead)\n",
    "\n",
    "eps = ar.epsilon(1)\n",
    "ar = AR(0.8, -0.35, epsilon=epsilon, Y0=[0,0])\n",
    "ar.memory"
   ]
  },
  {
   "cell_type": "markdown",
   "metadata": {},
   "source": []
  },
  {
   "cell_type": "code",
   "execution_count": null,
   "metadata": {},
   "outputs": [],
   "source": [
    "np.random.seed(123)\n",
    "def Epsilon(mu , sigma):\n",
    "    def draw (size):\n",
    "         return np.random.normal(mu, sigma, size)\n",
    "    return draw\n",
    "\n",
    "epsilon = Epsilon(mu=0, sigma=1)\n",
    "epsilon(10)"
   ]
  },
  {
   "cell_type": "code",
   "execution_count": null,
   "metadata": {},
   "outputs": [],
   "source": []
  },
  {
   "cell_type": "code",
   "execution_count": null,
   "metadata": {},
   "outputs": [],
   "source": [
    "ar = AR_Model(0.5, 0.5, epsilon=epsilon, y0=[0, 0])  \n",
    "ar.memory\n",
    "ar.ypast\n",
    "ar.phi"
   ]
  },
  {
   "cell_type": "code",
   "execution_count": null,
   "metadata": {},
   "outputs": [],
   "source": [
    "ar.epsilon"
   ]
  },
  {
   "cell_type": "code",
   "execution_count": null,
   "metadata": {},
   "outputs": [],
   "source": [
    "ar.epsilon(10)"
   ]
  },
  {
   "cell_type": "code",
   "execution_count": null,
   "metadata": {},
   "outputs": [],
   "source": [
    "def test(*args, epsilon):\n",
    "    print(args)\n",
    "    print(epsilon)\n",
    "\n",
    "test(1,2,3, epsilon=\"Hi\")"
   ]
  },
  {
   "cell_type": "code",
   "execution_count": null,
   "metadata": {},
   "outputs": [],
   "source": [
    "eps  = ar.epsilon(1)\n",
    "y_oneperiod = ar.phi[0]*ar.ypast[-1] + ar.phi[1]*ar.ypast[-2] + eps\n",
    "ar.ypast = np.append(ar.ypast, y_oneperiod) \n",
    "y_oneperiod , ar.ypast"
   ]
  },
  {
   "cell_type": "code",
   "execution_count": null,
   "metadata": {},
   "outputs": [],
   "source": [
    "y_oneperiod = ar.phi @ ar.ypast[-2:] + eps\n",
    "y_oneperiod\n",
    "## -2: 代表最後兩個 "
   ]
  },
  {
   "cell_type": "code",
   "execution_count": null,
   "metadata": {},
   "outputs": [],
   "source": [
    "ar.ypast[-2:]"
   ]
  },
  {
   "cell_type": "code",
   "execution_count": null,
   "metadata": {},
   "outputs": [],
   "source": [
    "import sympy as sp\n",
    "\n",
    "# Define the CES utility function\n",
    "def CES_utility(x, alpha, rho):\n",
    "    \"\"\"\n",
    "    Compute the CES utility function for a given set of goods `x`, share parameters `alpha`, \n",
    "    and elasticity of substitution `rho`.\n",
    "    \n",
    "    :param x: List of quantities of goods\n",
    "    :param alpha: List of share parameters for goods\n",
    "    :param rho: Elasticity of substitution\n",
    "    :return: Computed utility\n",
    "    \"\"\"\n",
    "    # Ensure that the number of goods and share parameters match\n",
    "    if len(x) != len(alpha):\n",
    "        raise ValueError(\"The number of goods and number of share parameters must be equal.\")\n",
    "    \n",
    "    # Calculate the utility\n",
    "    utility = sum(alpha_i * x_i**rho for alpha_i, x_i in zip(alpha, x))**(1/rho)\n",
    "    return utility\n",
    "\n",
    "# Define the parameters for the two examples\n",
    "alpha_1 = [0.3, 0.4, 0.3]\n",
    "rho_1 = 2\n",
    "goods_1 = [2, 4, 5]\n",
    "\n",
    "alpha_2 = [0.2, 0.2, 0.3, 0.3]\n",
    "rho_2 = 2\n",
    "goods_2 = [1, 2, 2, 1]\n",
    "\n",
    "# Compute the utility for the two examples\n",
    "utility_1 = CES_utility(goods_1, alpha_1, rho_1)\n",
    "utility_2 = CES_utility(goods_2, alpha_2, rho_2)\n",
    "\n",
    "utility_1, utility_2\n"
   ]
  },
  {
   "cell_type": "code",
   "execution_count": 21,
   "metadata": {},
   "outputs": [],
   "source": [
    "##要有玩家 \n",
    "## 玩家的策略組合\n",
    "## 玩家玩的策略\n",
    "\n",
    "class Player:\n",
    "    def __init__(self, name, strategy: list[str]):\n",
    "        self.name = name\n",
    "        self.strategy = strategy\n",
    "        self.played_strategy = play_method\n",
    "    def play(self, played_strategy):\n",
    "        play_method(self, played_strategy)\n",
    "\n",
    "#helper functions   \n",
    "def play_method(play, played_strategy):\n",
    "    play.played_strategy = played_strategy"
   ]
  },
  {
   "cell_type": "code",
   "execution_count": 22,
   "metadata": {},
   "outputs": [
    {
     "data": {
      "text/plain": [
       "<function __main__.play_method(play, played_strategy)>"
      ]
     },
     "execution_count": 22,
     "metadata": {},
     "output_type": "execute_result"
    }
   ],
   "source": [
    "player1 = Player(name=\"Alice\", strategy=[\"C\", \"D\"])\n",
    "player1.strategy\n",
    "player1.played_strategy"
   ]
  },
  {
   "cell_type": "code",
   "execution_count": 27,
   "metadata": {},
   "outputs": [
    {
     "data": {
      "text/plain": [
       "['C', 'D']"
      ]
     },
     "execution_count": 27,
     "metadata": {},
     "output_type": "execute_result"
    }
   ],
   "source": [
    "player2 = Player(name=\"Bob\", strategy=[\"C\", \"D\"])\n",
    "player2.strategy\n"
   ]
  },
  {
   "cell_type": "code",
   "execution_count": 28,
   "metadata": {},
   "outputs": [
    {
     "data": {
      "text/plain": [
       "<function __main__.play_method(play, played_strategy)>"
      ]
     },
     "execution_count": 28,
     "metadata": {},
     "output_type": "execute_result"
    }
   ],
   "source": [
    "player2.played_strategy"
   ]
  },
  {
   "cell_type": "code",
   "execution_count": 24,
   "metadata": {},
   "outputs": [
    {
     "name": "stdout",
     "output_type": "stream",
     "text": [
      "None\n"
     ]
    }
   ],
   "source": [
    "print(Player.play(player1, \"C\")  ) \n"
   ]
  },
  {
   "cell_type": "code",
   "execution_count": 25,
   "metadata": {},
   "outputs": [
    {
     "name": "stdout",
     "output_type": "stream",
     "text": [
      "None\n"
     ]
    }
   ],
   "source": [
    "print(play_method(player1, \"C\"))"
   ]
  },
  {
   "cell_type": "code",
   "execution_count": null,
   "metadata": {},
   "outputs": [],
   "source": []
  },
  {
   "cell_type": "code",
   "execution_count": 29,
   "metadata": {},
   "outputs": [],
   "source": [
    "class Game:\n",
    "    def __init__(self,player1, player2 , payoff_function: dict):\n",
    "        self.players = [player1,  player2]\n",
    "        self.payoff_function = payoff_function\n",
    "    def payoff(self,player1, player2 ):\n",
    "        return self.payoff_function[(player1.played_strategy, player2.played_strategy)]\n",
    "        \n",
    "def payoff_func(strategies: tuple[str, str]) -> tuple[float, float]:\n",
    "    return payoffMatrix[strategies]   "
   ]
  },
  {
   "cell_type": "code",
   "execution_count": 1,
   "metadata": {},
   "outputs": [],
   "source": []
  },
  {
   "cell_type": "code",
   "execution_count": 2,
   "metadata": {},
   "outputs": [],
   "source": [
    "alice = Player(\"Alice\", ['C', 'D'])\n",
    "bob = Player(\"Bob\", ['C', 'D'])"
   ]
  },
  {
   "cell_type": "code",
   "execution_count": 4,
   "metadata": {},
   "outputs": [],
   "source": []
  },
  {
   "cell_type": "code",
   "execution_count": 1,
   "metadata": {},
   "outputs": [],
   "source": [
    "class Player:\n",
    "    def __init__(self, name: str, strategies: list[str]):\n",
    "        self.name = name\n",
    "        self.strategies = strategies\n",
    "        self.played_strategy = None\n",
    "    def play(self, played_strategy):\n",
    "        play_method(self, played_strategy)\n",
    "\n",
    "class Game:\n",
    "    def __init__(self, player1, player2, payoff_function):\n",
    "        self.players = [player1, player2]\n",
    "        self.payoff_function = payoff_function\n",
    "    def payoff(self):\n",
    "        payoff(self)\n",
    "\n",
    "# helper function\n",
    "def payoff(game):\n",
    "    played_strategies = game.players[0].played_strategy, game.players[1].played_strategy\n",
    "    if all(played_strategies):\n",
    "        # if both players have played their strategies\n",
    "        return game.payoff_function(played_strategies)\n",
    "    else:\n",
    "        print(\"Not all players have played their strategies yet.\")\n",
    "\n",
    "def play_method(player, played_strategy):\n",
    "    if played_strategy not in player.strategies:\n",
    "        raise ValueError(\"Invalid strategy\")\n",
    "    else:\n",
    "        player.played_strategy = played_strategy\n"
   ]
  },
  {
   "cell_type": "code",
   "execution_count": 5,
   "metadata": {},
   "outputs": [],
   "source": [
    "payoffMatrix = {\n",
    "    ('C', 'C'): (-1, -1),\n",
    "    ('C', 'D'): (-3, 0),\n",
    "    ('D', 'C'): (0, -3),\n",
    "    ('D', 'D'): (-2, -2)\n",
    "}\n",
    "alice = Player(\"Alice\", ['C', 'D'])\n",
    "bob = Player(\"Bob\", ['C', 'D'])\n",
    "\n",
    "Player.play(alice, \"C\")\n",
    "Player.play(bob, \"D\")   \n",
    "#game = Game(player1, player2, payoff_func)\n"
   ]
  },
  {
   "cell_type": "code",
   "execution_count": 6,
   "metadata": {},
   "outputs": [
    {
     "name": "stdout",
     "output_type": "stream",
     "text": [
      "None\n"
     ]
    }
   ],
   "source": [
    "print(Player.play(alice, \"C\"))"
   ]
  },
  {
   "cell_type": "code",
   "execution_count": null,
   "metadata": {},
   "outputs": [],
   "source": []
  }
 ],
 "metadata": {
  "kernelspec": {
   "display_name": "base",
   "language": "python",
   "name": "python3"
  },
  "language_info": {
   "codemirror_mode": {
    "name": "ipython",
    "version": 3
   },
   "file_extension": ".py",
   "mimetype": "text/x-python",
   "name": "python",
   "nbconvert_exporter": "python",
   "pygments_lexer": "ipython3",
   "version": "3.11.5"
  }
 },
 "nbformat": 4,
 "nbformat_minor": 2
}
