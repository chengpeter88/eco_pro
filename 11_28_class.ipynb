{
 "cells": [
  {
   "cell_type": "code",
   "execution_count": 2,
   "metadata": {},
   "outputs": [
    {
     "data": {
      "text/plain": [
       "['/Users/heng/Desktop/eco_programe/eco_pro',\n",
       " '/Users/heng/anaconda3/lib/python311.zip',\n",
       " '/Users/heng/anaconda3/lib/python3.11',\n",
       " '/Users/heng/anaconda3/lib/python3.11/lib-dynload',\n",
       " '',\n",
       " '/Users/heng/anaconda3/lib/python3.11/site-packages',\n",
       " '/Users/heng/anaconda3/lib/python3.11/site-packages/aeosa',\n",
       " '/Library/Frameworks/Python.framework/Versions/3.10/lib/python3.10/site-packages',\n",
       " '/Users/heng/Desktop/eco_programe/eco_pro']"
      ]
     },
     "execution_count": 2,
     "metadata": {},
     "output_type": "execute_result"
    }
   ],
   "source": [
    "import sys\n",
    "sys.path"
   ]
  },
  {
   "cell_type": "code",
   "execution_count": 3,
   "metadata": {},
   "outputs": [
    {
     "data": {
      "text/plain": [
       "'/Users/heng/Desktop/eco_programe/eco_pro'"
      ]
     },
     "execution_count": 3,
     "metadata": {},
     "output_type": "execute_result"
    }
   ],
   "source": [
    "import os\n",
    "os.getcwd()"
   ]
  },
  {
   "cell_type": "code",
   "execution_count": 3,
   "metadata": {},
   "outputs": [],
   "source": [
    "from gamepy.game import Game\n",
    "\n",
    "# prisioner's dilemma\n",
    "game = Game(\n",
    "    [\"Alice\", \"Bob\"],\n",
    "    [[\"C\",\"D\"],[\"C\",\"D\"]],\n",
    "    {(\"C\",\"C\"):(3,3), (\"C\",\"D\"):(0,5), \n",
    "     (\"D\",\"C\"):(5,0), (\"D\",\"D\"):(1,1)}\n",
    ")\n",
    "Alice, Bob = game.players"
   ]
  },
  {
   "cell_type": "code",
   "execution_count": 12,
   "metadata": {},
   "outputs": [
    {
     "ename": "TypeError",
     "evalue": "Game.payoff() takes 1 positional argument but 2 were given",
     "output_type": "error",
     "traceback": [
      "\u001b[0;31m---------------------------------------------------------------------------\u001b[0m",
      "\u001b[0;31mTypeError\u001b[0m                                 Traceback (most recent call last)",
      "\u001b[1;32m/Users/heng/Desktop/eco_programe/eco_pro/11_28_class.ipynb 儲存格 4\u001b[0m line \u001b[0;36m1\n\u001b[0;32m----> <a href='vscode-notebook-cell:/Users/heng/Desktop/eco_programe/eco_pro/11_28_class.ipynb#W6sZmlsZQ%3D%3D?line=0'>1</a>\u001b[0m Game\u001b[39m.\u001b[39mpayoff(Alice, Bob)\n",
      "\u001b[0;31mTypeError\u001b[0m: Game.payoff() takes 1 positional argument but 2 were given"
     ]
    }
   ],
   "source": [
    "Game.payoff(Alice, Bob) "
   ]
  },
  {
   "cell_type": "code",
   "execution_count": null,
   "metadata": {},
   "outputs": [],
   "source": [
    "game = Game()\n",
    "game_id = \"g-1\"\n",
    "\n",
    "selected_game = game_menu[game_id]   \n",
    "game = Game(\n",
    "    selected_game[\"players\"],\n",
    "    selected_game[\"actions\"],\n",
    "    selected_game[\"payoffs\"]\n",
    "\n",
    "\n",
    ")"
   ]
  },
  {
   "cell_type": "code",
   "execution_count": 1,
   "metadata": {},
   "outputs": [
    {
     "ename": "ImportError",
     "evalue": "cannot import name 'menus' from 'gamepy.gamemenu.menu' (/Users/heng/Desktop/eco_programe/eco_pro/gamepy/gamemenu/menu.py)",
     "output_type": "error",
     "traceback": [
      "\u001b[0;31m---------------------------------------------------------------------------\u001b[0m",
      "\u001b[0;31mImportError\u001b[0m                               Traceback (most recent call last)",
      "\u001b[1;32m/Users/heng/Desktop/eco_programe/eco_pro/11_28_class.ipynb 儲存格 5\u001b[0m line \u001b[0;36m1\n\u001b[0;32m----> <a href='vscode-notebook-cell:/Users/heng/Desktop/eco_programe/eco_pro/11_28_class.ipynb#W4sZmlsZQ%3D%3D?line=0'>1</a>\u001b[0m \u001b[39mfrom\u001b[39;00m \u001b[39mgamepy\u001b[39;00m\u001b[39m.\u001b[39;00m\u001b[39mgamemenu\u001b[39;00m\u001b[39m.\u001b[39;00m\u001b[39mmenu\u001b[39;00m \u001b[39mimport\u001b[39;00m menus\n\u001b[1;32m      <a href='vscode-notebook-cell:/Users/heng/Desktop/eco_programe/eco_pro/11_28_class.ipynb#W4sZmlsZQ%3D%3D?line=2'>3</a>\u001b[0m \u001b[39mclass\u001b[39;00m \u001b[39mGames\u001b[39;00m:\n\u001b[1;32m      <a href='vscode-notebook-cell:/Users/heng/Desktop/eco_programe/eco_pro/11_28_class.ipynb#W4sZmlsZQ%3D%3D?line=3'>4</a>\u001b[0m     menus \u001b[39m=\u001b[39m menus\n",
      "\u001b[0;31mImportError\u001b[0m: cannot import name 'menus' from 'gamepy.gamemenu.menu' (/Users/heng/Desktop/eco_programe/eco_pro/gamepy/gamemenu/menu.py)"
     ]
    }
   ],
   "source": [
    "from gamepy.gamemenu.menu import menus\n",
    "\n",
    "class Games:\n",
    "    menus = menus\n",
    "    def __init__(self):\n",
    "        pass"
   ]
  },
  {
   "cell_type": "code",
   "execution_count": null,
   "metadata": {},
   "outputs": [],
   "source": [
    "from gamepy.gamemenu.menu import menus"
   ]
  }
 ],
 "metadata": {
  "kernelspec": {
   "display_name": "base",
   "language": "python",
   "name": "python3"
  },
  "language_info": {
   "codemirror_mode": {
    "name": "ipython",
    "version": 3
   },
   "file_extension": ".py",
   "mimetype": "text/x-python",
   "name": "python",
   "nbconvert_exporter": "python",
   "pygments_lexer": "ipython3",
   "version": "3.11.5"
  }
 },
 "nbformat": 4,
 "nbformat_minor": 2
}
