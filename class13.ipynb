{
 "cells": [
  {
   "cell_type": "code",
   "execution_count": 2,
   "metadata": {},
   "outputs": [],
   "source": [
    "class Differentiable:\n",
    "    type = [\"Differentiable\"] \n",
    "    #type = \"Differentiable\" ### mutable class variable type 不可以替換\n",
    "    # 如果pass new type 進去是找一個新的記憶體位置存放，原本的type不會被改變    \n",
    "    def __init__(self, value):\n",
    "        self.value = value\n",
    "    def derivative(self, x):\n",
    "        pass\n",
    "    @classmethod\n",
    "    def change_type(cls, new_type):\n",
    "        cls.type = new_type\n",
    "    \n",
    "class LogLinear(Differentiable):\n",
    "    sub_type = [\"LogLinear\"]  ### array 繼承之下可以改子孫的 type 同時也可以改父親的 type\n",
    "    def __init__(self, parameters, value):\n",
    "        super().__init__(value) #跟隨 super class \n",
    "        self.parameters = parameters\n",
    "    "
   ]
  },
  {
   "cell_type": "markdown",
   "metadata": {},
   "source": [
    "- under the  game theroy, 一個extensive form gamed (多次game tree)，可以用nomral form game 來表示 一次的game shot\n",
    "- when use the super class 需要反覆的用到，可以用super class 來寫"
   ]
  },
  {
   "cell_type": "markdown",
   "metadata": {},
   "source": []
  },
  {
   "cell_type": "code",
   "execution_count": 3,
   "metadata": {},
   "outputs": [],
   "source": [
    "LogLinear.derivative(1,2) # 1 is self, 2 is x"
   ]
  },
  {
   "cell_type": "code",
   "execution_count": 1,
   "metadata": {},
   "outputs": [],
   "source": [
    "\n",
    "from gamepy.games import Games"
   ]
  },
  {
   "cell_type": "code",
   "execution_count": 2,
   "metadata": {},
   "outputs": [],
   "source": [
    "game = Games().new(\"g-1\") \n",
    "# Or\n",
    "# games = Games()\n",
    "# game = games.new(\"g-1\")\n",
    "\n",
    "# Game class inherits `new` instance method from Games class\n",
    "game2 = game.new(\"g-2\")\n",
    "\n",
    "# a new g-1\n",
    "game3 = game.new(\"g-1\")"
   ]
  },
  {
   "cell_type": "code",
   "execution_count": 3,
   "metadata": {},
   "outputs": [
    {
     "data": {
      "text/plain": [
       "{'g-1': [<gamepy.games.Game at 0x104a3b910>,\n",
       "  <gamepy.games.Game at 0x104a33ed0>],\n",
       " 'g-2': [<gamepy.games.Game at 0x104a3b790>]}"
      ]
     },
     "execution_count": 3,
     "metadata": {},
     "output_type": "execute_result"
    }
   ],
   "source": [
    "Games.games_played"
   ]
  },
  {
   "cell_type": "code",
   "execution_count": 3,
   "metadata": {},
   "outputs": [],
   "source": [
    "from gamepy.gamesheet import test\n",
    "from gamepy.gamesheet import gameroom"
   ]
  },
  {
   "cell_type": "code",
   "execution_count": 5,
   "metadata": {},
   "outputs": [
    {
     "ename": "TypeError",
     "evalue": "Sheet.__init__() missing 3 required positional arguments: 'name', 'spreadsheets_id', and 'scopes'",
     "output_type": "error",
     "traceback": [
      "\u001b[0;31m---------------------------------------------------------------------------\u001b[0m",
      "\u001b[0;31mTypeError\u001b[0m                                 Traceback (most recent call last)",
      "\u001b[1;32m/Users/heng/Desktop/eco_programe/eco_pro/class13.ipynb 儲存格 9\u001b[0m line \u001b[0;36m1\n\u001b[0;32m----> <a href='vscode-notebook-cell:/Users/heng/Desktop/eco_programe/eco_pro/class13.ipynb#X13sZmlsZQ%3D%3D?line=0'>1</a>\u001b[0m gameroom\u001b[39m.\u001b[39mSheet()\u001b[39m.\u001b[39mnew(\u001b[39m\"\u001b[39m\u001b[39mg-1\u001b[39m\u001b[39m\"\u001b[39m)\n",
      "\u001b[0;31mTypeError\u001b[0m: Sheet.__init__() missing 3 required positional arguments: 'name', 'spreadsheets_id', and 'scopes'"
     ]
    }
   ],
   "source": [
    "gameroom.Sheet().new(\"g-1\",name=\"peter\",scope) "
   ]
  },
  {
   "cell_type": "code",
   "execution_count": 2,
   "metadata": {},
   "outputs": [
    {
     "name": "stdout",
     "output_type": "stream",
     "text": [
      "['https://www.googleapis.com/auth/spreadsheets']\n",
      "1lFqtMo0jicu9JAkHgNisQnIlFQc1mJlJyCLnOuaGQX8\n"
     ]
    }
   ],
   "source": [
    "test()"
   ]
  },
  {
   "cell_type": "code",
   "execution_count": null,
   "metadata": {},
   "outputs": [],
   "source": []
  }
 ],
 "metadata": {
  "kernelspec": {
   "display_name": "base",
   "language": "python",
   "name": "python3"
  },
  "language_info": {
   "codemirror_mode": {
    "name": "ipython",
    "version": 3
   },
   "file_extension": ".py",
   "mimetype": "text/x-python",
   "name": "python",
   "nbconvert_exporter": "python",
   "pygments_lexer": "ipython3",
   "version": "3.11.5"
  }
 },
 "nbformat": 4,
 "nbformat_minor": 2
}
