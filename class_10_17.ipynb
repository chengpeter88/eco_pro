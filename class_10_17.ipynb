{
 "cells": [
  {
   "cell_type": "code",
   "execution_count": null,
   "metadata": {},
   "outputs": [],
   "source": [
    "from IPython.core.interactiveshell import InteractiveShell\n",
    "InteractiveShell.ast_node_interactivity = \"all\""
   ]
  },
  {
   "cell_type": "code",
   "execution_count": null,
   "metadata": {},
   "outputs": [],
   "source": [
    "# example of function with docstring, defaults, keyword arguments, annotations\n",
    "def foc_c(knext, w, R, beta= 0.96):\n",
    "    \"\"\"\n",
    "    First order condition of the consumer's problem\n",
    "    (knew, w, R)\n",
    "    \"\"\"\n",
    "    return knext - (beta/(1+beta))*w\n",
    "\n",
    "\n",
    "print(foc_c.__doc__)\n",
    "###. imply the method of the function   \n",
    "print(foc_c.__defaults__)\n",
    "\n",
    "### use the help can out the input function"
   ]
  },
  {
   "cell_type": "code",
   "execution_count": null,
   "metadata": {},
   "outputs": [],
   "source": [
    "def foc_c(knext: float, w: float, R: float, beta: float= 0.96)-> float:\n",
    "    ####-> return the type of the function  \n",
    "    ### w : float -> the type of the input (default value)  \n",
    "    \"\"\"\n",
    "    First order condition of the consumer's problem\n",
    "    (knew, w, R)\n",
    "    \"\"\"\n",
    "    return knext - (beta/(1+beta))*w\n",
    "\n",
    "print(foc_c.__annotations__)"
   ]
  },
  {
   "cell_type": "code",
   "execution_count": null,
   "metadata": {},
   "outputs": [],
   "source": [
    "def fun(x:float):\n",
    "    return x**2 \n",
    "\n",
    "#fun([2,3,4])  \n",
    "### the input must be float type, can't be list type    \n",
    "###x:float -> the type of the input (default value) \n",
    "help(fun)   \n",
    "print(fun.__annotations__)  "
   ]
  },
  {
   "cell_type": "code",
   "execution_count": null,
   "metadata": {},
   "outputs": [],
   "source": [
    "import numpy as np\n",
    "class CESingeneral:\n",
    "    def __init__(self, sigma, alpha):\n",
    "        self.sigma=sigma\n",
    "        self.alpha=alpha\n",
    "    def utility(self, x:np.ndarray):\n",
    "        result=self.alpha*x**(-self.sigma)\n",
    "        return result.sum()\n",
    "\n",
    "sigma=0.5\n",
    "alpha=np.array([0.7, 0.2, 0.1])\n",
    "cesg=CESingeneral(sigma,alpha)\n",
    "x=np.array([1,2,3])\n",
    "cesg.utility(x)"
   ]
  },
  {
   "cell_type": "markdown",
   "metadata": {},
   "source": [
    "### OOP :encapsulation(封裝)\n",
    "> 1. 封裝 parameter  ,可從裡面去找到屬性,\n",
    "> 2. OLG model 概念用到 encapsulation  \n",
    "> 3. init 用來初始化, 用來設定屬性的值 進行封裝的動作 \n",
    "> 4. 封裝可以比較好維護"
   ]
  },
  {
   "cell_type": "markdown",
   "metadata": {},
   "source": [
    "    \n",
    "    def clear_equilibrium_dynamics(self):\n",
    "        self.equilibrium_dynamics = [[self.k0, None, None]]\n",
    "        ###intial is k0 w0 r0 不斷的更新迭代\n",
    "        self.k = self.k0"
   ]
  },
  {
   "cell_type": "markdown",
   "metadata": {},
   "source": [
    "class OLGMarket:\n",
    "    def __init__(self, consumer, producer, k0):\n",
    "        self.consumer = consumer\n",
    "        self.producer = producer\n",
    "        self.k0 = k0\n",
    "        self.k = k0  新的property  \n",
    "        self.equilibrium_dynamics = [[k0, None, None]]"
   ]
  },
  {
   "cell_type": "markdown",
   "metadata": {},
   "source": [
    "OOP 對於其成員需要有反應\n",
    "compostion "
   ]
  },
  {
   "cell_type": "code",
   "execution_count": null,
   "metadata": {},
   "outputs": [],
   "source": [
    "import numpy as np\n",
    "from numpy.linalg import inv\n",
    "class Demand:\n",
    "    def __init__(self, D, h):\n",
    "        self.D=D\n",
    "        self.h=h\n",
    "    def quantity(self, pd):\n",
    "        qd=np.array((self.D@pd)+self.h)\n",
    "        return qd\n",
    "class Supply:\n",
    "    def __init__(self, C, e):\n",
    "        self.C=C\n",
    "        self.e=e\n",
    "    def quantity(self, ps):\n",
    "        qs=np.array((self.C@ps)+self.e)\n",
    "        return qs \n",
    "####修改當demand and supply change, the market will change\n",
    "class Market:\n",
    "    def __init__(self, demand, supply):\n",
    "        self.demand=demand\n",
    "        self.supply=supply\n",
    "        #### not c, d in the deamd and supply, just find it in the global environment\n",
    "        ####c,d  這些東西必須要從 deamnd and supply 裡面找到    \n",
    "    def price(self):\n",
    "        pe=inv(C-D)@(h-e)\n",
    "        return pe\n",
    "    def quantity(self):\n",
    "        qe=D@self.price()+h\n",
    "        return qe\n",
    "    def equilibrium(self):\n",
    "        pe=self.price()\n",
    "        qe=self.quantity()\n",
    "        return pe, qe\n",
    "\n",
    "####現在問題是換的數字,market can't change  \n",
    "D=np.array([\n",
    "    [-10,-5],\n",
    "    [-1,-10]\n",
    "])\n",
    "h=np.array([\n",
    "    [100],\n",
    "    [50]\n",
    "])\n",
    "C=np.array([\n",
    "    [10,5],\n",
    "    [5,10]\n",
    "])\n",
    "e=np.array([\n",
    "    [0],\n",
    "    [0]\n",
    "])\n",
    "\n",
    "demand = Demand(D, h)\n",
    "supply = Supply(C, e)\n",
    "market = Market(demand, supply)\n",
    "\n",
    "\n",
    "market.equilibrium()"
   ]
  },
  {
   "cell_type": "code",
   "execution_count": null,
   "metadata": {},
   "outputs": [],
   "source": [
    "class Market:\n",
    "    def __init__(self, demand, supply):\n",
    "        self.demand = demand\n",
    "        self.supply = supply\n",
    "        self.update()\n",
    "        \n",
    "    def update(self):\n",
    "        global C, D, e, h\n",
    "        C = np.vstack((self.supply, np.ones(len(self.supply)))).T\n",
    "        D = np.vstack((self.demand, np.ones(len(self.demand)))).T\n",
    "        e = np.array([0, 1])\n",
    "        h = np.array([0, 0])\n",
    "        \n",
    "    def price(self):\n",
    "        pe = inv(C - D) @ (h - e)\n",
    "        return pe\n",
    "    \n",
    "    def quantity(self):\n",
    "        qe = D @ self.price() + h\n",
    "        return qe\n",
    "    \n",
    "    def equilibrium(self):\n",
    "        pe = self.price()\n",
    "        qe = self.quantity()\n",
    "        return pe, qe"
   ]
  },
  {
   "cell_type": "code",
   "execution_count": null,
   "metadata": {},
   "outputs": [],
   "source": [
    "class Market:\n",
    "    def __init__(self, demand, supply):\n",
    "        self.demand = demand\n",
    "        self.supply = supply\n",
    "        \n",
    "    def price(self):\n",
    "        C = np.vstack((self.supply, np.ones(len(self.supply)))).T\n",
    "        D = np.vstack((self.demand, np.ones(len(self.demand)))).T\n",
    "        e = np.array([0, 1])\n",
    "        h = np.array([0, 0])\n",
    "        pe = inv(C - D) @ (h - e)\n",
    "        return pe\n",
    "    \n",
    "    def quantity(self):\n",
    "        C = np.vstack((self.supply, np.ones(len(self.supply)))).T\n",
    "        D = np.vstack((self.demand, np.ones(len(self.demand)))).T\n",
    "        qe = D @ self.price() + np.array([0, 0])\n",
    "        return qe\n",
    "    \n",
    "    def equilibrium(self):\n",
    "        pe = self.price()\n",
    "        qe = self.quantity()\n",
    "        return pe, qe"
   ]
  },
  {
   "cell_type": "code",
   "execution_count": null,
   "metadata": {},
   "outputs": [],
   "source": [
    "class Supply:\n",
    "    D=2\n",
    "    def "
   ]
  },
  {
   "cell_type": "code",
   "execution_count": null,
   "metadata": {},
   "outputs": [],
   "source": [
    "###concept dynamic programming  \n",
    "class consumer:\n",
    "    def __init__(self, beta,):\n",
    "        self.beta=beta\n",
    "\n",
    "class firm: \n",
    "    def __init__(self, alpha,):\n",
    "        self.alpha=alpha    \n",
    "\n",
    "class market:\n",
    "    def _init_(self, consumer, firm):\n",
    "        self.consumer=consumer\n",
    "        self.firm=firm\n",
    "    def get_beta(self):\n",
    "        return self.consumer.beta   \n",
    "\n"
   ]
  },
  {
   "cell_type": "code",
   "execution_count": null,
   "metadata": {},
   "outputs": [],
   "source": [
    "import numpy as np\n",
    "from numpy.linalg import inv\n",
    "class Demand:\n",
    "    def __init__(self, D, h):\n",
    "        self.D=D\n",
    "        self.h=h\n",
    "    def quantity(self, pd):\n",
    "        qd=np.array((self.D@pd)+self.h)\n",
    "        return qd\n",
    "class Supply:\n",
    "    def __init__(self, C, e):\n",
    "        self.C=C\n",
    "        self.e=e\n",
    "    def quantity(self, ps):\n",
    "        qs=np.array((self.C@ps)+self.e)\n",
    "        return qs \n",
    "####修改當demand and supply change, the market will change\n",
    "class Market:\n",
    "    def __init__(self, demand, supply):\n",
    "        self.demand=demand\n",
    "        self.supply=supply\n",
    "    def price(self):\n",
    "        C=market.supply.C   \n",
    "        D=market.demand.D   \n",
    "        h=market.demand.h   \n",
    "        e=market.supply.e   \n",
    "        pe=inv(C-D)@(h-e)\n",
    "        return pe"
   ]
  },
  {
   "cell_type": "code",
   "execution_count": 1,
   "metadata": {},
   "outputs": [],
   "source": [
    "import numpy as np\n",
    "from numpy.linalg import inv\n",
    "\n",
    "class Demand:\n",
    "    def __init__(self, D, h):\n",
    "        self.D = D\n",
    "        self.h = h\n",
    "        \n",
    "    def quantity(self, pd):\n",
    "        qd = np.array((self.D @ pd) + self.h)\n",
    "        return qd\n",
    "\n",
    "class Supply:\n",
    "    def __init__(self, C, e):\n",
    "        self.C = C\n",
    "        self.e = e\n",
    "        \n",
    "    def quantity(self, ps):\n",
    "        qs = np.array((self.C @ ps) + self.e)\n",
    "        return qs \n",
    "\n",
    "class Market:\n",
    "    def __init__(self, demand, supply):\n",
    "        self.demand = demand\n",
    "        self.supply = supply\n",
    "        \n",
    "    def price(self):\n",
    "        C = self.supply.C   \n",
    "        D = self.demand.D   \n",
    "        h = self.demand.h   \n",
    "        e = self.supply.e   \n",
    "        pe = inv(C - D) @ (h - e)\n",
    "        return pe"
   ]
  },
  {
   "cell_type": "code",
   "execution_count": 2,
   "metadata": {},
   "outputs": [
    {
     "ename": "NameError",
     "evalue": "name 'D' is not defined",
     "output_type": "error",
     "traceback": [
      "\u001b[0;31m---------------------------------------------------------------------------\u001b[0m",
      "\u001b[0;31mNameError\u001b[0m                                 Traceback (most recent call last)",
      "\u001b[1;32m/Users/heng/Desktop/eco_programe/eco_pro/class_10_17.ipynb 儲存格 17\u001b[0m line \u001b[0;36m1\n\u001b[0;32m----> <a href='vscode-notebook-cell:/Users/heng/Desktop/eco_programe/eco_pro/class_10_17.ipynb#X26sZmlsZQ%3D%3D?line=0'>1</a>\u001b[0m Demand \u001b[39m=\u001b[39m Demand(D, h)   \n\u001b[1;32m      <a href='vscode-notebook-cell:/Users/heng/Desktop/eco_programe/eco_pro/class_10_17.ipynb#X26sZmlsZQ%3D%3D?line=1'>2</a>\u001b[0m Supply \u001b[39m=\u001b[39m Supply(C, e)   \n\u001b[1;32m      <a href='vscode-notebook-cell:/Users/heng/Desktop/eco_programe/eco_pro/class_10_17.ipynb#X26sZmlsZQ%3D%3D?line=2'>3</a>\u001b[0m Market \u001b[39m=\u001b[39m Market(Demand, Supply) \n",
      "\u001b[0;31mNameError\u001b[0m: name 'D' is not defined"
     ]
    }
   ],
   "source": [
    "Demand(D, h)   \n",
    "Supply(C, e)   \n",
    "Market = Market(Demand, Supply) \n",
    "Market.price()  "
   ]
  },
  {
   "cell_type": "code",
   "execution_count": null,
   "metadata": {},
   "outputs": [],
   "source": [
    "###小寫是用class中的method \n",
    "C=market.supply.C   \n",
    "D=market.demand.D   \n",
    "h=market.demand.h   \n",
    "e=market.supply.e   \n",
    "pe=inv(C-D)@(h-e) \n",
    "pe   \n",
    "###from Market import Market    "
   ]
  },
  {
   "cell_type": "code",
   "execution_count": null,
   "metadata": {},
   "outputs": [],
   "source": [
    "\n",
    "supply.e = np.array([30,40])\n",
    "Market.price()"
   ]
  },
  {
   "cell_type": "code",
   "execution_count": null,
   "metadata": {},
   "outputs": [],
   "source": [
    "supply.C"
   ]
  },
  {
   "cell_type": "markdown",
   "metadata": {},
   "source": []
  }
 ],
 "metadata": {
  "kernelspec": {
   "display_name": "base",
   "language": "python",
   "name": "python3"
  },
  "language_info": {
   "codemirror_mode": {
    "name": "ipython",
    "version": 3
   },
   "file_extension": ".py",
   "mimetype": "text/x-python",
   "name": "python",
   "nbconvert_exporter": "python",
   "pygments_lexer": "ipython3",
   "version": "3.11.5"
  }
 },
 "nbformat": 4,
 "nbformat_minor": 2
}
