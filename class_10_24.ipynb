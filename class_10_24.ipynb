{
 "cells": [
  {
   "cell_type": "code",
   "execution_count": 2,
   "metadata": {},
   "outputs": [
    {
     "data": {
      "text/plain": [
       "(array([[6.25 ],\n",
       "        [0.625]]),\n",
       " array([[65.625],\n",
       "        [37.5  ]]))"
      ]
     },
     "execution_count": 2,
     "metadata": {},
     "output_type": "execute_result"
    }
   ],
   "source": [
    "import numpy as np\n",
    "from numpy.linalg import inv\n",
    "class Demand:\n",
    "    def __init__(self, D, h):\n",
    "        self.D=D\n",
    "        self.h=h\n",
    "    def quantity(self, pd):\n",
    "        qd=np.array((self.D@pd)+self.h)\n",
    "        return qd\n",
    "class Supply:\n",
    "    ### e 拮据\n",
    "    def __init__(self, C, e):\n",
    "        self.C=C\n",
    "        self.e=e\n",
    "    def quantity(self, ps):\n",
    "        qs=np.array((self.C@ps)+self.e)\n",
    "        ### ps is a scalar  但是透過broadcasting  ps 可以變成一格2維array\n",
    "        return qs \n",
    "class Market:\n",
    "    ####instaces are demand and supply  \n",
    "    def __init__(self, demand, supply):\n",
    "        self.demand=demand\n",
    "        self.supply=supply\n",
    "    def price(self):\n",
    "        pe=inv(self.supply.C-self.demand.D)@(self.demand.h-self.supply.e)\n",
    "        return pe\n",
    "    def quantity(self):\n",
    "        qe=self.demand.D@self.price()+self.demand.h\n",
    "        return qe\n",
    "    def equilibrium(self):\n",
    "        pe=self.price()\n",
    "        qe=self.quantity()\n",
    "        return pe, qe\n",
    "\n",
    "\n",
    "D=np.array([\n",
    "    [-5,-5],\n",
    "    [-1,-10]\n",
    "])\n",
    "h=np.array([\n",
    "    [100],\n",
    "    [50]\n",
    "])\n",
    "C=np.array([\n",
    "    [10,5],\n",
    "    [5,10]\n",
    "])\n",
    "e=np.array([\n",
    "    [0],\n",
    "    [0]\n",
    "])\n",
    "\n",
    "demand = Demand(D, h)\n",
    "supply = Supply(C, e)\n",
    "market = Market(demand, supply)\n",
    "\n",
    "\n",
    "market.equilibrium()"
   ]
  },
  {
   "cell_type": "code",
   "execution_count": 3,
   "metadata": {},
   "outputs": [
    {
     "data": {
      "text/plain": [
       "(2, 2)"
      ]
     },
     "execution_count": 3,
     "metadata": {},
     "output_type": "execute_result"
    }
   ],
   "source": [
    "\n",
    "D=np.array([\n",
    "    [-5,-5],\n",
    "    [-1,-10]\n",
    "])\n",
    "D.shape "
   ]
  },
  {
   "cell_type": "code",
   "execution_count": 4,
   "metadata": {},
   "outputs": [
    {
     "data": {
      "text/plain": [
       "array([[ 0.14233471, -0.06489699],\n",
       "       [-0.20037413,  0.04725016],\n",
       "       [-0.02043197, -0.22825853],\n",
       "       [ 0.53088145,  0.28812104],\n",
       "       [ 0.01978045, -0.62430643],\n",
       "       [-0.21530433, -0.06513639],\n",
       "       [-0.20709958, -0.08526408],\n",
       "       [-0.20587228, -0.10435484],\n",
       "       [-0.08455151, -0.01984883],\n",
       "       [-0.2760516 ,  0.06038056]])"
      ]
     },
     "execution_count": 4,
     "metadata": {},
     "output_type": "execute_result"
    }
   ],
   "source": [
    "import numpy as np\n",
    "np.random.seed(2023)\n",
    "\n",
    "epsilon = np.random.normal(0, 0.2, (10,2))\n",
    "\n",
    "epsilon"
   ]
  },
  {
   "cell_type": "code",
   "execution_count": null,
   "metadata": {},
   "outputs": [],
   "source": [
    "#Design a supply_shock method so that the following code can:\n",
    "\n",
    "#compute equilibrium outcome of each epsilon[i]; and\n",
    "#remember the process\n",
    "\n",
    "market.supply_shocks(epsilon)"
   ]
  },
  {
   "cell_type": "code",
   "execution_count": 11,
   "metadata": {},
   "outputs": [],
   "source": [
    "import numpy as np\n",
    "from numpy.linalg import inv\n",
    "\n",
    "class Demand:\n",
    "    def __init__(self, D, h):\n",
    "        self.D = D\n",
    "        self.h = h\n",
    "        \n",
    "    def quantity(self, pd):\n",
    "        qd = np.array((self.D @ pd) + self.h)\n",
    "        return qd\n",
    "\n",
    "class Supply:\n",
    "    def __init__(self, C, e):\n",
    "        self.C = C\n",
    "        self.e = e\n",
    "        \n",
    "    def quantity(self, ps):\n",
    "        qs = np.array((self.C @ ps) + self.e)\n",
    "        return qs \n",
    "\n",
    "class Market:\n",
    "    def __init__(self, demand, supply):\n",
    "        self.demand = demand\n",
    "        self.supply = supply\n",
    "        self.pe_history = []\n",
    "        self.qe_history = []\n",
    "        \n",
    "    def price(self):\n",
    "        C = self.supply.C   \n",
    "        D = self.demand.D   \n",
    "        h = self.demand.h   \n",
    "        e = self.supply.e   \n",
    "        pe = inv(C - D) @ (h - e)\n",
    "        return pe\n",
    "    \n",
    "    def quantity(self):\n",
    "        C = self.supply.C   \n",
    "        D = self.demand.D   \n",
    "        pe = self.price()\n",
    "        qe = D @ pe + self.demand.h\n",
    "        return qe\n",
    "    \n",
    "    def equilibrium(self):\n",
    "        pe = self.price()\n",
    "        qe = self.quantity()\n",
    "        return pe, qe\n",
    "    \n",
    "    def supply_shock(self, epsilon_list):\n",
    "        for epsilon in epsilon_list:\n",
    "            self.supply.e += epsilon\n",
    "            pe, qe = self.equilibrium()\n",
    "            self.pe_history.append(pe)\n",
    "            self.qe_history.append(qe)"
   ]
  },
  {
   "cell_type": "code",
   "execution_count": 6,
   "metadata": {},
   "outputs": [],
   "source": [
    "D=np.array([\n",
    "    [-5,-5],\n",
    "    [-1,-10]\n",
    "])\n",
    "h=np.array([\n",
    "    [100],\n",
    "    [50]\n",
    "])\n",
    "C=np.array([\n",
    "    [10,5],\n",
    "    [5,10]\n",
    "])\n",
    "e=np.array([\n",
    "    [0],\n",
    "    [0]\n",
    "])"
   ]
  },
  {
   "cell_type": "code",
   "execution_count": 14,
   "metadata": {},
   "outputs": [
    {
     "ename": "TypeError",
     "evalue": "'int' object is not iterable",
     "output_type": "error",
     "traceback": [
      "\u001b[0;31m---------------------------------------------------------------------------\u001b[0m",
      "\u001b[0;31mTypeError\u001b[0m                                 Traceback (most recent call last)",
      "\u001b[1;32m/Users/heng/Desktop/eco_programe/eco_pro/class_10_24.ipynb 儲存格 7\u001b[0m line \u001b[0;36m5\n\u001b[1;32m      <a href='vscode-notebook-cell:/Users/heng/Desktop/eco_programe/eco_pro/class_10_24.ipynb#X13sZmlsZQ%3D%3D?line=2'>3</a>\u001b[0m market \u001b[39m=\u001b[39m Market(demand, supply)\n\u001b[1;32m      <a href='vscode-notebook-cell:/Users/heng/Desktop/eco_programe/eco_pro/class_10_24.ipynb#X13sZmlsZQ%3D%3D?line=3'>4</a>\u001b[0m market\u001b[39m.\u001b[39mequilibrium()\n\u001b[0;32m----> <a href='vscode-notebook-cell:/Users/heng/Desktop/eco_programe/eco_pro/class_10_24.ipynb#X13sZmlsZQ%3D%3D?line=4'>5</a>\u001b[0m market\u001b[39m.\u001b[39msupply_shock(\u001b[39m20\u001b[39m)\n",
      "\u001b[1;32m/Users/heng/Desktop/eco_programe/eco_pro/class_10_24.ipynb 儲存格 7\u001b[0m line \u001b[0;36m5\n\u001b[1;32m     <a href='vscode-notebook-cell:/Users/heng/Desktop/eco_programe/eco_pro/class_10_24.ipynb#X13sZmlsZQ%3D%3D?line=48'>49</a>\u001b[0m \u001b[39mdef\u001b[39;00m \u001b[39msupply_shock\u001b[39m(\u001b[39mself\u001b[39m, epsilon_list):\n\u001b[0;32m---> <a href='vscode-notebook-cell:/Users/heng/Desktop/eco_programe/eco_pro/class_10_24.ipynb#X13sZmlsZQ%3D%3D?line=49'>50</a>\u001b[0m     \u001b[39mfor\u001b[39;00m epsilon \u001b[39min\u001b[39;00m epsilon_list:\n\u001b[1;32m     <a href='vscode-notebook-cell:/Users/heng/Desktop/eco_programe/eco_pro/class_10_24.ipynb#X13sZmlsZQ%3D%3D?line=50'>51</a>\u001b[0m         \u001b[39mself\u001b[39m\u001b[39m.\u001b[39msupply\u001b[39m.\u001b[39me \u001b[39m+\u001b[39m\u001b[39m=\u001b[39m epsilon\n\u001b[1;32m     <a href='vscode-notebook-cell:/Users/heng/Desktop/eco_programe/eco_pro/class_10_24.ipynb#X13sZmlsZQ%3D%3D?line=51'>52</a>\u001b[0m         pe, qe \u001b[39m=\u001b[39m \u001b[39mself\u001b[39m\u001b[39m.\u001b[39mequilibrium()\n",
      "\u001b[0;31mTypeError\u001b[0m: 'int' object is not iterable"
     ]
    }
   ],
   "source": [
    "demand = Demand(D, h)\n",
    "supply = Supply(C, e)\n",
    "market = Market(demand, supply)\n",
    "market.equilibrium()\n",
    "market.supply_shock(20)"
   ]
  },
  {
   "cell_type": "code",
   "execution_count": 8,
   "metadata": {},
   "outputs": [
    {
     "data": {
      "text/plain": [
       "[0, 1, 2, 3, 4, 5, 6, 7, 8, 9]"
      ]
     },
     "execution_count": 8,
     "metadata": {},
     "output_type": "execute_result"
    }
   ],
   "source": [
    "a=range(10)\n",
    "list(a) "
   ]
  },
  {
   "cell_type": "markdown",
   "metadata": {},
   "source": [
    "#### for loop idea\n",
    "- `for i in a `\n",
    "- `i ` is iterate, any iterate object can be used in for loop  "
   ]
  },
  {
   "cell_type": "code",
   "execution_count": 19,
   "metadata": {},
   "outputs": [
    {
     "name": "stdout",
     "output_type": "stream",
     "text": [
      "0\n",
      "1\n",
      "2\n",
      "3\n",
      "4\n",
      "5\n",
      "6\n",
      "7\n",
      "8\n",
      "9\n"
     ]
    }
   ],
   "source": [
    "a=range(10)\n",
    "for i in a:\n",
    "    print(i)"
   ]
  },
  {
   "cell_type": "code",
   "execution_count": 20,
   "metadata": {},
   "outputs": [
    {
     "data": {
      "text/plain": [
       "<range_iterator at 0x11a182b80>"
      ]
     },
     "execution_count": 20,
     "metadata": {},
     "output_type": "execute_result"
    }
   ],
   "source": [
    "iterator_a=a.__iter__() \n",
    "iterator_a"
   ]
  },
  {
   "cell_type": "code",
   "execution_count": 21,
   "metadata": {},
   "outputs": [
    {
     "ename": "AttributeError",
     "evalue": "'range' object has no attribute '_next_'",
     "output_type": "error",
     "traceback": [
      "\u001b[0;31m---------------------------------------------------------------------------\u001b[0m",
      "\u001b[0;31mAttributeError\u001b[0m                            Traceback (most recent call last)",
      "\u001b[1;32m/Users/heng/Desktop/eco_programe/eco_pro/class_10_24.ipynb 儲存格 12\u001b[0m line \u001b[0;36m1\n\u001b[0;32m----> <a href='vscode-notebook-cell:/Users/heng/Desktop/eco_programe/eco_pro/class_10_24.ipynb#X14sZmlsZQ%3D%3D?line=0'>1</a>\u001b[0m a\u001b[39m.\u001b[39m_next_()\n",
      "\u001b[0;31mAttributeError\u001b[0m: 'range' object has no attribute '_next_'"
     ]
    }
   ],
   "source": [
    "a._next_()"
   ]
  },
  {
   "cell_type": "code",
   "execution_count": null,
   "metadata": {},
   "outputs": [],
   "source": []
  },
  {
   "cell_type": "code",
   "execution_count": null,
   "metadata": {},
   "outputs": [],
   "source": []
  }
 ],
 "metadata": {
  "kernelspec": {
   "display_name": "base",
   "language": "python",
   "name": "python3"
  },
  "language_info": {
   "codemirror_mode": {
    "name": "ipython",
    "version": 3
   },
   "file_extension": ".py",
   "mimetype": "text/x-python",
   "name": "python",
   "nbconvert_exporter": "python",
   "pygments_lexer": "ipython3",
   "version": "3.11.5"
  }
 },
 "nbformat": 4,
 "nbformat_minor": 2
}
