{
 "cells": [
  {
   "cell_type": "code",
   "execution_count": 17,
   "metadata": {},
   "outputs": [],
   "source": [
    "import numpy as np\n",
    "import matplotlib.pyplot as plt\n",
    "import pandas as pd\n",
    "\n",
    "class AR:\n",
    "    def __init__(self, *args, epsilon, Y0):\n",
    "        self.phi = np.array(args)\n",
    "        self.epsilon = epsilon\n",
    "        self.Y0 = np.array(Y0)\n",
    "        self.memory = np.array([])\n",
    "        self.YPast = np.array(self.Y0)\n",
    "    def simulate_nPeriods(self, n=1):\n",
    "        simulate_nPeriods(self, n)\n",
    "    \n",
    "    #def clear_memory(self):\n",
    "    #    self.memory = np.array([])\n",
    "    \n",
    "    def statistics(self):\n",
    "        return statistics(self)\n",
    "    \n",
    "    def plot(self):\n",
    "        plot(self)\n",
    "    \n",
    "    def save(self, file_name):\n",
    "        save(self, file_name)\n",
    "\n",
    "# helpers  fuctions\n",
    "\n",
    "def simulate_onePeriod(ar, eps):\n",
    "    y_onePeriod_ahead = ar.phi@ar.YPast + eps\n",
    "    ar.YPast = np.append(y_onePeriod_ahead, ar.YPast[:-1])\n",
    "    ar.memory = np.append(ar.memory, y_onePeriod_ahead)\n",
    "\n",
    "def simulate_nPeriods(ar, n):\n",
    "    eps = ar.epsilon(n)\n",
    "    for i in range(n):\n",
    "        simulate_onePeriod(ar, eps[i])\n",
    "\n",
    "def statistics(ar):\n",
    "    mu_val = np.mean(ar.memory)\n",
    "    sigma_val = np.std(ar.memory)\n",
    "    corr_val = np.corrcoef(ar.memory[1:], ar.memory[:-1])[0,1]\n",
    "    return f\"平均數:{mu_val:.4f}, 變異數:{sigma_val:.4f}, 相關係數:{corr_val:.4f}\"\n",
    "\n",
    "def plot(ar):\n",
    "    plt.style.use('ggplot')\n",
    "    plt.plot(ar.memory)\n",
    "    plt.title(\"AR(1) process\")\n",
    "    plt.xlabel(\"preiod\")\n",
    "    plt.ylabel(\"y\")\n",
    "    plt.show()\n",
    "\n",
    "def save(ar, file_name):\n",
    "    df = pd.DataFrame(ar.memory)\n",
    "    if file_name.endswith('.xlsx'):\n",
    "        df.to_excel(file_name, index=False)\n",
    "    elif file_name.endswith('.txt'):\n",
    "        df.to_csv(file_name, index=False, sep='\\t')\n",
    "    elif file_name.endswith('.csv'):\n",
    "        df.to_csv(file_name, index=False)\n",
    "    else:\n",
    "        raise ValueError(\"file_name must end with .xlsx or .txt or .csv\")\n",
    "\n",
    "# Path: final_project.ipynb\n",
    "# 1.1\n",
    "#ar = AR(0.5, epsilon=lambda n: np.random.normal(0, 1, n), Y0=0)\n",
    "#ar.simulate_nPeriods(100)\n",
    "#ar.plot()\n",
    "#print(ar.statistics())\n"
   ]
  },
  {
   "cell_type": "code",
   "execution_count": null,
   "metadata": {},
   "outputs": [],
   "source": [
    "import pandas as pd\n",
    "\n"
   ]
  },
  {
   "cell_type": "code",
   "execution_count": 18,
   "metadata": {},
   "outputs": [],
   "source": [
    "def Epsilon(mu, sigma):\n",
    "    def draw(size):\n",
    "        return np.random.normal(mu, sigma, size)\n",
    "    return draw\n",
    "\n",
    "\n",
    "epsilon = Epsilon(0, 0.4)"
   ]
  },
  {
   "cell_type": "code",
   "execution_count": 20,
   "metadata": {},
   "outputs": [
    {
     "name": "stdout",
     "output_type": "stream",
     "text": [
      "[1.03546799 0.86049473]\n",
      "[-0.30261925 -0.05644688 -0.15077125 -0.16221175  0.34311616  0.58583692\n",
      "  0.35508689  0.23373496  0.86049473  1.03546799]\n"
     ]
    }
   ],
   "source": [
    "ar = AR(0.8, -0.35, epsilon=epsilon, Y0=[0,0])\n",
    "ar.simulate_nPeriods(10)\n",
    "print(ar.YPast)\n",
    "print(ar.memory)"
   ]
  },
  {
   "cell_type": "code",
   "execution_count": 21,
   "metadata": {},
   "outputs": [
    {
     "data": {
      "text/plain": [
       "'平均數:0.2742, 變異數:0.4297, 相關係數:0.7515'"
      ]
     },
     "execution_count": 21,
     "metadata": {},
     "output_type": "execute_result"
    }
   ],
   "source": [
    "ar.statistics()"
   ]
  },
  {
   "cell_type": "code",
   "execution_count": 22,
   "metadata": {},
   "outputs": [
    {
     "data": {
      "image/png": "[encoded data removed]",
      "text/plain": [
       "<Figure size 640x480 with 1 Axes>"
      ]
     },
     "metadata": {},
     "output_type": "display_data"
    }
   ],
   "source": [
    "ar.plot()"
   ]
  },
  {
   "cell_type": "code",
   "execution_count": 23,
   "metadata": {},
   "outputs": [],
   "source": [
    "ar.save('test.xlsx')\n",
    "ar.save('test2.txt')\n",
    "ar.save('test3.csv')"
   ]
  },
  {
   "cell_type": "code",
   "execution_count": 5,
   "metadata": {},
   "outputs": [
    {
     "data": {
      "application/vnd.plotly.v1+json": {
       "config": {
        "plotlyServerURL": "https://plot.ly"
       },
       "data": [
        {
         "type": "scatter",
         "x": [
          1,
          2,
          3,
          4,
          5,
          6,
          7,
          8,
          9,
          10
         ],
         "y": [
          -0.17844173474901343,
          -0.4091717290022825,
          0.3169345040531678,
          0.16184657144656853,
          -0.037979493593863475,
          -0.2742329989424044,
          -0.21294268317398074,
          -0.24164960076477632,
          -0.30904994325661217,
          -0.7666487212738324
         ]
        }
       ],
       "layout": {
        "template": {
         "data": {
          "bar": [
           {
            "error_x": {
             "color": "#2a3f5f"
            },
            "error_y": {
             "color": "#2a3f5f"
            },
            "marker": {
             "line": {
              "color": "#E5ECF6",
              "width": 0.5
             },
             "pattern": {
              "fillmode": "overlay",
              "size": 10,
              "solidity": 0.2
             }
            },
            "type": "bar"
           }
          ],
          "barpolar": [
           {
            "marker": {
             "line": {
              "color": "#E5ECF6",
              "width": 0.5
             },
             "pattern": {
              "fillmode": "overlay",
              "size": 10,
              "solidity": 0.2
             }
            },
            "type": "barpolar"
           }
          ],
          "carpet": [
           {
            "aaxis": {
             "endlinecolor": "#2a3f5f",
             "gridcolor": "white",
             "linecolor": "white",
             "minorgridcolor": "white",
             "startlinecolor": "#2a3f5f"
            },
            "baxis": {
             "endlinecolor": "#2a3f5f",
             "gridcolor": "white",
             "linecolor": "white",
             "minorgridcolor": "white",
             "startlinecolor": "#2a3f5f"
            },
            "type": "carpet"
           }
          ],
          "choropleth": [
           {
            "colorbar": {
             "outlinewidth": 0,
             "ticks": ""
            },
            "type": "choropleth"
           }
          ],
          "contour": [
           {
            "colorbar": {
             "outlinewidth": 0,
             "ticks": ""
            },
            "colorscale": [
             [
              0,
              "#0d0887"
             ],
             [
              0.1111111111111111,
              "#46039f"
             ],
             [
              0.2222222222222222,
              "#7201a8"
             ],
             [
              0.3333333333333333,
              "#9c179e"
             ],
             [
              0.4444444444444444,
              "#bd3786"
             ],
             [
              0.5555555555555556,
              "#d8576b"
             ],
             [
              0.6666666666666666,
              "#ed7953"
             ],
             [
              0.7777777777777778,
              "#fb9f3a"
             ],
             [
              0.8888888888888888,
              "#fdca26"
             ],
             [
              1,
              "#f0f921"
             ]
            ],
            "type": "contour"
           }
          ],
          "contourcarpet": [
           {
            "colorbar": {
             "outlinewidth": 0,
             "ticks": ""
            },
            "type": "contourcarpet"
           }
          ],
          "heatmap": [
           {
            "colorbar": {
             "outlinewidth": 0,
             "ticks": ""
            },
            "colorscale": [
             [
              0,
              "#0d0887"
             ],
             [
              0.1111111111111111,
              "#46039f"
             ],
             [
              0.2222222222222222,
              "#7201a8"
             ],
             [
              0.3333333333333333,
              "#9c179e"
             ],
             [
              0.4444444444444444,
              "#bd3786"
             ],
             [
              0.5555555555555556,
              "#d8576b"
             ],
             [
              0.6666666666666666,
              "#ed7953"
             ],
             [
              0.7777777777777778,
              "#fb9f3a"
             ],
             [
              0.8888888888888888,
              "#fdca26"
             ],
             [
              1,
              "#f0f921"
             ]
            ],
            "type": "heatmap"
           }
          ],
          "heatmapgl": [
           {
            "colorbar": {
             "outlinewidth": 0,
             "ticks": ""
            },
            "colorscale": [
             [
              0,
              "#0d0887"
             ],
             [
              0.1111111111111111,
              "#46039f"
             ],
             [
              0.2222222222222222,
              "#7201a8"
             ],
             [
              0.3333333333333333,
              "#9c179e"
             ],
             [
              0.4444444444444444,
              "#bd3786"
             ],
             [
              0.5555555555555556,
              "#d8576b"
             ],
             [
              0.6666666666666666,
              "#ed7953"
             ],
             [
              0.7777777777777778,
              "#fb9f3a"
             ],
             [
              0.8888888888888888,
              "#fdca26"
             ],
             [
              1,
              "#f0f921"
             ]
            ],
            "type": "heatmapgl"
           }
          ],
          "histogram": [
           {
            "marker": {
             "pattern": {
              "fillmode": "overlay",
              "size": 10,
              "solidity": 0.2
             }
            },
            "type": "histogram"
           }
          ],
          "histogram2d": [
           {
            "colorbar": {
             "outlinewidth": 0,
             "ticks": ""
            },
            "colorscale": [
             [
              0,
              "#0d0887"
             ],
             [
              0.1111111111111111,
              "#46039f"
             ],
             [
              0.2222222222222222,
              "#7201a8"
             ],
             [
              0.3333333333333333,
              "#9c179e"
             ],
             [
              0.4444444444444444,
              "#bd3786"
             ],
             [
              0.5555555555555556,
              "#d8576b"
             ],
             [
              0.6666666666666666,
              "#ed7953"
             ],
             [
              0.7777777777777778,
              "#fb9f3a"
             ],
             [
              0.8888888888888888,
              "#fdca26"
             ],
             [
              1,
              "#f0f921"
             ]
            ],
            "type": "histogram2d"
           }
          ],
          "histogram2dcontour": [
           {
            "colorbar": {
             "outlinewidth": 0,
             "ticks": ""
            },
            "colorscale": [
             [
              0,
              "#0d0887"
             ],
             [
              0.1111111111111111,
              "#46039f"
             ],
             [
              0.2222222222222222,
              "#7201a8"
             ],
             [
              0.3333333333333333,
              "#9c179e"
             ],
             [
              0.4444444444444444,
              "#bd3786"
             ],
             [
              0.5555555555555556,
              "#d8576b"
             ],
             [
              0.6666666666666666,
              "#ed7953"
             ],
             [
              0.7777777777777778,
              "#fb9f3a"
             ],
             [
              0.8888888888888888,
              "#fdca26"
             ],
             [
              1,
              "#f0f921"
             ]
            ],
            "type": "histogram2dcontour"
           }
          ],
          "mesh3d": [
           {
            "colorbar": {
             "outlinewidth": 0,
             "ticks": ""
            },
            "type": "mesh3d"
           }
          ],
          "parcoords": [
           {
            "line": {
             "colorbar": {
              "outlinewidth": 0,
              "ticks": ""
             }
            },
            "type": "parcoords"
           }
          ],
          "pie": [
           {
            "automargin": true,
            "type": "pie"
           }
          ],
          "scatter": [
           {
            "fillpattern": {
             "fillmode": "overlay",
             "size": 10,
             "solidity": 0.2
            },
            "type": "scatter"
           }
          ],
          "scatter3d": [
           {
            "line": {
             "colorbar": {
              "outlinewidth": 0,
              "ticks": ""
             }
            },
            "marker": {
             "colorbar": {
              "outlinewidth": 0,
              "ticks": ""
             }
            },
            "type": "scatter3d"
           }
          ],
          "scattercarpet": [
           {
            "marker": {
             "colorbar": {
              "outlinewidth": 0,
              "ticks": ""
             }
            },
            "type": "scattercarpet"
           }
          ],
          "scattergeo": [
           {
            "marker": {
             "colorbar": {
              "outlinewidth": 0,
              "ticks": ""
             }
            },
            "type": "scattergeo"
           }
          ],
          "scattergl": [
           {
            "marker": {
             "colorbar": {
              "outlinewidth": 0,
              "ticks": ""
             }
            },
            "type": "scattergl"
           }
          ],
          "scattermapbox": [
           {
            "marker": {
             "colorbar": {
              "outlinewidth": 0,
              "ticks": ""
             }
            },
            "type": "scattermapbox"
           }
          ],
          "scatterpolar": [
           {
            "marker": {
             "colorbar": {
              "outlinewidth": 0,
              "ticks": ""
             }
            },
            "type": "scatterpolar"
           }
          ],
          "scatterpolargl": [
           {
            "marker": {
             "colorbar": {
              "outlinewidth": 0,
              "ticks": ""
             }
            },
            "type": "scatterpolargl"
           }
          ],
          "scatterternary": [
           {
            "marker": {
             "colorbar": {
              "outlinewidth": 0,
              "ticks": ""
             }
            },
            "type": "scatterternary"
           }
          ],
          "surface": [
           {
            "colorbar": {
             "outlinewidth": 0,
             "ticks": ""
            },
            "colorscale": [
             [
              0,
              "#0d0887"
             ],
             [
              0.1111111111111111,
              "#46039f"
             ],
             [
              0.2222222222222222,
              "#7201a8"
             ],
             [
              0.3333333333333333,
              "#9c179e"
             ],
             [
              0.4444444444444444,
              "#bd3786"
             ],
             [
              0.5555555555555556,
              "#d8576b"
             ],
             [
              0.6666666666666666,
              "#ed7953"
             ],
             [
              0.7777777777777778,
              "#fb9f3a"
             ],
             [
              0.8888888888888888,
              "#fdca26"
             ],
             [
              1,
              "#f0f921"
             ]
            ],
            "type": "surface"
           }
          ],
          "table": [
           {
            "cells": {
             "fill": {
              "color": "#EBF0F8"
             },
             "line": {
              "color": "white"
             }
            },
            "header": {
             "fill": {
              "color": "#C8D4E3"
             },
             "line": {
              "color": "white"
             }
            },
            "type": "table"
           }
          ]
         },
         "layout": {
          "annotationdefaults": {
           "arrowcolor": "#2a3f5f",
           "arrowhead": 0,
           "arrowwidth": 1
          },
          "autotypenumbers": "strict",
          "coloraxis": {
           "colorbar": {
            "outlinewidth": 0,
            "ticks": ""
           }
          },
          "colorscale": {
           "diverging": [
            [
             0,
             "#8e0152"
            ],
            [
             0.1,
             "#c51b7d"
            ],
            [
             0.2,
             "#de77ae"
            ],
            [
             0.3,
             "#f1b6da"
            ],
            [
             0.4,
             "#fde0ef"
            ],
            [
             0.5,
             "#f7f7f7"
            ],
            [
             0.6,
             "#e6f5d0"
            ],
            [
             0.7,
             "#b8e186"
            ],
            [
             0.8,
             "#7fbc41"
            ],
            [
             0.9,
             "#4d9221"
            ],
            [
             1,
             "#276419"
            ]
           ],
           "sequential": [
            [
             0,
             "#0d0887"
            ],
            [
             0.1111111111111111,
             "#46039f"
            ],
            [
             0.2222222222222222,
             "#7201a8"
            ],
            [
             0.3333333333333333,
             "#9c179e"
            ],
            [
             0.4444444444444444,
             "#bd3786"
            ],
            [
             0.5555555555555556,
             "#d8576b"
            ],
            [
             0.6666666666666666,
             "#ed7953"
            ],
            [
             0.7777777777777778,
             "#fb9f3a"
            ],
            [
             0.8888888888888888,
             "#fdca26"
            ],
            [
             1,
             "#f0f921"
            ]
           ],
           "sequentialminus": [
            [
             0,
             "#0d0887"
            ],
            [
             0.1111111111111111,
             "#46039f"
            ],
            [
             0.2222222222222222,
             "#7201a8"
            ],
            [
             0.3333333333333333,
             "#9c179e"
            ],
            [
             0.4444444444444444,
             "#bd3786"
            ],
            [
             0.5555555555555556,
             "#d8576b"
            ],
            [
             0.6666666666666666,
             "#ed7953"
            ],
            [
             0.7777777777777778,
             "#fb9f3a"
            ],
            [
             0.8888888888888888,
             "#fdca26"
            ],
            [
             1,
             "#f0f921"
            ]
           ]
          },
          "colorway": [
           "#636efa",
           "#EF553B",
           "#00cc96",
           "#ab63fa",
           "#FFA15A",
           "#19d3f3",
           "#FF6692",
           "#B6E880",
           "#FF97FF",
           "#FECB52"
          ],
          "font": {
           "color": "#2a3f5f"
          },
          "geo": {
           "bgcolor": "white",
           "lakecolor": "white",
           "landcolor": "#E5ECF6",
           "showlakes": true,
           "showland": true,
           "subunitcolor": "white"
          },
          "hoverlabel": {
           "align": "left"
          },
          "hovermode": "closest",
          "mapbox": {
           "style": "light"
          },
          "paper_bgcolor": "white",
          "plot_bgcolor": "#E5ECF6",
          "polar": {
           "angularaxis": {
            "gridcolor": "white",
            "linecolor": "white",
            "ticks": ""
           },
           "bgcolor": "#E5ECF6",
           "radialaxis": {
            "gridcolor": "white",
            "linecolor": "white",
            "ticks": ""
           }
          },
          "scene": {
           "xaxis": {
            "backgroundcolor": "#E5ECF6",
            "gridcolor": "white",
            "gridwidth": 2,
            "linecolor": "white",
            "showbackground": true,
            "ticks": "",
            "zerolinecolor": "white"
           },
           "yaxis": {
            "backgroundcolor": "#E5ECF6",
            "gridcolor": "white",
            "gridwidth": 2,
            "linecolor": "white",
            "showbackground": true,
            "ticks": "",
            "zerolinecolor": "white"
           },
           "zaxis": {
            "backgroundcolor": "#E5ECF6",
            "gridcolor": "white",
            "gridwidth": 2,
            "linecolor": "white",
            "showbackground": true,
            "ticks": "",
            "zerolinecolor": "white"
           }
          },
          "shapedefaults": {
           "line": {
            "color": "#2a3f5f"
           }
          },
          "ternary": {
           "aaxis": {
            "gridcolor": "white",
            "linecolor": "white",
            "ticks": ""
           },
           "baxis": {
            "gridcolor": "white",
            "linecolor": "white",
            "ticks": ""
           },
           "bgcolor": "#E5ECF6",
           "caxis": {
            "gridcolor": "white",
            "linecolor": "white",
            "ticks": ""
           }
          },
          "title": {
           "x": 0.05
          },
          "xaxis": {
           "automargin": true,
           "gridcolor": "white",
           "linecolor": "white",
           "ticks": "",
           "title": {
            "standoff": 15
           },
           "zerolinecolor": "white",
           "zerolinewidth": 2
          },
          "yaxis": {
           "automargin": true,
           "gridcolor": "white",
           "linecolor": "white",
           "ticks": "",
           "title": {
            "standoff": 15
           },
           "zerolinecolor": "white",
           "zerolinewidth": 2
          }
         }
        }
       }
      }
     },
     "metadata": {},
     "output_type": "display_data"
    }
   ],
   "source": [
    "import plotly.graph_objects as go\n",
    "\n",
    "fig = go.Figure()\n",
    "fig.add_trace(go.Scatter(x=np.arange(1, len(ar.memory)+1), y=ar.memory))"
   ]
  },
  {
   "cell_type": "markdown",
   "metadata": {},
   "source": [
    "- MA (Moving average) model\n",
    "    - `mu` 是ＭＡ模型的平均值\n",
    "    - `theta` 是ＭＡ模型的係數，使用者可以自行設定 \n",
    "    - `epsilon` 是ＭＡ模型的隨機誤差項，透過helper function 中`np.random.normal`產生白噪音 $ N(0,\\sigma^2)$  \n",
    "$$ X_t = \\mu +\\epsilon_t +\\sum_{i}^{q} \\theta_{i}\\epsilon_{t-i}$$\n",
    "\n",
    "- 統計量\n",
    "  - 平均數\n",
    "$$ E(X_t) = E(\\mu +\\epsilon_t +\\sum_{i}^{q} \\theta_{i}\\epsilon_{t-i})$$\n",
    "可以推導出 $ E(X_t) = \\mu $ \n",
    "  - 變異數\n",
    "$$ Var(X_t) = Var(\\mu +\\epsilon_t +\\sum_{i}^{q} \\theta_{i}\\epsilon_{t-i})$$\n",
    "可以推導出 $ Var(X_t) = \\sigma^2(1+\\sum_{i}^{q} \\theta_{i}^2) $ \n"
   ]
  },
  {
   "cell_type": "code",
   "execution_count": 9,
   "metadata": {},
   "outputs": [],
   "source": [
    "import numpy as np\n",
    "import matplotlib.pyplot as plt\n",
    "import pandas as pd\n",
    "\n",
    "class MA:\n",
    "    def __init__(self, q, theta , mu, sigma):\n",
    "        self.q = q  # MA model order\n",
    "        self.theta = np.array(theta)  # MA coefficients\n",
    "        self.mu = mu  # Mean of the series\n",
    "        self.sigma = sigma  # Standard deviation of the noise\n",
    "        self.memory = np.zeros(q)  # Initialize memory to store past noise values\n",
    "    def simulateOnePreiod(self, n=1):\n",
    "        \"\"\"\n",
    "        預設參數為模擬一期，可以自行設定調用模擬期數\n",
    "        \"\"\"\n",
    "        return simulate(self, n)\n",
    " \n",
    "    def plot(self):\n",
    "        plot(self, self.q) \n",
    "\n",
    "\n",
    "#################### helpers  fuctions ####################\n",
    "def simulate(ma, n=1):\n",
    "    # Simulate n periods of the MA process\n",
    "    noise = np.random.normal(0, ma.sigma, n + ma.q)  # Generate noise terms\n",
    "    X = np.zeros(n)\n",
    "    for t in range(n):\n",
    "        X[t] = ma.mu + noise[t + ma.q]  # Current noise term\n",
    "        for i in range(ma.q):\n",
    "            X[t] += ma.theta[i] * noise[t + ma.q - i - 1]  # Past noise terms\n",
    "            ma.memory = np.append(ma.memory, X[t])  # Update memory with new value\n",
    "    return X\n",
    "\n",
    "def plot(ma, q):\n",
    "    plt.style.use('ggplot')\n",
    "    plt.figure(figsize=(10, 4))\n",
    "    plt.plot(ma.memory, marker='o')\n",
    "    plt.title(f\"MA({q}) Process\")  \n",
    "    plt.xlabel(\"Time\")\n",
    "    plt.ylabel(\"Value\")\n",
    "    plt.show()\n"
   ]
  },
  {
   "cell_type": "code",
   "execution_count": 16,
   "metadata": {},
   "outputs": [
    {
     "ename": "IndexError",
     "evalue": "index 2 is out of bounds for axis 0 with size 2",
     "output_type": "error",
     "traceback": [
      "\u001b[0;31m---------------------------------------------------------------------------\u001b[0m",
      "\u001b[0;31mIndexError\u001b[0m                                Traceback (most recent call last)",
      "\u001b[1;32m/Users/heng/Desktop/eco_programe/eco_pro/final_project.ipynb 儲存格 11\u001b[0m line \u001b[0;36m4\n\u001b[1;32m      <a href='vscode-notebook-cell:/Users/heng/Desktop/eco_programe/eco_pro/final_project.ipynb#X13sZmlsZQ%3D%3D?line=0'>1</a>\u001b[0m \u001b[39m# Example usage:\u001b[39;00m\n\u001b[1;32m      <a href='vscode-notebook-cell:/Users/heng/Desktop/eco_programe/eco_pro/final_project.ipynb#X13sZmlsZQ%3D%3D?line=1'>2</a>\u001b[0m \u001b[39m# Create an MA(2) model with specific parameters\u001b[39;00m\n\u001b[1;32m      <a href='vscode-notebook-cell:/Users/heng/Desktop/eco_programe/eco_pro/final_project.ipynb#X13sZmlsZQ%3D%3D?line=2'>3</a>\u001b[0m ma \u001b[39m=\u001b[39m MA(q\u001b[39m=\u001b[39m\u001b[39m3\u001b[39m, theta\u001b[39m=\u001b[39m[\u001b[39m0.5\u001b[39m, \u001b[39m-\u001b[39m\u001b[39m0.3\u001b[39m], mu\u001b[39m=\u001b[39m\u001b[39m0\u001b[39m, sigma\u001b[39m=\u001b[39m\u001b[39m1\u001b[39m)\n\u001b[0;32m----> <a href='vscode-notebook-cell:/Users/heng/Desktop/eco_programe/eco_pro/final_project.ipynb#X13sZmlsZQ%3D%3D?line=3'>4</a>\u001b[0m ma\u001b[39m.\u001b[39msimulateOnePreiod(\u001b[39m100\u001b[39m)\n\u001b[1;32m      <a href='vscode-notebook-cell:/Users/heng/Desktop/eco_programe/eco_pro/final_project.ipynb#X13sZmlsZQ%3D%3D?line=4'>5</a>\u001b[0m ma\u001b[39m.\u001b[39mmemory\n\u001b[1;32m      <a href='vscode-notebook-cell:/Users/heng/Desktop/eco_programe/eco_pro/final_project.ipynb#X13sZmlsZQ%3D%3D?line=5'>6</a>\u001b[0m ma\u001b[39m.\u001b[39mplot()\n",
      "\u001b[1;32m/Users/heng/Desktop/eco_programe/eco_pro/final_project.ipynb 儲存格 11\u001b[0m line \u001b[0;36m1\n\u001b[1;32m     <a href='vscode-notebook-cell:/Users/heng/Desktop/eco_programe/eco_pro/final_project.ipynb#X13sZmlsZQ%3D%3D?line=11'>12</a>\u001b[0m \u001b[39mdef\u001b[39;00m \u001b[39msimulateOnePreiod\u001b[39m(\u001b[39mself\u001b[39m, n\u001b[39m=\u001b[39m\u001b[39m1\u001b[39m):\n\u001b[1;32m     <a href='vscode-notebook-cell:/Users/heng/Desktop/eco_programe/eco_pro/final_project.ipynb#X13sZmlsZQ%3D%3D?line=12'>13</a>\u001b[0m \u001b[39m    \u001b[39m\u001b[39m\"\"\"\u001b[39;00m\n\u001b[1;32m     <a href='vscode-notebook-cell:/Users/heng/Desktop/eco_programe/eco_pro/final_project.ipynb#X13sZmlsZQ%3D%3D?line=13'>14</a>\u001b[0m \u001b[39m    預設參數為模擬一期，可以自行設定調用模擬期數\u001b[39;00m\n\u001b[1;32m     <a href='vscode-notebook-cell:/Users/heng/Desktop/eco_programe/eco_pro/final_project.ipynb#X13sZmlsZQ%3D%3D?line=14'>15</a>\u001b[0m \u001b[39m    \"\"\"\u001b[39;00m\n\u001b[0;32m---> <a href='vscode-notebook-cell:/Users/heng/Desktop/eco_programe/eco_pro/final_project.ipynb#X13sZmlsZQ%3D%3D?line=15'>16</a>\u001b[0m     \u001b[39mreturn\u001b[39;00m simulate(\u001b[39mself\u001b[39m, n)\n",
      "\u001b[1;32m/Users/heng/Desktop/eco_programe/eco_pro/final_project.ipynb 儲存格 11\u001b[0m line \u001b[0;36m3\n\u001b[1;32m     <a href='vscode-notebook-cell:/Users/heng/Desktop/eco_programe/eco_pro/final_project.ipynb#X13sZmlsZQ%3D%3D?line=27'>28</a>\u001b[0m     X[t] \u001b[39m=\u001b[39m ma\u001b[39m.\u001b[39mmu \u001b[39m+\u001b[39m noise[t \u001b[39m+\u001b[39m ma\u001b[39m.\u001b[39mq]  \u001b[39m# Current noise term\u001b[39;00m\n\u001b[1;32m     <a href='vscode-notebook-cell:/Users/heng/Desktop/eco_programe/eco_pro/final_project.ipynb#X13sZmlsZQ%3D%3D?line=28'>29</a>\u001b[0m     \u001b[39mfor\u001b[39;00m i \u001b[39min\u001b[39;00m \u001b[39mrange\u001b[39m(ma\u001b[39m.\u001b[39mq):\n\u001b[0;32m---> <a href='vscode-notebook-cell:/Users/heng/Desktop/eco_programe/eco_pro/final_project.ipynb#X13sZmlsZQ%3D%3D?line=29'>30</a>\u001b[0m         X[t] \u001b[39m+\u001b[39m\u001b[39m=\u001b[39m ma\u001b[39m.\u001b[39mtheta[i] \u001b[39m*\u001b[39m noise[t \u001b[39m+\u001b[39m ma\u001b[39m.\u001b[39mq \u001b[39m-\u001b[39m i \u001b[39m-\u001b[39m \u001b[39m1\u001b[39m]  \u001b[39m# Past noise terms\u001b[39;00m\n\u001b[1;32m     <a href='vscode-notebook-cell:/Users/heng/Desktop/eco_programe/eco_pro/final_project.ipynb#X13sZmlsZQ%3D%3D?line=30'>31</a>\u001b[0m         ma\u001b[39m.\u001b[39mmemory \u001b[39m=\u001b[39m np\u001b[39m.\u001b[39mappend(ma\u001b[39m.\u001b[39mmemory, X[t])  \u001b[39m# Update memory with new value\u001b[39;00m\n\u001b[1;32m     <a href='vscode-notebook-cell:/Users/heng/Desktop/eco_programe/eco_pro/final_project.ipynb#X13sZmlsZQ%3D%3D?line=31'>32</a>\u001b[0m \u001b[39mreturn\u001b[39;00m X\n",
      "\u001b[0;31mIndexError\u001b[0m: index 2 is out of bounds for axis 0 with size 2"
     ]
    }
   ],
   "source": [
    "\n",
    "# Example usage:\n",
    "# Create an MA(2) model with specific parameters\n",
    "ma = MA(q=3, theta=[0.5, -0.3], mu=0, sigma=1)\n",
    "ma.simulateOnePreiod(100)\n",
    "ma.memory\n",
    "ma.plot()"
   ]
  },
  {
   "cell_type": "code",
   "execution_count": 7,
   "metadata": {},
   "outputs": [
    {
     "ename": "TypeError",
     "evalue": "plot() missing 1 required positional argument: 'q'",
     "output_type": "error",
     "traceback": [
      "\u001b[0;31m---------------------------------------------------------------------------\u001b[0m",
      "\u001b[0;31mTypeError\u001b[0m                                 Traceback (most recent call last)",
      "\u001b[1;32m/Users/heng/Desktop/eco_programe/eco_pro/final_project.ipynb 儲存格 12\u001b[0m line \u001b[0;36m1\n\u001b[0;32m----> <a href='vscode-notebook-cell:/Users/heng/Desktop/eco_programe/eco_pro/final_project.ipynb#X22sZmlsZQ%3D%3D?line=0'>1</a>\u001b[0m ma\u001b[39m.\u001b[39mplot()\n",
      "\u001b[1;32m/Users/heng/Desktop/eco_programe/eco_pro/final_project.ipynb 儲存格 12\u001b[0m line \u001b[0;36m1\n\u001b[1;32m     <a href='vscode-notebook-cell:/Users/heng/Desktop/eco_programe/eco_pro/final_project.ipynb#X22sZmlsZQ%3D%3D?line=17'>18</a>\u001b[0m \u001b[39mdef\u001b[39;00m \u001b[39mplot\u001b[39m(\u001b[39mself\u001b[39m):\n\u001b[0;32m---> <a href='vscode-notebook-cell:/Users/heng/Desktop/eco_programe/eco_pro/final_project.ipynb#X22sZmlsZQ%3D%3D?line=18'>19</a>\u001b[0m     plot(\u001b[39mself\u001b[39m)\n",
      "\u001b[0;31mTypeError\u001b[0m: plot() missing 1 required positional argument: 'q'"
     ]
    }
   ],
   "source": [
    "ma.plot()"
   ]
  },
  {
   "cell_type": "code",
   "execution_count": 27,
   "metadata": {},
   "outputs": [
    {
     "data": {
      "text/plain": [
       "array([-0.367981  , -0.53162418,  0.18418874,  0.92362758, -0.24850906,\n",
       "       -0.08678272,  1.02255162, -1.23208507, -1.62416466, -1.11611416])"
      ]
     },
     "execution_count": 27,
     "metadata": {},
     "output_type": "execute_result"
    }
   ],
   "source": [
    "ma.simulateOnePreiod(10)"
   ]
  },
  {
   "cell_type": "code",
   "execution_count": 2,
   "metadata": {},
   "outputs": [],
   "source": [
    "import numpy as np\n",
    "import matplotlib.pyplot as plt\n",
    "import pandas as pd\n",
    "### ma 是一個白雜訊序列 N(0,sigma^2) ###\n",
    "class MA:\n",
    "    def __init__(self, q, theta, mu, sigma):\n",
    "        self.q = q  # MA model order\n",
    "        self.theta = np.array(theta)  # MA coefficients\n",
    "        self.mu = mu  # Mean of the series\n",
    "        self.sigma = sigma  # Standard deviation of the noise\n",
    "        self.memory = np.zeros(q)  # Initialize memory to store past noise values\n",
    "\n",
    "    def simulate(self, n=1):\n",
    "        # Simulate n periods of the MA process\n",
    "        noise = np.random.normal(0, self.sigma, n + self.q)  # Generate noise terms\n",
    "        X = np.zeros(n)\n",
    "        for t in range(n):\n",
    "            X[t] = self.mu + noise[t + self.q]  # Current noise term\n",
    "            for i in range(self.q):\n",
    "                X[t] += self.theta[i] * noise[t + self.q - i - 1]  # Past noise terms\n",
    "            self.memory = np.append(self.memory, X[t])  # Update memory with new value\n",
    "        return X\n",
    "\n",
    "    def plot(self):\n",
    "        plt.figure(figsize=(10, 4))\n",
    "        plt.plot(self.memory, marker='o')\n",
    "        plt.title(\"MA(q) Process\")\n",
    "        plt.xlabel(\"Time\")\n",
    "        plt.ylabel(\"Value\")\n",
    "        plt.show()\n"
   ]
  },
  {
   "cell_type": "code",
   "execution_count": 5,
   "metadata": {},
   "outputs": [
    {
     "data": {
      "image/png": "[encoded data removed]",
      "text/plain": [
       "<Figure size 1000x400 with 1 Axes>"
      ]
     },
     "metadata": {},
     "output_type": "display_data"
    },
    {
     "data": {
      "text/plain": [
       "array([ 0.45155865, -0.41633627, -0.92993527,  1.72613725,  2.23916764,\n",
       "       -0.63869937, -0.32223538,  0.14265218,  1.14178874,  0.80237555,\n",
       "       -1.07317309, -0.20488167, -0.14451375, -1.34636993,  0.20327485,\n",
       "        1.17785838, -0.49104186, -1.28479883, -2.13599302,  0.98570908,\n",
       "        0.71995652, -0.60214726,  1.68475574,  0.40161166,  0.78410442,\n",
       "        2.61402646,  0.73877168, -0.4775371 , -0.19662906, -1.36545293,\n",
       "       -1.9500939 , -0.98942433,  0.06621831, -1.45195574,  0.25052088,\n",
       "        2.21847891,  0.2417522 ,  0.12060863,  0.25109627, -1.48261299,\n",
       "       -1.2493884 , -0.0143242 , -0.94740129,  0.0402935 , -0.86805668,\n",
       "       -1.97021443, -1.14256948, -0.08970289,  0.21738513,  1.26180239,\n",
       "        1.03590236, -0.91217951, -0.58380566,  1.1718334 , -0.07970595,\n",
       "        1.21205184,  1.97142838,  1.15700651, -0.66714629, -1.77986849,\n",
       "       -0.14888274, -1.8058345 ,  0.14649397,  0.52913856,  1.55827636,\n",
       "        0.43213034, -1.47790146,  0.27774693, -1.93898913,  0.13409076,\n",
       "        0.80466485, -0.46054065, -0.13040797, -0.77096901, -0.71369136,\n",
       "        0.24117756,  0.86390107, -0.87251053,  0.80024371,  1.53579097,\n",
       "        0.97336218,  0.87351151,  0.43737755, -0.5325932 , -2.62830258,\n",
       "       -0.74481018,  1.28215696, -0.22330753,  0.10238431, -0.41005337,\n",
       "       -1.30145606, -0.3786318 ,  0.42921316,  1.12734743,  1.19001037,\n",
       "        0.01179392, -1.43488988,  0.75764687,  1.5780689 , -0.58841783])"
      ]
     },
     "execution_count": 5,
     "metadata": {},
     "output_type": "execute_result"
    }
   ],
   "source": [
    "\n",
    "# Example usage:\n",
    "# Create an MA(2) model with specific parameters\n",
    "ma_model = MA(q=2, theta=[0.5, -0.3], mu=0, sigma=1)\n",
    "ma_model.simulate(n=100)\n",
    "ma_model.plot()\n",
    "MA(q=2, theta=[0.5, -0.3], mu=0, sigma=1).simulate(n=100)"
   ]
  },
  {
   "cell_type": "code",
   "execution_count": null,
   "metadata": {},
   "outputs": [],
   "source": []
  }
 ],
 "metadata": {
  "kernelspec": {
   "display_name": "base",
   "language": "python",
   "name": "python3"
  },
  "language_info": {
   "codemirror_mode": {
    "name": "ipython",
    "version": 3
   },
   "file_extension": ".py",
   "mimetype": "text/x-python",
   "name": "python",
   "nbconvert_exporter": "python",
   "pygments_lexer": "ipython3",
   "version": "3.11.5"
  }
 },
 "nbformat": 4,
 "nbformat_minor": 2
}
