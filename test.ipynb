{
 "cells": [
  {
   "cell_type": "code",
   "execution_count": 1,
   "metadata": {},
   "outputs": [],
   "source": [
    "import numpy as np  \n",
    "class AR_model:\n",
    "    def __init__(self, data, p):\n",
    "        self.data = data\n",
    "        self.p = p\n",
    "        self.n = len(data)\n",
    "        self.phi = np.zeros(p)\n",
    "        self.sigma = 0\n",
    "        self.residuals = np.zeros(self.n)\n",
    "        self.predictions = np.zeros(self.n)\n",
    "        self.fit()  \n",
    "    def fit(self):\n",
    "        self.phi = np.polyfit(self.data[:-self.p], self.data[self.p:], self.p)\n",
    "        self.sigma = np.std(self.data[self.p:] - np.polyval(self.phi, self.data[:-self.p]))\n",
    "        self.residuals = self.data[self.p:] - np.polyval(self.phi, self.data[:-self.p])\n",
    "        self.predictions = np.polyval(self.phi, self.data[:-self.p])    \n",
    "    def predict(self, k):\n",
    "        return np.polyval(self.phi, self.data[-self.p:])    \n",
    "    def forecast(self, k):  \n",
    "        predictions = np.zeros(k)\n",
    "        for i in range(k):\n",
    "            predictions[i] = self.predict(1)\n",
    "            self.data = np.append(self.data, predictions[i])\n",
    "            self.fit()\n",
    "        return predictions  \n",
    "    def summary(self):  \n",
    "        print(\"AR({}) Model (p = {})\".format(self.p, self.p))\n",
    "        print(\"===================================\")\n",
    "        print(\"Coefficients:\")\n",
    "        print(\"Constant: {:.4f}\".format(self.phi[0]))\n",
    "        for i in range(1, self.p + 1):\n",
    "            print(\"Phi({}): {:.4f}\".format(i, self.phi[i]))\n",
    "        print(\"Sigma: {:.4f}\".format(self.sigma))\n",
    "        print(\"===================================\")\n",
    "        print(\"Residuals:\")\n",
    "        print(\"Mean: {:.4f}\".format(np.mean(self.residuals)))\n",
    "        print(\"Median: {:.4f}\".format(np.median(self.residuals)))\n",
    "        print(\"Variance: {:.4f}\".format(np.var(self.residuals)))\n",
    "        print(\"===================================\")\n",
    "        print(\"Prediction:\")\n",
    "        print(\"Mean: {:.4f}\".format(np.mean(self.predictions)))\n",
    "        print(\"Median: {:.4f}\".format(np.median(self.predictions)))\n",
    "        print(\"Variance: {:.4f}\".format(np.var(self.predictions)))\n",
    "        print(\"===================================\")\n",
    "        print(\"Forecast:\")\n",
    "        print(\"Mean: {:.4f}\".format(np.mean(self.forecast(10))))\n",
    "        print(\"Median: {:.4f}\".format(np.median(self.forecast(10))))\n",
    "        print(\"Variance: {:.4f}\".format(np.var(self.forecast(10))))\n",
    "        print(\"===================================\")\n",
    "       "
   ]
  },
  {
   "cell_type": "code",
   "execution_count": 4,
   "metadata": {},
   "outputs": [],
   "source": [
    "data=np.array([1,2,3,4,5,6,7,8,9,10])\n",
    "\n"
   ]
  },
  {
   "cell_type": "code",
   "execution_count": null,
   "metadata": {},
   "outputs": [],
   "source": []
  }
 ],
 "metadata": {
  "kernelspec": {
   "display_name": "base",
   "language": "python",
   "name": "python3"
  },
  "language_info": {
   "codemirror_mode": {
    "name": "ipython",
    "version": 3
   },
   "file_extension": ".py",
   "mimetype": "text/x-python",
   "name": "python",
   "nbconvert_exporter": "python",
   "pygments_lexer": "ipython3",
   "version": "3.11.5"
  }
 },
 "nbformat": 4,
 "nbformat_minor": 2
}
