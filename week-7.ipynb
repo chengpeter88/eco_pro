{
 "cells": [
  {
   "cell_type": "code",
   "execution_count": null,
   "metadata": {},
   "outputs": [],
   "source": [
    "from IPython.core.interactiveshell import InteractiveShell\n",
    "InteractiveShell.ast_node_interactivity = \"all\""
   ]
  },
  {
   "cell_type": "markdown",
   "metadata": {},
   "source": [
    "# OOP\n",
    "\n",
    "## Recap\n",
    "\n",
    "  - Encapsulation: grouping data and methods that work on that data. \n",
    "    - When initiating an instance, some data including parameters are passed to the constructor. The output of the constructor is an object that has some data and methods that work on that data.\n",
    "  - Instance: an object that is created from a class -- a model under a special set of paramters values (values are given). \n",
    "    - An instance has attributes and methods -- instance attributes (properties) and instance methods.\n",
    "  - Composition: a class's instance can have instances of other classes as attributes. `def __init__(self, other_class_instance): self.other_class_instance = other_class_instance`.\n",
    "    - A class can have instance attributes that are instances of other classes. \n",
    "    - A class can have instance methods that use instances of other classes as parameters."
   ]
  },
  {
   "cell_type": "markdown",
   "metadata": {},
   "source": [
    "寫一個instance \n",
    "- instace中的係數已經是被決定 class中的instace 是一個小寫的東西"
   ]
  },
  {
   "cell_type": "code",
   "execution_count": null,
   "metadata": {},
   "outputs": [],
   "source": [
    "class Consumer_LogUtility:\n",
    "#### 一個基礎的消費者需要的參數\n",
    "    def __init__(self, beta):\n",
    "        self.beta = beta\n",
    "    def foc_c(self, knext: float, w: float, R: float): # (23.6b)\n",
    "        \"\"\"\n",
    "        First order condition of the consumer's problem\n",
    "        (knext, w, R)\n",
    "        \"\"\"\n",
    "        return knext - (self.beta/(1+self.beta))*w\n",
    "\n",
    "class Producer_cobbDouglas:\n",
    "    def __init__(self, alpha):\n",
    "        self.alpha = alpha\n",
    "    def foc_l(self, k, w, l=1): # (23.9)\n",
    "        \"\"\" \n",
    "        FOC with respect to labor\n",
    "        (k, l, w)\n",
    "        \"\"\"\n",
    "        return (1-self.alpha)*(k/l)**self.alpha - w\n",
    "    def foc_k(self, k, R, l=1): # (23.9)\n",
    "        \"\"\"\n",
    "        FOC with respect to capital\n",
    "        (k, l, R)\n",
    "        \"\"\"\n",
    "        return self.alpha*(l/k)**(1-self.alpha) - R\n"
   ]
  },
  {
   "cell_type": "code",
   "execution_count": null,
   "metadata": {},
   "outputs": [],
   "source": [
    "consumer = Consumer_LogUtility(beta=0.9)    \n",
    "producer = Producer_cobbDouglas(alpha=0.33) \n",
    "###兩個是 instance  不是繼承關係 大寫 Consumer_LogUtility     "
   ]
  },
  {
   "cell_type": "markdown",
   "metadata": {},
   "source": [
    ">一個可以連續可以微分的函數特性 \n",
    "- 一個log function 可以利用這個連續可微分的函數特性 \n",
    "- 為一個繼承的概念"
   ]
  },
  {
   "cell_type": "code",
   "execution_count": null,
   "metadata": {},
   "outputs": [],
   "source": [
    "class OLGMarket:\n",
    "    ### market the instaces are consumers and producer\n",
    "    def __init__(self, consumer, producer, k0):\n",
    "        self.consumer = consumer # composite 1\n",
    "        self.producer = producer # composite 2\n",
    "        self.k0 = k0\n",
    "        self.k = k0\n",
    "        self.equilibrium_dynamics = [[k0, None, None]]\n",
    "    def generate_onePeriod_equilibrium(self):\n",
    "        \"\"\"\n",
    "        return a tuple of (knext, w, R)\n",
    "        and track the dynamics in self.equilibrium_dynamics\n",
    "        \"\"\" # docstring: documentation string\n",
    "        \n",
    "        alpha = self.producer.alpha\n",
    "        beta = self.consumer.beta\n",
    "\n",
    "        w = (1-alpha)*self.k**alpha\n",
    "        R = alpha*(self.k)**(alpha-1)\n",
    "        knext = (beta/(1+beta))*w\n",
    "\n",
    "        # keep track of the dynamics\n",
    "        self.equilibrium_dynamics[len(self.equilibrium_dynamics)-1][1] = w\n",
    "        self.equilibrium_dynamics[len(self.equilibrium_dynamics)-1][2] = R\n",
    "        self.equilibrium_dynamics.append([knext, None, None])\n",
    "\n",
    "        # set the market time to the next period\n",
    "        self.k = knext\n",
    "        return (knext, w, R)\n",
    "    \n",
    "    def clear_equilibrium_dynamics(self):\n",
    "        self.equilibrium_dynamics = [[self.k0, None, None]]\n",
    "        self.k = self.k0\n",
    "\n"
   ]
  },
  {
   "cell_type": "code",
   "execution_count": null,
   "metadata": {},
   "outputs": [],
   "source": [
    "market = OLGMarket(consumer, producer, k0=0.1)  \n",
    "market"
   ]
  },
  {
   "cell_type": "code",
   "execution_count": null,
   "metadata": {},
   "outputs": [],
   "source": [
    "import  numpy as np \n",
    "#### generate the a contructor \n",
    "def Draw(mu, sigma):\n",
    "    def draw(size):\n",
    "        return np.random.normal(mu, sigma, size)   \n",
    "    return draw"
   ]
  },
  {
   "cell_type": "markdown",
   "metadata": {},
   "source": [
    "## Design a prototype\n",
    "\n",
    "Designing a class all at once is daunting. We can start with only the properties (attributes) of the class and then add methods as we go, i.e. only setup a prototype with only `def __init__(...)`.\n"
   ]
  },
  {
   "cell_type": "markdown",
   "metadata": {},
   "source": [
    "Consider the following AR(k) model:\n",
    "\n",
    "$$\n",
    "y_t = \\phi_1 y_{t-1} + \\phi_2 y_{t-2} + \\cdots + \\phi_k y_{t-k} + \\epsilon_t\n",
    "$$\n",
    "\n",
    "where $\\epsilon_t \\sim N(0, \\sigma^2)$. eplsilon is the random function.\n",
    "\n",
    "Suppose we are interested in simulate a random path of $y_t$ for $t=1,2,\\ldots,T$, with $Y_0=[y_0, y_{-1}, \\ldots, y_{-k+1}]$ given."
   ]
  },
  {
   "cell_type": "code",
   "execution_count": null,
   "metadata": {
    "tags": [
     "ar-prototype"
    ]
   },
   "outputs": [],
   "source": [
    "import numpy as np\n",
    "### ypast is a former of y\n",
    "class AR:\n",
    "    def __init__(self, *phi, epsilon, Y0):\n",
    "        self.phi = np.array(phi)\n",
    "        self.epsilon = epsilon\n",
    "        self.Y0 = np.array(Y0)\n",
    "        self.memory = np.array([])\n",
    "        self.YPast = np.array(self.Y0)\n",
    "\n",
    "#### 基礎故事架構 接續method\n"
   ]
  },
  {
   "cell_type": "markdown",
   "metadata": {},
   "source": [
    "- We will talk about `*phi` later.\n",
    "- epsilon is a function to generate random numbers. (An example will follow.)\n",
    "- We start from `t=1`, for `y_1` we need `y_0` and `y_{t-k}` to kick start our simulation. `Y0` is a list of $y_0, y_{-1}, \\ldots, y_{-k+1}$.  \n",
    "- `memory` is to memorize simulated process so far (detail will follow).\n",
    "- `YPast` is refering to $y_{t-1}, y_{t-2}, \\ldots, y_{t-k}$ for a given `t>0`.\n",
    "\n",
    "Consider the following random process:\n",
    "$$\n",
    "\\begin{aligned}\n",
    "y_t =0.8 y_{t-1} - 0.35 y_{t-2}  + \\epsilon_t \\\\\n",
    "Y_0= [0, 0]\\\\\n",
    "\\epsilon_t \\sim N(0, 0.4^2) \\\\\n",
    "\\end{aligned}\n",
    "$$\n",
    "\n",
    "with $y_{0}=y_{-1}=0$\n",
    "\n",
    "The above process fundamentals are determined by:\n",
    "\n",
    "- `phi = [0.8, -0.35]`\n",
    "- `Y0 = [0, 0]`, and\n",
    "- `epsilon` that can generate random numbers from $N(0, 0.4^2)$."
   ]
  },
  {
   "cell_type": "markdown",
   "metadata": {},
   "source": [
    "### An instance"
   ]
  },
  {
   "cell_type": "code",
   "execution_count": null,
   "metadata": {},
   "outputs": [],
   "source": [
    "import numpy as np\n",
    "\n",
    "def Epsilon(mu, sigma):\n",
    "    def draw(size):\n",
    "        return np.random.normal(mu, sigma, size)\n",
    "    return draw\n",
    "    \n",
    "epsilon = Epsilon(0, 0.4)\n",
    "epsilon(10)"
   ]
  },
  {
   "cell_type": "code",
   "execution_count": null,
   "metadata": {},
   "outputs": [],
   "source": [
    "epsilon(1)\n",
    "epsilon(10)"
   ]
  },
  {
   "cell_type": "code",
   "execution_count": null,
   "metadata": {},
   "outputs": [],
   "source": [
    "ar = AR(0.8, -0.35, epsilon=epsilon, Y0=[0,0])"
   ]
  },
  {
   "cell_type": "code",
   "execution_count": null,
   "metadata": {},
   "outputs": [],
   "source": [
    "# an instance of the basic prototype of a class\n",
    "ar.phi\n",
    "ar.epsilon(10)\n",
    "ar.Y0\n",
    "ar.YPast"
   ]
  },
  {
   "cell_type": "code",
   "execution_count": null,
   "metadata": {},
   "outputs": [],
   "source": [
    "import numpy as np\n",
    "### ypast is a former of y\n",
    "class AR:\n",
    "    def __init__(self, *phi, epsilon, Y0):\n",
    "        self.phi = np.array(phi)\n",
    "        self.epsilon = epsilon\n",
    "        self.Y0 = np.array(Y0)\n",
    "        self.memory = np.array([])\n",
    "        self.YPast = np.array(self.Y0)\n",
    "\n",
    "import numpy as np\n",
    "def Epsilon(mu, sigma):\n",
    "    def draw(size):\n",
    "        return np.random.normal(mu, sigma, size)\n",
    "    return draw\n",
    "    \n",
    "epsilon = Epsilon(0, 0.4)\n",
    "\n",
    "\n",
    "ar = AR(phi=[0.8, 0.3], epsilon=epsilon, Y0=[0,0])\n",
    "\n"
   ]
  },
  {
   "cell_type": "markdown",
   "metadata": {},
   "source": [
    "## Packing\n",
    "\n",
    "Packing is to pack all non-key-value-pair argument values into a tuple. "
   ]
  },
  {
   "cell_type": "code",
   "execution_count": null,
   "metadata": {},
   "outputs": [],
   "source": [
    "def test(*args, epsilon):\n",
    "    print(args)\n",
    "    print(epsilon)\n",
    "\n",
    "test(1,2,3, epsilon=\"Hi\")\n",
    "##### * 沒有key 的input 會被集結在一起當成一個向量 tuple \n",
    "### 簡單把一些相同的參數集結在一起  "
   ]
  },
  {
   "cell_type": "code",
   "execution_count": null,
   "metadata": {},
   "outputs": [],
   "source": [
    "def fun(a,b):\n",
    "    return a+b\n",
    "fun(1,2)\n",
    "fun(a=1, b=2)   ###key value pair 明確指定參數哪個對應哪個"
   ]
  },
  {
   "cell_type": "code",
   "execution_count": null,
   "metadata": {},
   "outputs": [],
   "source": [
    "### ces  packing 缺點\n",
    "def untilty(x1,x2,):\n",
    "    return min(x1,x2) \n",
    "untilty(1,2)    \n"
   ]
  },
  {
   "cell_type": "code",
   "execution_count": null,
   "metadata": {},
   "outputs": [],
   "source": [
    "##不管有幾個參數都可以用    \n",
    "def untilty(*X):\n",
    "    return min(X) \n",
    "untilty(1,2,3,5 ,6,7,8,9,10) "
   ]
  },
  {
   "cell_type": "markdown",
   "metadata": {},
   "source": [
    "> In `test(1,2,3, epsilon=\"Hi\")`: `1,2,3` are non-key-value inputs, and `epsilon=\"Hi\"` is a key-value input. `1,2,3` will be packed into `args` tuple.\n",
    "\n",
    "> In AR class, `*phi` will pack all non-key-value-pair argument values into `phi` tuple."
   ]
  },
  {
   "cell_type": "markdown",
   "metadata": {},
   "source": [
    "### Exercise CES and packing\n",
    "\n",
    "In general a CES utility function of $k$ goods can be expressed as\n",
    "\n",
    "$$\n",
    "u(x_1, x_2, \\ldots, x_k) = \\left(\\sum_{i=1}^k \\alpha_i x_i^\\rho\\right)^{1/\\rho}\n",
    "$$\n",
    "\n",
    "where $\\alpha_i$ is the share parameter of good $i$ and $\\rho$ is the elasticity of substitution. Consider the following two examples:\n",
    "\n",
    "1. $(\\alpha_1, \\alpha_2, \\alpha_3)=(0.3, 0.3, 0.4)$ and $\\rho=2$. Compute the util under $\\{x_1, x_2, x_3\\}=\\{2, 4, 5\\}$.\n",
    "2. $(\\alpha_1, \\alpha_2, \\alpha_3, \\alpha_4)=(0.2, 0.2, 0.3, 0.3)$ and $\\rho=2$. Compute the util under $\\{x_1, x_2, x_3, x_4\\}=\\{1, 2, 2, 1\\}$.\n",
    "   \n",
    "Construct `CESUtility` function so that these two examples can be computed as:"
   ]
  },
  {
   "cell_type": "code",
   "execution_count": null,
   "metadata": {},
   "outputs": [],
   "source": [
    "\n",
    "import numpy as np\n",
    "\n",
    "def CESUtility(rho, *alpha):\n",
    "    def ces(*X):\n",
    "        X**(-rho)*alpha\n",
    "        return sum(X**(-rho)*alpha)\n",
    "\n",
    "    return ces\n",
    "# example 1\n",
    "\n",
    "u = CESUtility(0.3, 0.3, 0.4, rho=2)\n",
    "u(2, 4, 5)\n",
    "\n",
    "# example 2\n",
    "u2 = CESUtility(0.2, 0.2, 0.3, 0.3, rho=2)\n",
    "u(1, 2, 2, 1)"
   ]
  },
  {
   "cell_type": "code",
   "execution_count": 67,
   "metadata": {},
   "outputs": [
    {
     "data": {
      "text/plain": [
       "0.3312853754695489"
      ]
     },
     "execution_count": 67,
     "metadata": {},
     "output_type": "execute_result"
    }
   ],
   "source": [
    "import numpy as np\n",
    "\n",
    "def CESUtility(*alpha, rho):\n",
    "    def ces(*X):\n",
    "        X = np.array(X)\n",
    "        X = X.astype(float)\n",
    "        X = X.reshape(-1)\n",
    "        return sum(X ** (-rho) * alpha)**(1/rho)\n",
    "\n",
    "    return ces\n",
    "\n",
    "# example 1\n",
    "u = CESUtility(0.3, 0.3, 0.4, rho=2)\n",
    "u(2, 4, 5)"
   ]
  },
  {
   "cell_type": "code",
   "execution_count": 69,
   "metadata": {},
   "outputs": [
    {
     "name": "stdout",
     "output_type": "stream",
     "text": [
      "4.0\n"
     ]
    }
   ],
   "source": [
    "import numpy as np\n",
    "\n",
    "def CESUtility(*alpha, rho):\n",
    "    def ces(*x):\n",
    "        x = np.array(x)\n",
    "        return sum(x**(rho) * alpha)**(1/rho)\n",
    "\n",
    "    return ces\n",
    "\n",
    "u = CESUtility(0.3, 0.3, 0.4, rho=2)\n",
    "print(u(2,4,5))\n"
   ]
  },
  {
   "cell_type": "code",
   "execution_count": 70,
   "metadata": {},
   "outputs": [
    {
     "name": "stdout",
     "output_type": "stream",
     "text": [
      "0.6841939771800453\n"
     ]
    }
   ],
   "source": [
    "def ces(*X):\n",
    "    X = np.array(X)\n",
    "    X = X.astype(float)\n",
    "    X = X.reshape(-1)\n",
    "    return sum(X ** (-0.5) *0.5)**(1/0.5)\n",
    "print(ces(2,4,5) )"
   ]
  },
  {
   "cell_type": "code",
   "execution_count": null,
   "metadata": {},
   "outputs": [],
   "source": [
    "def ces(*x):\n",
    "    x = np.array(x)\n",
    "    return sum(x**(rho) * alpha)**(1/rho)"
   ]
  },
  {
   "cell_type": "markdown",
   "metadata": {},
   "source": [
    "\n",
    "## Memory\n",
    "\n",
    "Sometimes we want to an instance to memorize the method calls that have been made on it -- memorize the information that the method call has generated under the hood.\n",
    "\n",
    "We can use "
   ]
  },
  {
   "cell_type": "markdown",
   "metadata": {},
   "source": [
    "## Design instance methods\n",
    "\n",
    "To design an instance method, think what you want to do with the instance's attributes (properties). In our case, is to complete your task using **only `ar` instance**. \n",
    "\n",
    "> Using only `ar` is the key of OOP encapsulation feature. If you need to use information other than `ar`, you should pass them as parameters in the method or as instance attributes when you build `__init__` content.\n",
    ">\n",
    "> Sometimes we refer to the parameters that pass to `__init__` as **model parameters** (the fundamental description of your model setup) or and the parameters that pass to a method as **method parameters**.\n",
    "\n",
    "Suppose you want to design a method so that `ar.simulate_nPeriods(10)` will simulate 10 periods of the AR(k) model.\n",
    "\n",
    "Let's start from simulate only 1 period:"
   ]
  },
  {
   "cell_type": "markdown",
   "metadata": {},
   "source": [
    "Algorithm:\n",
    "\n",
    "0. Given `eps = ar.epsilon(1)`\n",
    "1. Compute `Y_one_step_ahead` using `ar.phi` and `ar.YPast`, and `ar.epsilon`.\n",
    "    - `ar.phi@ar.YPast + ar.epsilon(1)`\n",
    "2. Update `YPast` by appending `Y_one_step_ahead` to `YPast` front and removing the last element of `YPast`.\n",
    "3. Update `ar.memroy` to remember `Y_one_step_ahead`."
   ]
  },
  {
   "cell_type": "markdown",
   "metadata": {},
   "source": [
    "$$ y_{t}=\\phi^{T}  y_{past} +\\epsilon  $$\n",
    "upate the past memory, when the next time we want to simulate.\n",
    "- y_{0} -> y_{1}\n",
    "- y_{-1} -> y_{0} \n",
    "- 通常叫一psudo code    "
   ]
  },
  {
   "cell_type": "markdown",
   "metadata": {},
   "source": [
    "- instance method \n",
    "  - must use instance itself    \n",
    "  - othter pararmeter are optional  "
   ]
  },
  {
   "cell_type": "code",
   "execution_count": null,
   "metadata": {},
   "outputs": [],
   "source": [
    "eps = ar.epsilon(1)\n",
    "\n",
    "# Simulate one period of ar process\n",
    "y_onePeriod_ahead = ar.phi@ar.YPast + eps\n",
    "\n",
    "# Update YPast\n",
    "ar.YPast = np.append(y_onePeriod_ahead, ar.YPast[:-1])  #n 前面一個數字 y_0 y_-1 踢出去y_-1 \n",
    "#### np.apend array 連接在一起  一個一個數字連接在一起\n",
    "## append the new element to the memory\n",
    "ar.memory = np.append(ar.memory, y_onePeriod_ahead)"
   ]
  },
  {
   "cell_type": "markdown",
   "metadata": {},
   "source": [
    "> In `Update YPast` step, we need to re-bind new past values back to `YPast` since the RHS operation is not a change under the hood operation. To keep the change, we need to re-bind the new values back to `YPast`."
   ]
  },
  {
   "cell_type": "code",
   "execution_count": null,
   "metadata": {},
   "outputs": [],
   "source": [
    "ar.YPast\n"
   ]
  },
  {
   "cell_type": "markdown",
   "metadata": {},
   "source": [
    "We can wrap up the above algorithm into a function that takes the `ar` instance as its **FIRST** input.\n",
    "\n",
    "> Instance must be its first input for later use as a method."
   ]
  },
  {
   "cell_type": "code",
   "execution_count": 29,
   "metadata": {},
   "outputs": [],
   "source": [
    "def simulate_onePeriod(ar, eps):\n",
    "\n",
    "    # Simulate one period of ar process\n",
    "    y_onePeriod_ahead = ar.phi@ar.YPast + eps\n",
    "\n",
    "    # Update YPast\n",
    "    ar.YPast = np.append(y_onePeriod_ahead, ar.YPast[:-1])\n",
    "\n",
    "    ## append the new element to the memory\n",
    "    ar.memory = np.append(ar.memory, y_onePeriod_ahead)"
   ]
  },
  {
   "cell_type": "markdown",
   "metadata": {},
   "source": [
    "> Notice the function can change the instance attributes under the hood."
   ]
  },
  {
   "cell_type": "markdown",
   "metadata": {},
   "source": [
    "### Test your helper function"
   ]
  },
  {
   "cell_type": "code",
   "execution_count": null,
   "metadata": {},
   "outputs": [],
   "source": [
    "ar = AR(0.8, -0.35, epsilon=epsilon, Y0=[0,0])\n",
    "ar.memory"
   ]
  },
  {
   "cell_type": "code",
   "execution_count": null,
   "metadata": {},
   "outputs": [],
   "source": [
    "simulate_onePeriod(ar, ar.epsilon(1))\n",
    "ar.memory"
   ]
  },
  {
   "cell_type": "code",
   "execution_count": 32,
   "metadata": {},
   "outputs": [],
   "source": [
    "import numpy as np\n",
    "### ypast is a former of y\n",
    "class AR:\n",
    "    def __init__(self, *phi, epsilon, Y0):\n",
    "        self.phi = np.array(phi)\n",
    "        self.epsilon = epsilon\n",
    "        self.Y0 = np.array(Y0)\n",
    "        self.memory = np.array([])\n",
    "        self.YPast = np.array(self.Y0)\n",
    "\n",
    "#### 基礎故事架構 接續method\n"
   ]
  },
  {
   "cell_type": "markdown",
   "metadata": {},
   "source": [
    "We can generalize it into n period simulation:"
   ]
  },
  {
   "cell_type": "code",
   "execution_count": 34,
   "metadata": {},
   "outputs": [],
   "source": [
    "# generate n periods of ar process\n",
    "#### 一次抽滿\n",
    "\n",
    "n=10\n",
    "eps = ar.epsilon(n)\n",
    "for i in range(n):\n",
    "    simulate_onePeriod(ar, eps[i])  ###eps[i] 一次一次 \n",
    "### ar memory 會累積起來    \n",
    "### ar.YPast 會更新  "
   ]
  },
  {
   "cell_type": "code",
   "execution_count": null,
   "metadata": {},
   "outputs": [],
   "source": [
    "def simulate_onePeriod(ar, n):\n",
    "    eps = ar.epsilon(n)\n",
    "    for i in range(n):\n",
    "        simulate_onePeriod(ar, eps[i])"
   ]
  },
  {
   "cell_type": "code",
   "execution_count": 35,
   "metadata": {},
   "outputs": [
    {
     "data": {
      "text/plain": [
       "array([-0.08040205,  0.07181124,  0.06809791, -0.50186577,  0.02746172,\n",
       "        0.41349535,  0.60526808,  0.71343671,  0.3747734 , -0.26043594,\n",
       "       -0.51856866, -0.42835258, -0.6288275 , -0.13624638,  0.05545356,\n",
       "        0.44537147,  0.22994838, -0.38184864, -1.51943531, -0.97678   ,\n",
       "       -0.06311178,  0.5630414 ,  1.2314709 ])"
      ]
     },
     "execution_count": 35,
     "metadata": {},
     "output_type": "execute_result"
    }
   ],
   "source": [
    "ar.memory"
   ]
  },
  {
   "cell_type": "markdown",
   "metadata": {},
   "source": [
    "### Helper functions"
   ]
  },
  {
   "cell_type": "code",
   "execution_count": null,
   "metadata": {},
   "outputs": [],
   "source": [
    "def simulate_onePeriod(ar, eps):\n",
    "    # Simulate one period of ar process\n",
    "    y_onePeriod_ahead = ar.phi@ar.YPast + eps\n",
    "\n",
    "    # Update YPast\n",
    "    ar.YPast = np.append(y_onePeriod_ahead, ar.YPast[:-1])\n",
    "\n",
    "    ## append the new element to the memory\n",
    "    ar.memory = np.append(ar.memory, y_onePeriod_ahead)\n",
    "\n",
    "def simulate_nPeriods(ar, n):\n",
    "    eps = ar.epsilon(n)\n",
    "    for i in range(n):\n",
    "        simulate_onePeriod(ar)\n"
   ]
  },
  {
   "cell_type": "markdown",
   "metadata": {},
   "source": [
    "In summary, to design your instance method:\n",
    "\n",
    "1. create an instance.\n",
    "2. use only the instance to lay out your algorithm.\n",
    "3. wrap up your algorithm into a function that takes the instance as its first input."
   ]
  },
  {
   "cell_type": "markdown",
   "metadata": {},
   "source": [
    "## For loop\n",
    "\n",
    "In for loops, ` in ...` where `...` must be an iterable -- check if it has `__iter__` method."
   ]
  },
  {
   "cell_type": "markdown",
   "metadata": {},
   "source": [
    "#### 1 Range\n",
    "\n",
    "- `range(n)` is an iterable that generates a sequence of integers from 0 to n-1. "
   ]
  },
  {
   "cell_type": "code",
   "execution_count": 45,
   "metadata": {},
   "outputs": [],
   "source": [
    "a =range(10)\n",
    "iter_a = a.__iter__() # obtain the iterator of a"
   ]
  },
  {
   "cell_type": "markdown",
   "metadata": {},
   "source": [
    "An iterator is an object that has `__next__` method. `__next__` method returns the next element in the sequence. If there is no next element, it raises `StopIteration` exception."
   ]
  },
  {
   "cell_type": "code",
   "execution_count": 49,
   "metadata": {},
   "outputs": [
    {
     "data": {
      "text/plain": [
       "3"
      ]
     },
     "execution_count": 49,
     "metadata": {},
     "output_type": "execute_result"
    }
   ],
   "source": [
    "iter_a.__next__()"
   ]
  },
  {
   "cell_type": "markdown",
   "metadata": {},
   "source": [
    "- It can `__next__()` from 0 to 9.\n",
    "- It means that `for i in range(10)` will have i take values from 0 to 9."
   ]
  },
  {
   "cell_type": "markdown",
   "metadata": {},
   "source": [
    "> `for i in  ...` basically run `i = ... .__next__()` for each loop until `StopIteration` exception is raised.\n",
    ">\n",
    "> So in our example, `simulate_onePeriod(ar)` will be called 10 times, and each time `i` will take values from 0 to 9."
   ]
  },
  {
   "cell_type": "markdown",
   "metadata": {},
   "source": [
    "In general a `for loop` can be expressed as:\n",
    "\n",
    "```\n",
    "for iterate(s) in iterable:\n",
    "    do something\n",
    "```\n",
    "\n",
    "- `iterate(s)` can be one or more variables. (`i` in our example)\n",
    "- `iterable` is an iterable object. (`range(10)` in our example)\n",
    "- `do something` is the code that will be executed for each iteration under different values of `iterate(s)`. (`simulate_onePeriod(ar)` in our example)\n",
    "- Each time the value of `iterate(s)` will be assigned as `iterate(s) = iterator.__next__()` where `iterator` comes from `iterable.__iter__()`. (`iterator = range(10).__iter__()` and `i = iterator.__next__()` in our example)"
   ]
  },
  {
   "cell_type": "markdown",
   "metadata": {},
   "source": [
    "#### 2 list"
   ]
  },
  {
   "cell_type": "code",
   "execution_count": null,
   "metadata": {},
   "outputs": [],
   "source": [
    "a = [\"apple\", \"banana\", \"orange\"]\n",
    "iter_a = a.__iter__() # obtain the iterator of a"
   ]
  },
  {
   "cell_type": "code",
   "execution_count": null,
   "metadata": {},
   "outputs": [],
   "source": [
    "iter_a.__next__()"
   ]
  },
  {
   "cell_type": "code",
   "execution_count": null,
   "metadata": {},
   "outputs": [],
   "source": [
    "for i in a:\n",
    "    print(i)"
   ]
  },
  {
   "cell_type": "markdown",
   "metadata": {},
   "source": [
    "- iterate `i`\n",
    "- iterable `a`\n",
    "- do something `print(i)`\n",
    "- each time `i=iterator.__next__()` where `iterator = a.__iter__()`"
   ]
  },
  {
   "cell_type": "markdown",
   "metadata": {},
   "source": [
    "#### 3 dictionary"
   ]
  },
  {
   "cell_type": "code",
   "execution_count": 50,
   "metadata": {},
   "outputs": [],
   "source": [
    "a = {\"name\": \"John\", \"age\": 36, \"country\": \"Norway\"}\n",
    "iter_a = a.__iter__() # obtain the iterator of a"
   ]
  },
  {
   "cell_type": "code",
   "execution_count": 52,
   "metadata": {},
   "outputs": [
    {
     "data": {
      "text/plain": [
       "'age'"
      ]
     },
     "execution_count": 52,
     "metadata": {},
     "output_type": "execute_result"
    }
   ],
   "source": [
    "iter_a.__next__()\n",
    "#### iterator its key"
   ]
  },
  {
   "cell_type": "code",
   "execution_count": null,
   "metadata": {},
   "outputs": [],
   "source": [
    "for key in a:\n",
    "    print(a[key])"
   ]
  },
  {
   "cell_type": "markdown",
   "metadata": {},
   "source": [
    "- iterate `k`\n",
    "- iterable `a`\n",
    "- do something `print(a[k])`\n",
    "- each time `k=iterator.__next__()` where `iterator = a.__iter__()`"
   ]
  },
  {
   "cell_type": "markdown",
   "metadata": {},
   "source": [
    "- dictionary has an `items()` method that returns an iterator that generates key-value pairs as tuples."
   ]
  },
  {
   "cell_type": "code",
   "execution_count": 54,
   "metadata": {},
   "outputs": [],
   "source": [
    "a_items = a.items()\n",
    "a_items_iter = a_items.__iter__()"
   ]
  },
  {
   "cell_type": "code",
   "execution_count": 55,
   "metadata": {},
   "outputs": [
    {
     "data": {
      "text/plain": [
       "dict_items([('name', 'John'), ('age', 36), ('country', 'Norway')])"
      ]
     },
     "execution_count": 55,
     "metadata": {},
     "output_type": "execute_result"
    }
   ],
   "source": [
    "a_items"
   ]
  },
  {
   "cell_type": "code",
   "execution_count": 58,
   "metadata": {},
   "outputs": [
    {
     "name": "stdout",
     "output_type": "stream",
     "text": [
      "('name', 'John')\n",
      "('age', 36)\n",
      "('country', 'Norway')\n"
     ]
    }
   ],
   "source": [
    "for i  in [('name', 'John'), ('age', 36), ('country', 'Norway')]:\n",
    "    print(i)"
   ]
  },
  {
   "cell_type": "code",
   "execution_count": 56,
   "metadata": {},
   "outputs": [
    {
     "data": {
      "text/plain": [
       "('name', 'John')"
      ]
     },
     "execution_count": 56,
     "metadata": {},
     "output_type": "execute_result"
    }
   ],
   "source": [
    "a_items_iter.__next__()\n",
    " #i=0 ('name', 'John')\n",
    " #i=1 ('age', 36)   \n",
    " #i=2 ('country', 'Norway')"
   ]
  },
  {
   "cell_type": "code",
   "execution_count": 57,
   "metadata": {},
   "outputs": [
    {
     "name": "stdout",
     "output_type": "stream",
     "text": [
      "name is John\n",
      "age is 36\n",
      "country is Norway\n"
     ]
    }
   ],
   "source": [
    "##- dictionary has an `items()` method \n",
    "##that returns an iterator that generates key-value pairs as tuples.\n",
    "a = {\"name\": \"John\", \"age\": 36, \"country\": \"Norway\"}\n",
    "for key, value in a.items():\n",
    "    print(f'{key} is {value}')"
   ]
  },
  {
   "cell_type": "code",
   "execution_count": 59,
   "metadata": {},
   "outputs": [],
   "source": [
    "iter_a = a.items().__iter__()\n",
    " # obtain the iterator of a"
   ]
  },
  {
   "cell_type": "code",
   "execution_count": 60,
   "metadata": {},
   "outputs": [
    {
     "data": {
      "text/plain": [
       "('name', 'John')"
      ]
     },
     "execution_count": 60,
     "metadata": {},
     "output_type": "execute_result"
    }
   ],
   "source": [
    "iter_a.__next__()"
   ]
  },
  {
   "cell_type": "code",
   "execution_count": 61,
   "metadata": {},
   "outputs": [
    {
     "data": {
      "text/plain": [
       "dict_keys(['name', 'age', 'country'])"
      ]
     },
     "execution_count": 61,
     "metadata": {},
     "output_type": "execute_result"
    }
   ],
   "source": [
    "a.keys()"
   ]
  },
  {
   "cell_type": "code",
   "execution_count": 62,
   "metadata": {},
   "outputs": [
    {
     "data": {
      "text/plain": [
       "dict_values(['John', 36, 'Norway'])"
      ]
     },
     "execution_count": 62,
     "metadata": {},
     "output_type": "execute_result"
    }
   ],
   "source": [
    "a.values()"
   ]
  },
  {
   "cell_type": "markdown",
   "metadata": {},
   "source": [
    "- iterates `key, value`\n",
    "- iterable `a.items()`\n",
    "- do something `print(f'{key} is {value}')`\n",
    "- each time `key, value = iterator.__next__()` where `iterator = a.items().__iter__()`. Here you can see that `iterator.__next__()` will return a tuple of two values representing a key-value pair. And `key, value` will be assigned to the two values in the tuple respectively -- a technique called **unpacking**.\n"
   ]
  },
  {
   "cell_type": "markdown",
   "metadata": {},
   "source": [
    "##### unpacking"
   ]
  },
  {
   "cell_type": "code",
   "execution_count": null,
   "metadata": {},
   "outputs": [],
   "source": [
    "# unpacking\n",
    "k, v = (\"name\", \"John\")\n",
    "print(k)\n",
    "print(v)"
   ]
  },
  {
   "cell_type": "markdown",
   "metadata": {},
   "source": [
    "> Instance as its FIRST input for later possible use as a method."
   ]
  },
  {
   "cell_type": "markdown",
   "metadata": {},
   "source": [
    "## Modulize your code\n",
    "\n",
    "Under you .ipynb location create `py/AR/univariate.py` file and copy the following code into it:\n"
   ]
  },
  {
   "cell_type": "code",
   "execution_count": 36,
   "metadata": {},
   "outputs": [],
   "source": [
    "import numpy as np\n",
    "\n",
    "class AR:\n",
    "    def __init__(self, *args, epsilon, Y0):\n",
    "        self.phi = np.array(args)\n",
    "        self.epsilon = epsilon\n",
    "        self.Y0 = np.array(Y0)\n",
    "        self.memory = np.array([])\n",
    "        self.YPast = np.array(self.Y0)\n",
    "    def simulate_nPeriods(self, n=1):\n",
    "        simulate_nPeriods(self, n)\n",
    "    def clear_memory(self):\n",
    "        self.memory = np.array([])\n",
    "\n",
    "# helpers\n",
    "### 這些method 前面都是ar 取出來的  eps, n 是而外的參數\n",
    "def simulate_onePeriod(ar, eps):\n",
    "    # Simulate one period of ar process\n",
    "    y_onePeriod_ahead = ar.phi@ar.YPast + eps\n",
    "\n",
    "    # Update YPast\n",
    "    ar.YPast = np.append(y_onePeriod_ahead, ar.YPast[:-1])\n",
    "\n",
    "    ## append the new element to the memory\n",
    "    ar.memory = np.append(ar.memory, y_onePeriod_ahead)\n",
    "\n",
    "def simulate_nPeriods(ar, n):\n",
    "    eps = ar.epsilon(n)\n",
    "    for i in range(n):\n",
    "        simulate_onePeriod(ar, eps[i])\n",
    "\n"
   ]
  },
  {
   "cell_type": "markdown",
   "metadata": {},
   "source": [
    "> Helper functions can be placed at the back of the file. This is because of the **lazy evaluation** property of functions. Functions are not evaluated until they are called. \n",
    ">\n",
    "> In other words, the order of function definition does not matter."
   ]
  },
  {
   "cell_type": "code",
   "execution_count": 44,
   "metadata": {},
   "outputs": [
    {
     "data": {
      "text/plain": [
       "[<matplotlib.lines.Line2D at 0x12f88b850>]"
      ]
     },
     "execution_count": 44,
     "metadata": {},
     "output_type": "execute_result"
    },
    {
     "data": {
      "text/plain": [
       "array([ 0.18010052, -0.32424935])"
      ]
     },
     "execution_count": 44,
     "metadata": {},
     "output_type": "execute_result"
    },
    {
     "data": {
      "image/png": "[encoded data removed]",
      "text/plain": [
       "<Figure size 640x480 with 1 Axes>"
      ]
     },
     "metadata": {},
     "output_type": "display_data"
    }
   ],
   "source": [
    "import matplotlib.pyplot as plt\n",
    "ar=AR(0.8, -0.35, epsilon=epsilon, Y0=[0,0])\n",
    "ar.simulate_nPeriods(20)\n",
    "plt.plot(ar.memory)\n",
    "ar.YPast"
   ]
  },
  {
   "cell_type": "code",
   "execution_count": null,
   "metadata": {},
   "outputs": [],
   "source": [
    "# import AR module\n",
    "from py.TimeSeries.ar import AR\n",
    "import numpy as np\n",
    "\n",
    "def Epsilon(mu, sigma, seed=None):\n",
    "    def draw(size):\n",
    "        if seed:\n",
    "            np.random.seed(seed)\n",
    "        return np.random.normal(mu, sigma, size)\n",
    "    return draw\n",
    "epsilon = Epsilon(0, 0.4)\n",
    "epsilon_withSeed = Epsilon(0, 0.4, seed=2023)\n"
   ]
  },
  {
   "cell_type": "code",
   "execution_count": null,
   "metadata": {},
   "outputs": [],
   "source": [
    "'without seed', epsilon(1), epsilon(10)"
   ]
  },
  {
   "cell_type": "code",
   "execution_count": null,
   "metadata": {},
   "outputs": [],
   "source": [
    "'with seed', epsilon_withSeed(1), epsilon_withSeed(10)"
   ]
  },
  {
   "cell_type": "markdown",
   "metadata": {},
   "source": [
    "> In most application, you should set seed for reproducible results."
   ]
  },
  {
   "cell_type": "code",
   "execution_count": null,
   "metadata": {},
   "outputs": [],
   "source": [
    "ar = AR(0.8, -0.35, epsilon=epsilon, Y0=[0,0])\n",
    "ar.simulate_nPeriods(10)\n",
    "ar.memory"
   ]
  },
  {
   "cell_type": "code",
   "execution_count": null,
   "metadata": {},
   "outputs": [],
   "source": [
    "ar_withSeed = AR(0.8, -0.35, epsilon=epsilon_withSeed, Y0=[0,0])\n",
    "ar_withSeed.simulate_nPeriods(10)\n",
    "ar_withSeed.memory"
   ]
  },
  {
   "cell_type": "markdown",
   "metadata": {},
   "source": [
    "- `from py.TimeSeries.ar import AR` look for `py/TimeSeries.ar.py` file from your current working directory. If you encounter `ModuleNotFoundError`, you can check your current working directory by `os.getcwd()` and make sure you are in the right directory."
   ]
  },
  {
   "cell_type": "code",
   "execution_count": null,
   "metadata": {},
   "outputs": [],
   "source": [
    "# check current working directory\n",
    "import os\n",
    "os.getcwd()"
   ]
  },
  {
   "cell_type": "markdown",
   "metadata": {},
   "source": [
    "> You can set you current working directory by `os.chdir(\"path/to/your/directory\")` so that `py/TimeSeries/ar.py` can be found under new current working directory."
   ]
  },
  {
   "cell_type": "code",
   "execution_count": null,
   "metadata": {},
   "outputs": [],
   "source": [
    "# graph the memory using plotly with x starts from 1\n",
    "import plotly.graph_objects as go\n",
    "\n",
    "fig = go.Figure()\n",
    "fig.add_trace(go.Scatter(x=np.arange(1, len(ar_withSeed.memory)+1), y=ar.memory))\n"
   ]
  },
  {
   "cell_type": "markdown",
   "metadata": {},
   "source": [
    "![ar2_10](img/ar2_10.png)"
   ]
  },
  {
   "cell_type": "markdown",
   "metadata": {},
   "source": [
    "# Random draw with seed"
   ]
  },
  {
   "cell_type": "code",
   "execution_count": null,
   "metadata": {},
   "outputs": [],
   "source": [
    "import random\n",
    "\n",
    "# Set the initial seed\n",
    "seed_value = 42\n",
    "\n",
    "\n",
    "# Generate and print the first random number\n",
    "print(random.random())\n",
    "\n",
    "# Store the state of the random number generator\n",
    "state = random.getstate()\n",
    "\n",
    "# Continue generating random numbers\n",
    "# ...\n",
    "\n",
    "# Restore the state to continue from where we left off\n",
    "random.setstate(state)\n",
    "\n",
    "# Generate and print the next random number\n",
    "print(random.random())\n"
   ]
  },
  {
   "cell_type": "markdown",
   "metadata": {},
   "source": [
    "# Exercise Central Limit Theorem\n",
    "\n",
    "Regarding sample mean, we have LLN:\n",
    "\n",
    "$$\n",
    "\\bar{X}_n \\xrightarrow{p} \\mu\n",
    "$$\n",
    "\n",
    "where $\\bar{X}_n = \\frac{1}{n} \\sum_{i=1}^n X_i$ and $X_i$ are i.i.d. random variables with mean $\\mu$ and variance $\\sigma^2$.\n",
    "\n",
    "And CLT says that the sum of many independent random variables will be approximately normally distributed. In math, \n",
    "\n",
    "$$\n",
    "\\frac{1}{\\sqrt{n}} \\sum_{i=1}^n (X_i - \\mu) \\xrightarrow{d} N(0, \\sigma^2)\n",
    "$$\n",
    "\n",
    "where $X_i$ are i.i.d. random variables with mean $\\mu$ and variance $\\sigma^2$."
   ]
  },
  {
   "cell_type": "code",
   "execution_count": null,
   "metadata": {},
   "outputs": [],
   "source": [
    "# random draw from an array with replacement\n",
    "import numpy as np\n",
    "np.random.choice([2, 4, 7], size=5, replace=True)\n",
    "\n",
    "# compute mean and variance, std of an array\n",
    "a = np.array([2, 4, 7])\n",
    "a.mean()\n",
    "a.var()\n",
    "a.std()"
   ]
  },
  {
   "cell_type": "markdown",
   "metadata": {},
   "source": [
    "## 1 `draw_x`\n",
    "\n",
    "Create a `draw_x` function that draws from a array of `[2, 7, 13]` with replacement.\n",
    "\n"
   ]
  },
  {
   "cell_type": "code",
   "execution_count": null,
   "metadata": {},
   "outputs": [],
   "source": [
    "draw_x(10) # return an array of 10 elements drawn from x with replacement"
   ]
  },
  {
   "cell_type": "markdown",
   "metadata": {},
   "source": [
    "## 2 Sample Mean Prototype\n",
    "\n",
    "Create a `SampleMean` class prototype that only has `__init__` method which defines at least the following instance attributes:\n",
    "\n",
    "- `self.mu`\n",
    "- `self.sigma`\n",
    "- `self.draw_x`\n",
    "- `self.memory = []`"
   ]
  },
  {
   "cell_type": "code",
   "execution_count": null,
   "metadata": {},
   "outputs": [],
   "source": [
    "sm = SampleMean(draw_x, mu, sigma)\n",
    "\n"
   ]
  },
  {
   "cell_type": "code",
   "execution_count": null,
   "metadata": {},
   "outputs": [],
   "source": [
    "def Draw_x(arr, seed=None):\n",
    "    def draw(size):\n",
    "        if seed:\n",
    "            np.random.seed(seed)\n",
    "        return np.random.choice(arr, size=size, replace=True)\n",
    "    return draw"
   ]
  },
  {
   "cell_type": "code",
   "execution_count": null,
   "metadata": {},
   "outputs": [],
   "source": [
    "from py.SampleMean.sample_mean import SampleMean"
   ]
  },
  {
   "cell_type": "code",
   "execution_count": null,
   "metadata": {},
   "outputs": [],
   "source": [
    "import numpy as np\n",
    "arr = np.array([2, 4, 7])\n",
    "draw_x = Draw_x(arr, seed=29390)\n",
    "\n",
    "draw_x(10)\n",
    "\n",
    "# standard deviation of an array\n",
    "arr.std()"
   ]
  },
  {
   "cell_type": "code",
   "execution_count": null,
   "metadata": {},
   "outputs": [],
   "source": [
    "sm = SampleMean(draw_x, mu=arr.mean(), sigma=arr.std())"
   ]
  },
  {
   "cell_type": "markdown",
   "metadata": {},
   "source": [
    "## 3\n",
    "\n",
    "sm.one_sample(n=1000)\n",
    "\n",
    "will return a tuple of \n",
    "\n",
    "$$(\\bar{X}_n, \\frac{\\bar{X}_n - \\mu}{\\sigma/\\sqrt{n}})$$\n",
    "\n",
    "and add that tuple to `sm.memory` array."
   ]
  },
  {
   "cell_type": "code",
   "execution_count": null,
   "metadata": {},
   "outputs": [],
   "source": [
    "n = 1000\n",
    "X = sm.draw_x(n)\n",
    "one_sample = (X.mean(), (X.mean() - sm.mu)/(sm.sigma/np.sqrt(n)))\n",
    "# append one_sample as one row to the memory\n"
   ]
  },
  {
   "cell_type": "code",
   "execution_count": null,
   "metadata": {},
   "outputs": [],
   "source": [
    "sm.memory.append(one_sample)"
   ]
  },
  {
   "cell_type": "code",
   "execution_count": null,
   "metadata": {},
   "outputs": [],
   "source": [
    "sm.memory"
   ]
  },
  {
   "cell_type": "code",
   "execution_count": null,
   "metadata": {},
   "outputs": [],
   "source": [
    "def one_sample(sm, n):\n",
    "    X = sm.draw_x(n)\n",
    "    return (X.mean() - sm.mu)/(sm.sigma/np.sqrt(n))"
   ]
  }
 ],
 "metadata": {
  "kernelspec": {
   "display_name": ".venv",
   "language": "python",
   "name": "python3"
  },
  "language_info": {
   "codemirror_mode": {
    "name": "ipython",
    "version": 3
   },
   "file_extension": ".py",
   "mimetype": "text/x-python",
   "name": "python",
   "nbconvert_exporter": "python",
   "pygments_lexer": "ipython3",
   "version": "3.11.5"
  }
 },
 "nbformat": 4,
 "nbformat_minor": 2
}
