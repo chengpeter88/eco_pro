{
 "cells": [
  {
   "cell_type": "code",
   "execution_count": null,
   "metadata": {},
   "outputs": [],
   "source": [
    "from week11_game import Player,Game\n",
    "##game 中有兩個player 的instance    \n",
    "alice = Player(\"Alice\", ['C', 'D'])\n",
    "bob = Player(\"Bob\", ['C', 'D'])\n",
    "payoffMatrix = {\n",
    "    ('C', 'C'): (-1, -1),\n",
    "    ('C', 'D'): (-3, 0),\n",
    "    ('D', 'C'): (0, -3),\n",
    "    ('D', 'D'): (-2, -2)\n",
    "}\n",
    "def payoff_func(strategies: tuple[str, str]) -> tuple[float, float]:\n",
    "    return payoffMatrix[strategies]\n",
    "\n",
    "game = Game(alice, bob, payoff_func)\n",
    "game.payoff"
   ]
  },
  {
   "cell_type": "code",
   "execution_count": null,
   "metadata": {},
   "outputs": [],
   "source": [
    "class Player:   \n",
    "    def __init__(self, name , ) -> None:\n",
    "        self.name =  None\n",
    "        self.strategies = None\n",
    "        self.playstrategies = None  \n",
    "\n",
    "class Game:\n",
    "    def __init__(self) -> None\n",
    "        self.player = None \n",
    "        self.payoffMatrix = None\n",
    "  "
   ]
  },
  {
   "cell_type": "markdown",
   "metadata": {},
   "source": [
    "payoffMatrix1 = [[-1, -3],[0, -2]]\n",
    "payoffMatrix2 = [[-1, 0],[-3, -2]]\n",
    "\n",
    "player1 = Player(\"Alice\", ['C', 'D'])\n",
    "player2 = Player(\"Bob\", ['C', 'D'])\n",
    "\n",
    "game = Game([player1, player2], [payoffMatrix1, payoffMatrix2])\n",
    "\n",
    "player1.play('C')\n",
    "player2.play('D')\n",
    "game.payoff()"
   ]
  },
  {
   "cell_type": "code",
   "execution_count": null,
   "metadata": {},
   "outputs": [],
   "source": [
    "payoffMatrix1 = [[-1, -3],[0, -2]]\n",
    "payoffMatrix2 = [[-1, 0],[-3, -2]]\n",
    "\n",
    "#interface \n",
    "player1.name\n",
    "player1.strategies\n",
    "player1.playstrategies\n",
    "\n",
    "player1 = Player(\"Alice\", ['C', 'D'])\n",
    "player2 = Player(\"Bob\", ['C', 'D'])\n",
    "\n",
    "game = Game([player1, player2], [payoffMatrix1, payoffMatrix2])\n",
    "\n",
    "player1.play('C')\n",
    "player2.play('D')\n",
    "game.payoff()\n"
   ]
  },
  {
   "cell_type": "code",
   "execution_count": null,
   "metadata": {},
   "outputs": [],
   "source": [
    "alice.name\n",
    "alice.strategies # show pure strategies of Alice\n",
    "alice.played_strategy # show played strategy of Alice, None by default\n",
    "alice.play('C')\n",
    "alice.played_strategy "
   ]
  },
  {
   "cell_type": "code",
   "execution_count": null,
   "metadata": {},
   "outputs": [],
   "source": [
    "class Player:\n",
    "    def __init__(self, player, strategy):\n",
    "        self.player = player\n",
    "        self.strategy = strategy\n",
    "        self.played_strategy = None\n",
    "\n",
    "    def play(self, played_strategy):\n",
    "        play_funtion(self, played_strategy)\n",
    "\n",
    "def play_funtion(player, played_strategy):\n",
    "    player.played_strategy = played_strategy\n"
   ]
  },
  {
   "cell_type": "code",
   "execution_count": null,
   "metadata": {},
   "outputs": [],
   "source": [
    "\n",
    "\n",
    "class Game:\n",
    "    def __init__(self, players: list, player_matrix: list):\n",
    "        self.players = players\n",
    "        self.player_matrix = player_matrix\n",
    "\n",
    "    def payoff(self):\n",
    "        strategy_indices = {'C': 0, 'D': 1}\n",
    "        p1_payoff = strategy_indices[self.players[0].played_strategy]\n",
    "        p2_payoff = strategy_indices[self.players[1].played_strategy]\n",
    "        payoffMatrix1 = self.player_matrix[0]   \n",
    "        payoffMatrix2 = self.player_matrix[1]   \n",
    "        payoff = (payoffMatrix1[p1_payoff][p2_payoff], payoffMatrix2[p1_payoff][p2_payoff])\n",
    "        return payoff\n",
    "\n"
   ]
  },
  {
   "cell_type": "code",
   "execution_count": null,
   "metadata": {},
   "outputs": [],
   "source": [
    "game.payoff()"
   ]
  },
  {
   "cell_type": "code",
   "execution_count": null,
   "metadata": {},
   "outputs": [],
   "source": []
  },
  {
   "cell_type": "code",
   "execution_count": null,
   "metadata": {},
   "outputs": [],
   "source": [
    "game.players[0].played_strategy , game.players[1].played_strategy"
   ]
  },
  {
   "cell_type": "code",
   "execution_count": null,
   "metadata": {},
   "outputs": [],
   "source": [
    "\n",
    "player1 = Player(\"Alice\", ['C', 'D'])\n",
    "player2 = Player(\"Bob\", ['C', 'D'])\n",
    "\n",
    "payoffMatrix1 = [[-1, -3],[0, -2]]\n",
    "payoffMatrix2 = [[-1, 0],[-3, -2]]\n",
    "\n",
    "game = Game([player1, player2], [payoffMatrix1, payoffMatrix2])\n",
    "player1.play('D')\n",
    "player2.play('C')\n",
    "print(game.payoff())"
   ]
  },
  {
   "cell_type": "code",
   "execution_count": null,
   "metadata": {},
   "outputs": [],
   "source": [
    "class Player:\n",
    "    def __init__(self, name: str, strategies: list[str]):\n",
    "        self.name = name\n",
    "        self.strategies = strategies\n",
    "        self.played_strategy = None\n",
    "    def play(self, played_strategy):\n",
    "        play_method(self, played_strategy)\n",
    "\n",
    "class Game:\n",
    "    def __init__(self, player1, player2, payoff_function):\n",
    "        self.players = [player1, player2]\n",
    "        self.payoff_function = payoff_function\n",
    "    def payoff(self):\n",
    "        payoff(self)\n",
    "\n",
    "# helper function\n",
    "def payoff(game):\n",
    "    played_strategies = game.players[0].played_strategy, game.players[1].played_strategy\n",
    "    if all(played_strategies):\n",
    "        # if both players have played their strategies\n",
    "        return game.payoff_function(played_strategies)\n",
    "    else:\n",
    "        print(\"Not all players have played their strategies yet.\")\n",
    "\n",
    "def play_method(player, played_strategy):\n",
    "    if played_strategy not in player.strategies:\n",
    "        raise ValueError(\"Invalid strategy\")\n",
    "    else:\n",
    "        player.played_strategy = played_strategy\n"
   ]
  },
  {
   "cell_type": "code",
   "execution_count": null,
   "metadata": {},
   "outputs": [],
   "source": [
    "player = Player(\"Alice\", ['C', 'D'])\n",
    "player2 = Player(\"Bob\", ['C', 'D'])\n",
    "player.play('M')"
   ]
  },
  {
   "cell_type": "code",
   "execution_count": null,
   "metadata": {},
   "outputs": [],
   "source": [
    "numbers = [1, 2, 3, 4, 5]\n",
    "squared_numbers = [x ** 2 for x in numbers]\n",
    "####前面做進行計算 後面做迭代   \n",
    "print(squared_numbers)\n",
    "# Output: [1, 4, 9, 16, 25]"
   ]
  },
  {
   "cell_type": "code",
   "execution_count": null,
   "metadata": {},
   "outputs": [],
   "source": [
    "#zip(numbers, squared_numbers)\n",
    "zipped = zip([\"a\", \"b\", \"c\"], [1, 2, 3])    \n",
    "zipped"
   ]
  },
  {
   "cell_type": "code",
   "execution_count": null,
   "metadata": {},
   "outputs": [],
   "source": [
    "type(zipped)"
   ]
  },
  {
   "cell_type": "code",
   "execution_count": null,
   "metadata": {},
   "outputs": [],
   "source": [
    "list(zipped)    "
   ]
  },
  {
   "cell_type": "code",
   "execution_count": null,
   "metadata": {},
   "outputs": [],
   "source": [
    "iter = zipped.__iter__()   "
   ]
  },
  {
   "cell_type": "markdown",
   "metadata": {},
   "source": [
    "- module\n",
    "- path\n",
    "  \n",
    "/Users/heng/Desktop/eco_programe/gamepy-main\n",
    "'/Users/heng/anaconda3/lib/python3.11/site-packages'"
   ]
  },
  {
   "cell_type": "code",
   "execution_count": 2,
   "metadata": {},
   "outputs": [
    {
     "name": "stdout",
     "output_type": "stream",
     "text": [
      "['/Users/heng/Desktop/eco_programe/eco_pro', '/Users/heng/anaconda3/lib/python311.zip', '/Users/heng/anaconda3/lib/python3.11', '/Users/heng/anaconda3/lib/python3.11/lib-dynload', '', '/Users/heng/anaconda3/lib/python3.11/site-packages', '/Users/heng/anaconda3/lib/python3.11/site-packages/aeosa']\n"
     ]
    }
   ],
   "source": [
    "import sys\n",
    "print(sys.path)   "
   ]
  },
  {
   "cell_type": "code",
   "execution_count": null,
   "metadata": {},
   "outputs": [],
   "source": [
    "import gamepy "
   ]
  },
  {
   "cell_type": "code",
   "execution_count": null,
   "metadata": {},
   "outputs": [],
   "source": [
    "import modulefinder"
   ]
  },
  {
   "cell_type": "code",
   "execution_count": null,
   "metadata": {},
   "outputs": [],
   "source": [
    "modulefinder"
   ]
  },
  {
   "cell_type": "code",
   "execution_count": null,
   "metadata": {},
   "outputs": [],
   "source": [
    "/Users/heng/anaconda3/lib/python3.11/site-packages"
   ]
  },
  {
   "cell_type": "code",
   "execution_count": null,
   "metadata": {},
   "outputs": [],
   "source": [
    "import gamepy"
   ]
  },
  {
   "cell_type": "code",
   "execution_count": 8,
   "metadata": {},
   "outputs": [
    {
     "data": {
      "text/plain": [
       "['/Users/heng/anaconda3/lib/python3.11/site-packages']"
      ]
     },
     "execution_count": 8,
     "metadata": {},
     "output_type": "execute_result"
    }
   ],
   "source": [
    "import site \n",
    "site.getsitepackages()"
   ]
  },
  {
   "cell_type": "code",
   "execution_count": 9,
   "metadata": {},
   "outputs": [
    {
     "data": {
      "text/plain": [
       "['/Users/heng/Desktop/eco_programe/eco_pro',\n",
       " '/Users/heng/anaconda3/lib/python311.zip',\n",
       " '/Users/heng/anaconda3/lib/python3.11',\n",
       " '/Users/heng/anaconda3/lib/python3.11/lib-dynload',\n",
       " '',\n",
       " '/Users/heng/anaconda3/lib/python3.11/site-packages',\n",
       " '/Users/heng/anaconda3/lib/python3.11/site-packages/aeosa',\n",
       " '/Users/heng/Desktop/eco_programe/gmamepy-main']"
      ]
     },
     "execution_count": 9,
     "metadata": {},
     "output_type": "execute_result"
    }
   ],
   "source": [
    "import sys\n",
    "sys.path"
   ]
  },
  {
   "cell_type": "code",
   "execution_count": 3,
   "metadata": {},
   "outputs": [],
   "source": [
    "sys.path.append(\"/Users/heng/Desktop/eco_programe/gmamepy-main\")"
   ]
  },
  {
   "cell_type": "code",
   "execution_count": 4,
   "metadata": {},
   "outputs": [
    {
     "data": {
      "text/plain": [
       "['/Users/heng/Desktop/eco_programe/eco_pro',\n",
       " '/Users/heng/anaconda3/lib/python311.zip',\n",
       " '/Users/heng/anaconda3/lib/python3.11',\n",
       " '/Users/heng/anaconda3/lib/python3.11/lib-dynload',\n",
       " '',\n",
       " '/Users/heng/anaconda3/lib/python3.11/site-packages',\n",
       " '/Users/heng/anaconda3/lib/python3.11/site-packages/aeosa',\n",
       " '/Users/heng/Desktop/eco_programe/gmamepy-main']"
      ]
     },
     "execution_count": 4,
     "metadata": {},
     "output_type": "execute_result"
    }
   ],
   "source": [
    "sys.path"
   ]
  },
  {
   "cell_type": "code",
   "execution_count": 11,
   "metadata": {},
   "outputs": [
    {
     "ename": "ModuleNotFoundError",
     "evalue": "No module named 'gamepy'",
     "output_type": "error",
     "traceback": [
      "\u001b[0;31m---------------------------------------------------------------------------\u001b[0m",
      "\u001b[0;31mModuleNotFoundError\u001b[0m                       Traceback (most recent call last)",
      "\u001b[1;32m/Users/heng/Desktop/eco_programe/eco_pro/week11.ipynb 儲存格 31\u001b[0m line \u001b[0;36m1\n\u001b[0;32m----> <a href='vscode-notebook-cell:/Users/heng/Desktop/eco_programe/eco_pro/week11.ipynb#Y121sZmlsZQ%3D%3D?line=0'>1</a>\u001b[0m \u001b[39mfrom\u001b[39;00m \u001b[39mgamepy\u001b[39;00m \u001b[39mimport\u001b[39;00m Player, Game\n",
      "\u001b[0;31mModuleNotFoundError\u001b[0m: No module named 'gamepy'"
     ]
    }
   ],
   "source": [
    "from gamepy import Player, Game"
   ]
  },
  {
   "cell_type": "code",
   "execution_count": 7,
   "metadata": {},
   "outputs": [
    {
     "ename": "FileNotFoundError",
     "evalue": "[Errno 2] No such file or directory: '/path/to/gamepy-main/__init__.py'",
     "output_type": "error",
     "traceback": [
      "\u001b[0;31m---------------------------------------------------------------------------\u001b[0m",
      "\u001b[0;31mFileNotFoundError\u001b[0m                         Traceback (most recent call last)",
      "\u001b[1;32m/Users/heng/Desktop/eco_programe/eco_pro/week11.ipynb 儲存格 31\u001b[0m line \u001b[0;36m4\n\u001b[1;32m      <a href='vscode-notebook-cell:/Users/heng/Desktop/eco_programe/eco_pro/week11.ipynb#Y123sZmlsZQ%3D%3D?line=1'>2</a>\u001b[0m spec \u001b[39m=\u001b[39m importlib\u001b[39m.\u001b[39mutil\u001b[39m.\u001b[39mspec_from_file_location(\u001b[39m\"\u001b[39m\u001b[39mgamepy\u001b[39m\u001b[39m\"\u001b[39m, \u001b[39m\"\u001b[39m\u001b[39m/path/to/gamepy-main/__init__.py\u001b[39m\u001b[39m\"\u001b[39m)\n\u001b[1;32m      <a href='vscode-notebook-cell:/Users/heng/Desktop/eco_programe/eco_pro/week11.ipynb#Y123sZmlsZQ%3D%3D?line=2'>3</a>\u001b[0m gamepy \u001b[39m=\u001b[39m importlib\u001b[39m.\u001b[39mutil\u001b[39m.\u001b[39mmodule_from_spec(spec)\n\u001b[0;32m----> <a href='vscode-notebook-cell:/Users/heng/Desktop/eco_programe/eco_pro/week11.ipynb#Y123sZmlsZQ%3D%3D?line=3'>4</a>\u001b[0m spec\u001b[39m.\u001b[39mloader\u001b[39m.\u001b[39mexec_module(gamepy)\n\u001b[1;32m      <a href='vscode-notebook-cell:/Users/heng/Desktop/eco_programe/eco_pro/week11.ipynb#Y123sZmlsZQ%3D%3D?line=4'>5</a>\u001b[0m Player \u001b[39m=\u001b[39m gamepy\u001b[39m.\u001b[39mPlayer\n\u001b[1;32m      <a href='vscode-notebook-cell:/Users/heng/Desktop/eco_programe/eco_pro/week11.ipynb#Y123sZmlsZQ%3D%3D?line=5'>6</a>\u001b[0m Game \u001b[39m=\u001b[39m gamepy\u001b[39m.\u001b[39mGame\n",
      "File \u001b[0;32m<frozen importlib._bootstrap_external>:936\u001b[0m, in \u001b[0;36mexec_module\u001b[0;34m(self, module)\u001b[0m\n",
      "File \u001b[0;32m<frozen importlib._bootstrap_external>:1073\u001b[0m, in \u001b[0;36mget_code\u001b[0;34m(self, fullname)\u001b[0m\n",
      "File \u001b[0;32m<frozen importlib._bootstrap_external>:1130\u001b[0m, in \u001b[0;36mget_data\u001b[0;34m(self, path)\u001b[0m\n",
      "\u001b[0;31mFileNotFoundError\u001b[0m: [Errno 2] No such file or directory: '/path/to/gamepy-main/__init__.py'"
     ]
    }
   ],
   "source": [
    "import importlib.util\n",
    "spec = importlib.util.spec_from_file_location(\"gamepy\", \"/path/to/gamepy-main/__init__.py\")\n",
    "gamepy = importlib.util.module_from_spec(spec)\n",
    "spec.loader.exec_module(gamepy)\n",
    "Player = gamepy.Player\n",
    "Game = gamepy.Game\n"
   ]
  },
  {
   "cell_type": "code",
   "execution_count": null,
   "metadata": {},
   "outputs": [],
   "source": [
    "import gmamepy"
   ]
  },
  {
   "cell_type": "code",
   "execution_count": 10,
   "metadata": {},
   "outputs": [
    {
     "ename": "ModuleNotFoundError",
     "evalue": "No module named 'gamepy'",
     "output_type": "error",
     "traceback": [
      "\u001b[0;31m---------------------------------------------------------------------------\u001b[0m",
      "\u001b[0;31mModuleNotFoundError\u001b[0m                       Traceback (most recent call last)",
      "\u001b[1;32m/Users/heng/Desktop/eco_programe/eco_pro/week11.ipynb 儲存格 33\u001b[0m line \u001b[0;36m1\n\u001b[0;32m----> <a href='vscode-notebook-cell:/Users/heng/Desktop/eco_programe/eco_pro/week11.ipynb#X41sZmlsZQ%3D%3D?line=0'>1</a>\u001b[0m \u001b[39mfrom\u001b[39;00m \u001b[39mgamepy\u001b[39;00m \u001b[39mimport\u001b[39;00m Player, Game\n",
      "\u001b[0;31mModuleNotFoundError\u001b[0m: No module named 'gamepy'"
     ]
    }
   ],
   "source": [
    "from gamepy import Player, Game"
   ]
  },
  {
   "cell_type": "code",
   "execution_count": 5,
   "metadata": {},
   "outputs": [
    {
     "data": {
      "text/plain": [
       "'/Users/heng/Desktop/eco_programe/eco_pro'"
      ]
     },
     "execution_count": 5,
     "metadata": {},
     "output_type": "execute_result"
    }
   ],
   "source": [
    "import os \n",
    "os.getcwd()"
   ]
  },
  {
   "cell_type": "markdown",
   "metadata": {},
   "source": [
    "- 架構使用者習慣 \n",
    "- 然後用class  instance  method "
   ]
  },
  {
   "cell_type": "markdown",
   "metadata": {},
   "source": []
  },
  {
   "cell_type": "code",
   "execution_count": 12,
   "metadata": {},
   "outputs": [
    {
     "data": {
      "text/plain": [
       "'/Users/heng/Desktop/eco_programe/eco_pro'"
      ]
     },
     "execution_count": 12,
     "metadata": {},
     "output_type": "execute_result"
    }
   ],
   "source": [
    "import os\n",
    "os.getcwd()"
   ]
  },
  {
   "cell_type": "code",
   "execution_count": 1,
   "metadata": {},
   "outputs": [
    {
     "name": "stdout",
     "output_type": "stream",
     "text": [
      "Please visit this URL to authorize this application: https://accounts.google.com/o/oauth2/auth?response_type=code&client_id=249611946901-5jrpdfrj23dl2klp5b6iea6014o6c1iq.apps.googleusercontent.com&redirect_uri=http%3A%2F%2Flocalhost%3A55686%2F&scope=https%3A%2F%2Fwww.googleapis.com%2Fauth%2Fspreadsheets.readonly&state=Jbz4yeL1qY92CrI4WLTs0gnOWr4ZLb&access_type=offline\n",
      "Name, Major:\n",
      "Alexandra, English\n",
      "Andrew, Math\n",
      "Anna, English\n",
      "Becky, Art\n",
      "Benjamin, English\n",
      "Carl, Art\n",
      "Carrie, English\n",
      "Dorothy, Math\n",
      "Dylan, Math\n",
      "Edward, English\n",
      "Ellen, Physics\n",
      "Fiona, Art\n",
      "John, Physics\n",
      "Jonathan, Math\n",
      "Joseph, English\n",
      "Josephine, Math\n",
      "Karen, English\n",
      "Kevin, Physics\n",
      "Lisa, Art\n",
      "Mary, Physics\n",
      "Maureen, Physics\n",
      "Nick, Art\n",
      "Olivia, Physics\n",
      "Pamela, Math\n",
      "Patrick, Art\n",
      "Robert, English\n",
      "Sean, Physics\n",
      "Stacy, Math\n",
      "Thomas, Art\n",
      "Will, Math\n"
     ]
    }
   ],
   "source": [
    "import os.path\n",
    "os.getcwd()\n",
    "\n",
    "from google.auth.transport.requests import Request\n",
    "from google.oauth2.credentials import Credentials\n",
    "from google_auth_oauthlib.flow import InstalledAppFlow\n",
    "from googleapiclient.discovery import build\n",
    "from googleapiclient.errors import HttpError\n",
    "\n",
    "# If modifying these scopes, delete the file token.json.\n",
    "SCOPES = [\"https://www.googleapis.com/auth/spreadsheets.readonly\"]\n",
    "\n",
    "# The ID and range of a sample spreadsheet.\n",
    "SAMPLE_SPREADSHEET_ID = \"1BxiMVs0XRA5nFMdKvBdBZjgmUUqptlbs74OgvE2upms\"\n",
    "SAMPLE_RANGE_NAME = \"Class Data!A2:E\"\n",
    "\n",
    "\n",
    "def main():\n",
    "  \"\"\"Shows basic usage of the Sheets API.\n",
    "  Prints values from a sample spreadsheet.\n",
    "  \"\"\"\n",
    "  creds = None\n",
    "  # The file token.json stores the user's access and refresh tokens, and is\n",
    "  # created automatically when the authorization flow completes for the first\n",
    "  # time.\n",
    "  if os.path.exists(\"token.json\"):\n",
    "    creds = Credentials.from_authorized_user_file(\"token.json\", SCOPES)\n",
    "  # If there are no (valid) credentials available, let the user log in.\n",
    "  if not creds or not creds.valid:\n",
    "    if creds and creds.expired and creds.refresh_token:\n",
    "      creds.refresh(Request())\n",
    "    else:\n",
    "      flow = InstalledAppFlow.from_client_secrets_file(\n",
    "          \"credentials.json\", SCOPES\n",
    "      )\n",
    "      creds = flow.run_local_server(port=0)\n",
    "    # Save the credentials for the next run\n",
    "    with open(\"token.json\", \"w\") as token:\n",
    "      token.write(creds.to_json())\n",
    "\n",
    "  try:\n",
    "    service = build(\"sheets\", \"v4\", credentials=creds)\n",
    "\n",
    "    # Call the Sheets API\n",
    "    sheet = service.spreadsheets()\n",
    "    result = (\n",
    "        sheet.values()\n",
    "        .get(spreadsheetId=SAMPLE_SPREADSHEET_ID, range=SAMPLE_RANGE_NAME)\n",
    "        .execute()\n",
    "    )\n",
    "    values = result.get(\"values\", [])\n",
    "\n",
    "    if not values:\n",
    "      print(\"No data found.\")\n",
    "      return\n",
    "\n",
    "    print(\"Name, Major:\")\n",
    "    for row in values:\n",
    "      # Print columns A and E, which correspond to indices 0 and 4.\n",
    "      print(f\"{row[0]}, {row[4]}\")\n",
    "  except HttpError as err:\n",
    "    print(err)\n",
    "\n",
    "\n",
    "if __name__ == \"__main__\":\n",
    "  main()"
   ]
  },
  {
   "cell_type": "code",
   "execution_count": null,
   "metadata": {},
   "outputs": [],
   "source": []
  },
  {
   "cell_type": "code",
   "execution_count": 4,
   "metadata": {},
   "outputs": [
    {
     "name": "stdout",
     "output_type": "stream",
     "text": [
      "this is key\n",
      "o---------\n",
      "  |  |  |\n"
     ]
    }
   ],
   "source": [
    "print(\"this is key\")\n",
    "print(\"o---------\")\n",
    "print(\"  |  |  |\")"
   ]
  },
  {
   "cell_type": "code",
   "execution_count": null,
   "metadata": {},
   "outputs": [],
   "source": [
    "club = \"GDSC-NTPU\"\n",
    "count = 20 \n",
    "\n",
    "print(f\"Welcome to {club}, we have {count} members.\")"
   ]
  },
  {
   "cell_type": "code",
   "execution_count": 6,
   "metadata": {},
   "outputs": [
    {
     "data": {
      "text/plain": [
       "'Hello, my name is John, I am 36 years old.'"
      ]
     },
     "execution_count": 6,
     "metadata": {},
     "output_type": "execute_result"
    }
   ],
   "source": [
    "class Person():\n",
    "    def __init__ (self, name, age):\n",
    "        self.name = name\n",
    "        self.age = age\n",
    "    def greet(self):\n",
    "        return  f\"Hello, my name is {self.name}, I am {self.age} years old.\"    \n",
    "    \n",
    "p1 = Person(\"John\", 36) \n",
    "p1.greet()"
   ]
  },
  {
   "cell_type": "code",
   "execution_count": 7,
   "metadata": {},
   "outputs": [
    {
     "name": "stdout",
     "output_type": "stream",
     "text": [
      "John 36 True\n"
     ]
    }
   ],
   "source": [
    "name = \"John\"\n",
    "age = 36    \n",
    "is_student = True   \n",
    "print(name, age, is_student)"
   ]
  },
  {
   "cell_type": "code",
   "execution_count": 11,
   "metadata": {},
   "outputs": [
    {
     "data": {
      "text/plain": [
       "100.0"
      ]
     },
     "execution_count": 11,
     "metadata": {},
     "output_type": "execute_result"
    }
   ],
   "source": [
    "class cd():\n",
    "    def __init__ (self, x, y, alpha):\n",
    "        self.x = x\n",
    "        self.y = y\n",
    "        self.alpha = alpha\n",
    "    def standard_cd(self):\n",
    "        return self.x**self.alpha*self.y**(1-self.alpha)\n",
    "\n",
    "cd1 = cd(100, 100, 0.5)\n",
    "cd1.standard_cd()"
   ]
  },
  {
   "cell_type": "code",
   "execution_count": 12,
   "metadata": {},
   "outputs": [
    {
     "name": "stdout",
     "output_type": "stream",
     "text": [
      "Hello, peter\n"
     ]
    }
   ],
   "source": [
    "user_name = input(\"Enter your name: \") \n",
    "print(\"Hello, \" + user_name) "
   ]
  },
  {
   "cell_type": "code",
   "execution_count": 16,
   "metadata": {},
   "outputs": [
    {
     "name": "stdout",
     "output_type": "stream",
     "text": [
      "peterlikesblue\n"
     ]
    }
   ],
   "source": [
    "user_name = input(\"Enter your name: \") \n",
    "user_color = input(\"Enter your favorite color: \")\n",
    "print(f\"{user_name } likes { user_color})"
   ]
  },
  {
   "cell_type": "code",
   "execution_count": 17,
   "metadata": {},
   "outputs": [],
   "source": [
    "text = '''\n",
    "\n",
    "This is a long text.\n",
    "'''"
   ]
  },
  {
   "cell_type": "code",
   "execution_count": 18,
   "metadata": {},
   "outputs": [
    {
     "data": {
      "text/plain": [
       "'\\n\\nThis is a long text.\\n'"
      ]
     },
     "execution_count": 18,
     "metadata": {},
     "output_type": "execute_result"
    }
   ],
   "source": [
    "text"
   ]
  },
  {
   "cell_type": "code",
   "execution_count": 2,
   "metadata": {},
   "outputs": [],
   "source": [
    "def ces(sigma):\n",
    "    def cd(x, y, alpha):\n",
    "        return ((x*alpha**(-sigma))+((1-alpha)*y**(-sigma))**(-1/sigma))**(-1/sigma)\n",
    "    return cd   "
   ]
  },
  {
   "cell_type": "code",
   "execution_count": 5,
   "metadata": {},
   "outputs": [
    {
     "name": "stdout",
     "output_type": "stream",
     "text": [
      "0.006603013732478872\n",
      "0.0066\n"
     ]
    }
   ],
   "source": [
    "# Create a CES function with sigma = 0.5\n",
    "ces_func = ces(0.5)\n",
    "\n",
    "# Use the CES function to calculate the output with x = 1, y = 1, alpha = 0.7\n",
    "output = ces_func(1, 1, 0.7)\n",
    "\n",
    "print(output)\n",
    "print(\"{:.4f}\".format(output))"
   ]
  },
  {
   "cell_type": "code",
   "execution_count": 6,
   "metadata": {},
   "outputs": [
    {
     "name": "stdout",
     "output_type": "stream",
     "text": [
      "It's a hot day\n"
     ]
    }
   ],
   "source": [
    "is_hot = True   \n",
    "is_cold = False \n",
    "\n",
    "if is_hot:  \n",
    "    print(\"It's a hot day\")\n",
    "elif is_cold:\n",
    "    print(\"It's a cold day\")\n",
    "\n"
   ]
  },
  {
   "cell_type": "code",
   "execution_count": 10,
   "metadata": {},
   "outputs": [],
   "source": [
    "age = 22\n",
    "is_male = False\n",
    "if age < 25 and is_male :\n",
    "    print(f\"your are young male \")"
   ]
  },
  {
   "cell_type": "code",
   "execution_count": 12,
   "metadata": {},
   "outputs": [
    {
     "name": "stdout",
     "output_type": "stream",
     "text": [
      "you are not rich\n"
     ]
    }
   ],
   "source": [
    "is_rich = True  \n",
    "if not is_rich:\n",
    "    print(\"you are not rich\")"
   ]
  },
  {
   "cell_type": "code",
   "execution_count": 18,
   "metadata": {},
   "outputs": [
    {
     "name": "stdout",
     "output_type": "stream",
     "text": [
      "eligible credits\n"
     ]
    }
   ],
   "source": [
    "money = 1000000\n",
    "credits = 800\n",
    "eligibility = \"eligible\" if money >100000 else \"not eligible\"\n",
    "credits = \"credits\" if  credits > 700 else \"not credits\"\n",
    "print(eligibility, credits)  "
   ]
  },
  {
   "cell_type": "code",
   "execution_count": 20,
   "metadata": {},
   "outputs": [
    {
     "name": "stdout",
     "output_type": "stream",
     "text": [
      "eligible for loan\n"
     ]
    }
   ],
   "source": [
    "money = 1000000\n",
    "credits = 800\n",
    "\n",
    "if  money >100000 and credits > 700:\n",
    "    print(\"eligible for loan\")\n",
    "else:\n",
    "    print(\"not eligible for loan\")"
   ]
  },
  {
   "cell_type": "code",
   "execution_count": 24,
   "metadata": {},
   "outputs": [
    {
     "ename": "ValueError",
     "evalue": "invalid literal for int() with base 10: 'aaa'",
     "output_type": "error",
     "traceback": [
      "\u001b[0;31m---------------------------------------------------------------------------\u001b[0m",
      "\u001b[0;31mValueError\u001b[0m                                Traceback (most recent call last)",
      "\u001b[1;32m/Users/heng/Desktop/eco_programe/eco_pro/week11.ipynb 儲存格 51\u001b[0m line \u001b[0;36m1\n\u001b[0;32m----> <a href='vscode-notebook-cell:/Users/heng/Desktop/eco_programe/eco_pro/week11.ipynb#Y100sZmlsZQ%3D%3D?line=0'>1</a>\u001b[0m first_number \u001b[39m=\u001b[39m \u001b[39mint\u001b[39m(\u001b[39minput\u001b[39m(\u001b[39m\"\u001b[39m\u001b[39mEnter first number: \u001b[39m\u001b[39m\"\u001b[39m))   \n\u001b[1;32m      <a href='vscode-notebook-cell:/Users/heng/Desktop/eco_programe/eco_pro/week11.ipynb#Y100sZmlsZQ%3D%3D?line=1'>2</a>\u001b[0m operator \u001b[39m=\u001b[39m \u001b[39minput\u001b[39m(\u001b[39m\"\u001b[39m\u001b[39mEnter operator: \u001b[39m\u001b[39m\"\u001b[39m)    \n\u001b[1;32m      <a href='vscode-notebook-cell:/Users/heng/Desktop/eco_programe/eco_pro/week11.ipynb#Y100sZmlsZQ%3D%3D?line=2'>3</a>\u001b[0m second_number \u001b[39m=\u001b[39m \u001b[39mint\u001b[39m(\u001b[39minput\u001b[39m(\u001b[39m\"\u001b[39m\u001b[39mEnter second number: \u001b[39m\u001b[39m\"\u001b[39m))\n",
      "\u001b[0;31mValueError\u001b[0m: invalid literal for int() with base 10: 'aaa'"
     ]
    }
   ],
   "source": [
    "first_number = int(input(\"Enter first number: \"))   \n",
    "operator = input(\"Enter operator: \")    \n",
    "second_number = int(input(\"Enter second number: \"))\n",
    "\n",
    "if operator == \"+\":\n",
    "    print(first_number + second_number)\n",
    "elif operator == \"-\":\n",
    "    print(first_number - second_number)\n",
    "elif operator == \"*\":\n",
    "    print(first_number * second_number)\n",
    "elif operator == \"/\":\n",
    "    print(first_number / second_number)\n",
    "else:\n",
    "    raise ValueError(\"Invalid operator\")    "
   ]
  },
  {
   "cell_type": "code",
   "execution_count": 27,
   "metadata": {},
   "outputs": [
    {
     "data": {
      "text/plain": [
       "'__main__'"
      ]
     },
     "execution_count": 27,
     "metadata": {},
     "output_type": "execute_result"
    }
   ],
   "source": [
    "class Consumer:\n",
    "    def __init__(self):\n",
    "        pass # do nothing\n",
    "\n",
    "ce = Consumer()\n"
   ]
  },
  {
   "cell_type": "code",
   "execution_count": 29,
   "metadata": {},
   "outputs": [],
   "source": [
    "class Consumer:\n",
    "    def __init__(self, beta, u):\n",
    "        self.beta = beta # self is mutable. \n",
    "        self.u = u\n",
    "    def saving(self, w, R):\n",
    "        return (self.beta/(1+self.beta))*w\n",
    "\n",
    "import numpy as np\n",
    "ce = Consumer(0.9, lambda c: np.log(c))\n"
   ]
  },
  {
   "cell_type": "code",
   "execution_count": 32,
   "metadata": {},
   "outputs": [
    {
     "data": {
      "text/plain": [
       "<method-wrapper '__ne__' of Consumer object at 0x107217510>"
      ]
     },
     "execution_count": 32,
     "metadata": {},
     "output_type": "execute_result"
    }
   ],
   "source": [
    "ce.beta\n",
    "ce.u(10)\n",
    "ce.saving(100, 0.1)"
   ]
  },
  {
   "cell_type": "code",
   "execution_count": 33,
   "metadata": {},
   "outputs": [
    {
     "data": {
      "text/plain": [
       "{'peter': 20, 'john': 30, 'mary': 40}"
      ]
     },
     "execution_count": 33,
     "metadata": {},
     "output_type": "execute_result"
    }
   ],
   "source": [
    "name = [\"peter\",\"john\",\"mary\"]  \n",
    "age = [20, 30, 40]  \n",
    "{k: v for k, v in zip(name, age)}"
   ]
  },
  {
   "cell_type": "code",
   "execution_count": 55,
   "metadata": {},
   "outputs": [
    {
     "name": "stdout",
     "output_type": "stream",
     "text": [
      "total is 100\n"
     ]
    }
   ],
   "source": [
    "cart = [10, 20 , 30, 40]\n",
    "total = 0   \n",
    "for price in cart:\n",
    "    total += price\n",
    "  \n",
    "\n",
    "print(f\"total is {total}\")\n"
   ]
  },
  {
   "cell_type": "code",
   "execution_count": 53,
   "metadata": {},
   "outputs": [
    {
     "name": "stdout",
     "output_type": "stream",
     "text": [
      "You lose!\n"
     ]
    }
   ],
   "source": [
    "### 只能猜三次  \n",
    "guess_time = 0\n",
    "answer = 5\n",
    "while guess_time  < 3:\n",
    "    user_guess = int(input(\"Guess: \"))  \n",
    "    guess_time += 1\n",
    "    if user_guess == answer:\n",
    "        print(\"You win!\")\n",
    "        break\n",
    "print(\"You lose!\")"
   ]
  },
  {
   "cell_type": "code",
   "execution_count": 54,
   "metadata": {},
   "outputs": [
    {
     "name": "stdout",
     "output_type": "stream",
     "text": [
      "You win!\n"
     ]
    }
   ],
   "source": [
    "guess_time = 0\n",
    "while guess_time  < 3:\n",
    "    guess = int(input(\"Guess: \"))\n",
    "    guess_time += 1\n",
    "    if guess == 9:\n",
    "        print(\"You win!\")\n",
    "        break\n"
   ]
  },
  {
   "cell_type": "code",
   "execution_count": 57,
   "metadata": {},
   "outputs": [],
   "source": [
    "class Player:\n",
    "    def __init__(self, name, strategies):\n",
    "        self.name = name\n",
    "        self.strategies = strategies\n",
    "        self.played_strategy = None\n",
    "    def play(self, strategy):\n",
    "        self.played_strategy = strategy\n",
    "        return strategy\n"
   ]
  },
  {
   "cell_type": "code",
   "execution_count": 63,
   "metadata": {},
   "outputs": [
    {
     "data": {
      "text/plain": [
       "'C'"
      ]
     },
     "execution_count": 63,
     "metadata": {},
     "output_type": "execute_result"
    }
   ],
   "source": [
    "\n",
    "playerA = Player(\"A\",[\"C\", \"D\"])   \n",
    "playerA.play(\"C\") \n",
    "playerA.played_strategy\n"
   ]
  },
  {
   "cell_type": "code",
   "execution_count": 64,
   "metadata": {},
   "outputs": [
    {
     "data": {
      "text/plain": [
       "'C'"
      ]
     },
     "execution_count": 64,
     "metadata": {},
     "output_type": "execute_result"
    }
   ],
   "source": [
    "playerA.played_strategy"
   ]
  },
  {
   "cell_type": "code",
   "execution_count": 72,
   "metadata": {},
   "outputs": [
    {
     "name": "stdout",
     "output_type": "stream",
     "text": [
      "55\n"
     ]
    }
   ],
   "source": [
    "num= [2, 3, 4,55]  \n",
    "\n",
    "def find_max(num_list):\n",
    "    max = 0 \n",
    "    for number in num_list:\n",
    "        if number > max:\n",
    "            max = number\n",
    "    print(max)\n",
    "\n",
    "find_max(num)   "
   ]
  },
  {
   "cell_type": "code",
   "execution_count": 70,
   "metadata": {},
   "outputs": [
    {
     "data": {
      "text/plain": [
       "'/Users/heng/Desktop/eco_programe/eco_pro'"
      ]
     },
     "execution_count": 70,
     "metadata": {},
     "output_type": "execute_result"
    }
   ],
   "source": [
    "import os \n",
    "os.getcwd() "
   ]
  },
  {
   "cell_type": "code",
   "execution_count": null,
   "metadata": {},
   "outputs": [],
   "source": []
  }
 ],
 "metadata": {
  "kernelspec": {
   "display_name": "base",
   "language": "python",
   "name": "python3"
  },
  "language_info": {
   "codemirror_mode": {
    "name": "ipython",
    "version": 3
   },
   "file_extension": ".py",
   "mimetype": "text/x-python",
   "name": "python",
   "nbconvert_exporter": "python",
   "pygments_lexer": "ipython3",
   "version": "3.11.5"
  }
 },
 "nbformat": 4,
 "nbformat_minor": 2
}
