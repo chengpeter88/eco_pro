{
 "cells": [
  {
   "cell_type": "code",
   "execution_count": 2,
   "metadata": {},
   "outputs": [
    {
     "data": {
      "text/plain": [
       "['/Users/heng/Desktop/eco_programe/eco_pro',\n",
       " '/Users/heng/anaconda3/lib/python311.zip',\n",
       " '/Users/heng/anaconda3/lib/python3.11',\n",
       " '/Users/heng/anaconda3/lib/python3.11/lib-dynload',\n",
       " '',\n",
       " '/Users/heng/anaconda3/lib/python3.11/site-packages',\n",
       " '/Users/heng/anaconda3/lib/python3.11/site-packages/aeosa',\n",
       " '/Library/Frameworks/Python.framework/Versions/3.10/lib/python3.10/site-packages',\n",
       " '/Users/heng/Desktop/eco_programe/eco_pro',\n",
       " '/Users/heng/Downloads']"
      ]
     },
     "execution_count": 2,
     "metadata": {},
     "output_type": "execute_result"
    }
   ],
   "source": [
    "import sys\n",
    "sys.path"
   ]
  },
  {
   "cell_type": "code",
   "execution_count": 1,
   "metadata": {},
   "outputs": [],
   "source": [
    "from gamepy.games import Games"
   ]
  },
  {
   "cell_type": "code",
   "execution_count": null,
   "metadata": {},
   "outputs": [],
   "source": [
    "player1."
   ]
  },
  {
   "cell_type": "code",
   "execution_count": 2,
   "metadata": {},
   "outputs": [
    {
     "ename": "KeyError",
     "evalue": "'g-1:r-t3'",
     "output_type": "error",
     "traceback": [
      "\u001b[0;31m---------------------------------------------------------------------------\u001b[0m",
      "\u001b[0;31mKeyError\u001b[0m                                  Traceback (most recent call last)",
      "Cell \u001b[0;32mIn[2], line 4\u001b[0m\n\u001b[1;32m      2\u001b[0m \u001b[38;5;66;03m#game2, (_, player2) = Games().new(\"g-1\")\u001b[39;00m\n\u001b[1;32m      3\u001b[0m player1\u001b[38;5;241m.\u001b[39mname\u001b[38;5;241m=\u001b[39m\u001b[38;5;124m\"\u001b[39m\u001b[38;5;124mpeter\u001b[39m\u001b[38;5;124m\"\u001b[39m\n\u001b[0;32m----> 4\u001b[0m player1\u001b[38;5;241m.\u001b[39mjoin(\u001b[38;5;124m\"\u001b[39m\u001b[38;5;124mr-t3\u001b[39m\u001b[38;5;124m\"\u001b[39m)\n",
      "File \u001b[0;32m~/Desktop/eco_programe/eco_pro/gamepy/games.py:19\u001b[0m, in \u001b[0;36mPlayer.join\u001b[0;34m(self, room_id)\u001b[0m\n\u001b[1;32m     17\u001b[0m game_room_id \u001b[38;5;241m=\u001b[39m \u001b[38;5;28mself\u001b[39m\u001b[38;5;241m.\u001b[39mgame_id \u001b[38;5;241m+\u001b[39m \u001b[38;5;124m\"\u001b[39m\u001b[38;5;124m:\u001b[39m\u001b[38;5;124m\"\u001b[39m \u001b[38;5;241m+\u001b[39m room_id\n\u001b[1;32m     18\u001b[0m \u001b[38;5;28;01mif\u001b[39;00m \u001b[38;5;28mself\u001b[39m\u001b[38;5;241m.\u001b[39misPlayer1:\n\u001b[0;32m---> 19\u001b[0m     game_room\u001b[38;5;241m.\u001b[39mregister_player1_name(game_room_id, \u001b[38;5;28mself\u001b[39m\u001b[38;5;241m.\u001b[39mname)\n\u001b[1;32m     20\u001b[0m \u001b[38;5;28;01melse\u001b[39;00m:\n\u001b[1;32m     21\u001b[0m     game_room\u001b[38;5;241m.\u001b[39mregister_player2_name(game_room_id, \u001b[38;5;28mself\u001b[39m\u001b[38;5;241m.\u001b[39mname)\n",
      "File \u001b[0;32m~/Desktop/eco_programe/eco_pro/gamepy/gamesheet/gameroom.py:29\u001b[0m, in \u001b[0;36mGameRoom.register_player1_name\u001b[0;34m(self, game_room_id, player1_name)\u001b[0m\n\u001b[1;32m     27\u001b[0m \u001b[38;5;28;01mdef\u001b[39;00m \u001b[38;5;21mregister_player1_name\u001b[39m(\u001b[38;5;28mself\u001b[39m, game_room_id, player1_name):\n\u001b[1;32m     28\u001b[0m     values \u001b[38;5;241m=\u001b[39m \u001b[38;5;28mself\u001b[39m\u001b[38;5;241m.\u001b[39m_create_values(GameRoomIndex\u001b[38;5;241m.\u001b[39mplayer1_id, player1_name)\n\u001b[0;32m---> 29\u001b[0m     row_index \u001b[38;5;241m=\u001b[39m \u001b[38;5;28mself\u001b[39m\u001b[38;5;241m.\u001b[39mrecord[game_room_id]\n\u001b[1;32m     30\u001b[0m     \u001b[38;5;28mself\u001b[39m\u001b[38;5;241m.\u001b[39m_update(row_index, values)\n\u001b[1;32m     31\u001b[0m     \u001b[38;5;28;01mreturn\u001b[39;00m \u001b[38;5;28mself\u001b[39m\n",
      "\u001b[0;31mKeyError\u001b[0m: 'g-1:r-t3'"
     ]
    }
   ],
   "source": [
    "game ,(player1,_) = Games().new(\"g-1\")\n",
    "#game2, (_, player2) = Games().new(\"g-1\")\n",
    "player1.name=\"peter\"\n",
    "player1.join(\"r-t3\")"
   ]
  },
  {
   "cell_type": "code",
   "execution_count": 4,
   "metadata": {},
   "outputs": [
    {
     "ename": "KeyError",
     "evalue": "'g-1:r-t3'",
     "output_type": "error",
     "traceback": [
      "\u001b[0;31m---------------------------------------------------------------------------\u001b[0m",
      "\u001b[0;31mKeyError\u001b[0m                                  Traceback (most recent call last)",
      "Cell \u001b[0;32mIn[4], line 4\u001b[0m\n\u001b[1;32m      2\u001b[0m \u001b[38;5;66;03m#game2, (_, player2) = Games().new(\"g-1\")\u001b[39;00m\n\u001b[1;32m      3\u001b[0m player2\u001b[38;5;241m.\u001b[39mname\u001b[38;5;241m=\u001b[39m\u001b[38;5;124m\"\u001b[39m\u001b[38;5;124mpeter\u001b[39m\u001b[38;5;124m\"\u001b[39m\n\u001b[0;32m----> 4\u001b[0m player2\u001b[38;5;241m.\u001b[39mjoin(\u001b[38;5;124m\"\u001b[39m\u001b[38;5;124mr-t3\u001b[39m\u001b[38;5;124m\"\u001b[39m)\n",
      "File \u001b[0;32m~/Desktop/eco_programe/eco_pro/gamepy/games.py:21\u001b[0m, in \u001b[0;36mPlayer.join\u001b[0;34m(self, room_id)\u001b[0m\n\u001b[1;32m     19\u001b[0m     game_room\u001b[38;5;241m.\u001b[39mregister_player1_name(game_room_id, \u001b[38;5;28mself\u001b[39m\u001b[38;5;241m.\u001b[39mname)\n\u001b[1;32m     20\u001b[0m \u001b[38;5;28;01melse\u001b[39;00m:\n\u001b[0;32m---> 21\u001b[0m     game_room\u001b[38;5;241m.\u001b[39mregister_player2_name(game_room_id, \u001b[38;5;28mself\u001b[39m\u001b[38;5;241m.\u001b[39mname)\n",
      "File \u001b[0;32m~/Desktop/eco_programe/eco_pro/gamepy/gamesheet/gameroom.py:35\u001b[0m, in \u001b[0;36mGameRoom.register_player2_name\u001b[0;34m(self, game_room_id, player2_name)\u001b[0m\n\u001b[1;32m     33\u001b[0m values \u001b[38;5;241m=\u001b[39m [\u001b[38;5;28;01mNone\u001b[39;00m]\u001b[38;5;241m*\u001b[39m(GameRoomIndex\u001b[38;5;241m.\u001b[39mplayer2_id\u001b[38;5;241m+\u001b[39m\u001b[38;5;241m1\u001b[39m)\n\u001b[1;32m     34\u001b[0m values[GameRoomIndex\u001b[38;5;241m.\u001b[39mplayer2_id] \u001b[38;5;241m=\u001b[39m player2_name\n\u001b[0;32m---> 35\u001b[0m row_index \u001b[38;5;241m=\u001b[39m \u001b[38;5;28mself\u001b[39m\u001b[38;5;241m.\u001b[39mrecord[game_room_id]\n\u001b[1;32m     36\u001b[0m \u001b[38;5;28mself\u001b[39m\u001b[38;5;241m.\u001b[39m_update(row_index, values)\n",
      "\u001b[0;31mKeyError\u001b[0m: 'g-1:r-t3'"
     ]
    }
   ],
   "source": [
    "game ,(_,player2) = Games().new(\"g-1\")\n",
    "#game2, (_, player2) = Games().new(\"g-1\")\n",
    "player2.name=\"peter\"\n",
    "player2.join(\"r-t3\")"
   ]
  },
  {
   "cell_type": "code",
   "execution_count": 11,
   "metadata": {},
   "outputs": [],
   "source": [
    "#game , (_,player2) = Games().new(\"g-1\")\n",
    "game2, (_, player2) = Games().new(\"g-1\")\n",
    "player2.name=\"somebody\"\n",
    "player2.join(\"r-19\")"
   ]
  },
  {
   "cell_type": "code",
   "execution_count": 3,
   "metadata": {},
   "outputs": [],
   "source": [
    "game.create_room(\"r-bb\")\n",
    "player1.name = \"master\" \n",
    "player1.join(\"r-bb\")    \n"
   ]
  },
  {
   "cell_type": "code",
   "execution_count": 3,
   "metadata": {},
   "outputs": [],
   "source": [
    "game.create_room(\"r-19\")"
   ]
  },
  {
   "cell_type": "code",
   "execution_count": 5,
   "metadata": {},
   "outputs": [],
   "source": [
    "game, (_,player2) = Games().new(\"g-1\")\n",
    "player2.name=\"bob\"\n",
    "player2.join(\"r-19\")"
   ]
  },
  {
   "cell_type": "code",
   "execution_count": 4,
   "metadata": {},
   "outputs": [],
   "source": [
    "player1.name=\"peter\"\n",
    "player1.join(\"r-19\")"
   ]
  },
  {
   "cell_type": "code",
   "execution_count": 14,
   "metadata": {},
   "outputs": [],
   "source": [
    "player1.play(\"D\")\n"
   ]
  },
  {
   "cell_type": "code",
   "execution_count": 15,
   "metadata": {},
   "outputs": [],
   "source": [
    "player2.play(\"C\")"
   ]
  },
  {
   "cell_type": "code",
   "execution_count": 16,
   "metadata": {},
   "outputs": [
    {
     "ename": "AttributeError",
     "evalue": "'Player' object has no attribute 'payoff'",
     "output_type": "error",
     "traceback": [
      "\u001b[0;31m---------------------------------------------------------------------------\u001b[0m",
      "\u001b[0;31mAttributeError\u001b[0m                            Traceback (most recent call last)",
      "Cell \u001b[0;32mIn[16], line 1\u001b[0m\n\u001b[0;32m----> 1\u001b[0m player1\u001b[38;5;241m.\u001b[39mpayoff()\n",
      "\u001b[0;31mAttributeError\u001b[0m: 'Player' object has no attribute 'payoff'"
     ]
    }
   ],
   "source": [
    "player1.payoff()"
   ]
  },
  {
   "cell_type": "code",
   "execution_count": 2,
   "metadata": {},
   "outputs": [],
   "source": [
    "game, (player1, _) = Games().new(\"g-1\")\n",
    "# create a room\n",
    "game, (_,player2) = Games().new(\"g-1\")\n",
    "game.create_room(\"r-12\")\n",
    "player1.name=\"Alice\"\n",
    "player1.join(\"r-12\")\n",
    "player2.name=\"bob\""
   ]
  },
  {
   "cell_type": "code",
   "execution_count": 3,
   "metadata": {},
   "outputs": [],
   "source": [
    "player2.join(\"r-12\")"
   ]
  },
  {
   "cell_type": "code",
   "execution_count": 5,
   "metadata": {},
   "outputs": [],
   "source": [
    "player1.play(\"C\")"
   ]
  },
  {
   "cell_type": "code",
   "execution_count": 6,
   "metadata": {},
   "outputs": [],
   "source": [
    "player2.play(\"C\")"
   ]
  },
  {
   "cell_type": "code",
   "execution_count": 7,
   "metadata": {},
   "outputs": [
    {
     "ename": "AttributeError",
     "evalue": "'Player' object has no attribute 'payoff'",
     "output_type": "error",
     "traceback": [
      "\u001b[0;31m---------------------------------------------------------------------------\u001b[0m",
      "\u001b[0;31mAttributeError\u001b[0m                            Traceback (most recent call last)",
      "Cell \u001b[0;32mIn[7], line 1\u001b[0m\n\u001b[0;32m----> 1\u001b[0m player1\u001b[38;5;241m.\u001b[39mpayoff()\n",
      "\u001b[0;31mAttributeError\u001b[0m: 'Player' object has no attribute 'payoff'"
     ]
    }
   ],
   "source": [
    "player1.payoff()    "
   ]
  },
  {
   "cell_type": "code",
   "execution_count": 1,
   "metadata": {},
   "outputs": [
    {
     "name": "stdout",
     "output_type": "stream",
     "text": [
      "Please visit this URL to authorize this application: https://accounts.google.com/o/oauth2/auth?response_type=code&client_id=249611946901-5jrpdfrj23dl2klp5b6iea6014o6c1iq.apps.googleusercontent.com&redirect_uri=http%3A%2F%2Flocalhost%3A49815%2F&scope=https%3A%2F%2Fwww.googleapis.com%2Fauth%2Fspreadsheets&state=MSpD8uDA4UtjaGE7N3aRvWBvTGoV46&access_type=offline\n"
     ]
    }
   ],
   "source": [
    "from gamepy.games import Games"
   ]
  },
  {
   "cell_type": "code",
   "execution_count": 2,
   "metadata": {},
   "outputs": [
    {
     "ename": "KeyError",
     "evalue": "'g-1:r-b1x'",
     "output_type": "error",
     "traceback": [
      "\u001b[0;31m---------------------------------------------------------------------------\u001b[0m",
      "\u001b[0;31mKeyError\u001b[0m                                  Traceback (most recent call last)",
      "Cell \u001b[0;32mIn[2], line 4\u001b[0m\n\u001b[1;32m      1\u001b[0m game ,(_,player2) \u001b[38;5;241m=\u001b[39m Games()\u001b[38;5;241m.\u001b[39mnew(\u001b[38;5;124m\"\u001b[39m\u001b[38;5;124mg-1\u001b[39m\u001b[38;5;124m\"\u001b[39m)\n\u001b[1;32m      3\u001b[0m player2\u001b[38;5;241m.\u001b[39mname\u001b[38;5;241m=\u001b[39m\u001b[38;5;124m\"\u001b[39m\u001b[38;5;124mpeter\u001b[39m\u001b[38;5;124m\"\u001b[39m\n\u001b[0;32m----> 4\u001b[0m player2\u001b[38;5;241m.\u001b[39mjoin(\u001b[38;5;124m\"\u001b[39m\u001b[38;5;124mr-b1x\u001b[39m\u001b[38;5;124m\"\u001b[39m)\n",
      "File \u001b[0;32m~/Desktop/eco_programe/eco_pro/gamepy/games.py:21\u001b[0m, in \u001b[0;36mPlayer.join\u001b[0;34m(self, room_id)\u001b[0m\n\u001b[1;32m     19\u001b[0m     game_room\u001b[38;5;241m.\u001b[39mregister_player1_name(game_room_id, \u001b[38;5;28mself\u001b[39m\u001b[38;5;241m.\u001b[39mname)\n\u001b[1;32m     20\u001b[0m \u001b[38;5;28;01melse\u001b[39;00m:\n\u001b[0;32m---> 21\u001b[0m     game_room\u001b[38;5;241m.\u001b[39mregister_player2_name(game_room_id, \u001b[38;5;28mself\u001b[39m\u001b[38;5;241m.\u001b[39mname)\n",
      "File \u001b[0;32m~/Desktop/eco_programe/eco_pro/gamepy/gamesheet/gameroom.py:35\u001b[0m, in \u001b[0;36mGameRoom.register_player2_name\u001b[0;34m(self, game_room_id, player2_name)\u001b[0m\n\u001b[1;32m     33\u001b[0m values \u001b[38;5;241m=\u001b[39m [\u001b[38;5;28;01mNone\u001b[39;00m]\u001b[38;5;241m*\u001b[39m(GameRoomIndex\u001b[38;5;241m.\u001b[39mplayer2_id\u001b[38;5;241m+\u001b[39m\u001b[38;5;241m1\u001b[39m)\n\u001b[1;32m     34\u001b[0m values[GameRoomIndex\u001b[38;5;241m.\u001b[39mplayer2_id] \u001b[38;5;241m=\u001b[39m player2_name\n\u001b[0;32m---> 35\u001b[0m row_index \u001b[38;5;241m=\u001b[39m \u001b[38;5;28mself\u001b[39m\u001b[38;5;241m.\u001b[39mrecord[game_room_id]\n\u001b[1;32m     36\u001b[0m \u001b[38;5;28mself\u001b[39m\u001b[38;5;241m.\u001b[39m_update(row_index, values)\n",
      "\u001b[0;31mKeyError\u001b[0m: 'g-1:r-b1x'"
     ]
    }
   ],
   "source": [
    "game ,(_,player2) = Games().new(\"g-1\")\n",
    "\n",
    "player2.name=\"peter\"\n",
    "player2.join(\"r-b1x\") "
   ]
  },
  {
   "cell_type": "code",
   "execution_count": null,
   "metadata": {},
   "outputs": [],
   "source": []
  }
 ],
 "metadata": {
  "kernelspec": {
   "display_name": "base",
   "language": "python",
   "name": "python3"
  },
  "language_info": {
   "codemirror_mode": {
    "name": "ipython",
    "version": 3
   },
   "file_extension": ".py",
   "mimetype": "text/x-python",
   "name": "python",
   "nbconvert_exporter": "python",
   "pygments_lexer": "ipython3",
   "version": "3.11.5"
  }
 },
 "nbformat": 4,
 "nbformat_minor": 2
}
